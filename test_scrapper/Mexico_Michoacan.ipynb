{
 "metadata": {
  "language_info": {
   "codemirror_mode": {
    "name": "ipython",
    "version": 3
   },
   "file_extension": ".py",
   "mimetype": "text/x-python",
   "name": "python",
   "nbconvert_exporter": "python",
   "pygments_lexer": "ipython3",
   "version": "3.8.5"
  },
  "orig_nbformat": 2,
  "kernelspec": {
   "name": "python3",
   "display_name": "Python 3.8.5 64-bit ('scraping-clacso': conda)",
   "metadata": {
    "interpreter": {
     "hash": "95bb600096007ab9f567dd294a4f24ed256a7f8cd3baa781798d9a0497e2540f"
    }
   }
  }
 },
 "nbformat": 4,
 "nbformat_minor": 2,
 "cells": [
  {
   "cell_type": "code",
   "execution_count": null,
   "metadata": {},
   "outputs": [],
   "source": [
    "import pandas as pd\n",
    "import numpy as np\n",
    "import requests\n",
    "from bs4 import BeautifulSoup\n",
    "from lxml import html\n",
    "import scrapy\n",
    "from time import sleep\n",
    "import urllib3\n",
    "import json\n",
    "from selenium import webdriver\n",
    "import random"
   ]
  },
  {
   "cell_type": "code",
   "execution_count": null,
   "metadata": {},
   "outputs": [],
   "source": [
    "def parser(link):\n",
    "\n",
    "    encabezados = {\n",
    "    'user-agent': 'Mozilla/5.0 (X11; Linux x86_64) AppleWebKit/537.36 (KHTML, like Gecko) Chrome/44.0.2403.157 Safari/537.36'\n",
    "    }\n",
    "\n",
    "    resp = requests.get(link, headers=encabezados, verify=False)\n",
    "    resp = resp.text\n",
    "\n",
    "    #soup = get_Soup('https://minciencias.gov.co/convocatorias/todas')\n",
    "    parser = html.fromstring(resp)\n",
    "    urllib3.disable_warnings()\n",
    "\n",
    "    return parser"
   ]
  },
  {
   "cell_type": "code",
   "execution_count": null,
   "metadata": {},
   "outputs": [],
   "source": [
    "def mexico_michoacan(estados):\n",
    "\n",
    "    michoacan = pd.DataFrame()\n",
    "    pdfs = []\n",
    "    descripciones = []\n",
    "    links = []\n",
    "    titulos = []\n",
    "    fechas = []\n",
    "\n",
    "    pdf_proyecto = ''\n",
    "    descripcion_proyecto = ''\n",
    "\n",
    "    ### Por paginación\n",
    "\n",
    "    for estado in estados:\n",
    "        parser_proyectos = parser(estado)\n",
    "\n",
    "        #Link\n",
    "\n",
    "        links_proyectos = parser_proyectos.xpath('//a[@class=\"image\"]/@href')\n",
    "        \n",
    "        # titulos\n",
    "        titulos_proyectos= parser_proyectos.xpath('//h2/text()')[1::]\n",
    "\n",
    "        # Fechas\n",
    "        fechas_brutas_proyectos = parser_proyectos.xpath('//p[@class=\"text-center\"]/text()')\n",
    "\n",
    "        fechas_brutas = []\n",
    "        for f in fechas_brutas_proyectos:\n",
    "            fechas_brutas.append(f.strip())\n",
    "\n",
    "        links += links_proyectos\n",
    "        titulos += titulos_proyectos\n",
    "        fechas += fechas_brutas\n",
    "\n",
    "\n",
    "    #### Proyecto por proyecto\n",
    "    #pdfs\n",
    "    #descripción\n",
    "\n",
    "    for link in links:\n",
    "        \n",
    "        try:\n",
    "            parser_proyectos = parser(link)\n",
    "\n",
    "            #pdfs\n",
    "            pdf_proyecto_bruto = parser_proyectos.xpath('//p//a//@href')\n",
    "            pdf_proyecto = ''\n",
    "            for p in pdf_proyecto_bruto:\n",
    "                if '.pdf' in p:\n",
    "                    pdf_proyecto = pdf_proyecto + p + ', '\n",
    "            pdf_proyecto = pdf_proyecto.strip(', ')\n",
    "\n",
    "            #Descripcion\n",
    "            descripcion_proyecto_bruto = parser_proyectos.xpath('//div[@class=\"description\"]//p/text()')\n",
    "            descripcion_proyecto = ''\n",
    "            for desc in descripcion_proyecto_bruto:\n",
    "                desc = desc.strip()\n",
    "                descripcion_proyecto = descripcion_proyecto + desc + ' '\n",
    "\n",
    "            pdfs.append(pdf_proyecto)\n",
    "            descripciones.append(descripcion_proyecto.strip())\n",
    "        except:\n",
    "            pdfs.append(pdf_proyecto)\n",
    "            descripciones.append(descripcion_proyecto)\n",
    "\n",
    "    michoacan['Link'] = links\n",
    "    michoacan['Titulo'] = titulos\n",
    "    michoacan['Fecha Cierre'] = fechas\n",
    "    michoacan['Descripción'] = descripciones\n",
    "    michoacan['Pdfs'] = pdfs\n",
    "\n",
    "    return michoacan\n"
   ]
  },
  {
   "cell_type": "code",
   "execution_count": null,
   "metadata": {},
   "outputs": [],
   "source": [
    "estados = ['https://icti.michoacan.gob.mx/categoria/convocatorias/page/2/', 'https://icti.michoacan.gob.mx/categoria/convocatorias/', 'https://icti.michoacan.gob.mx/categoria/convocatorias/page/3/','https://icti.michoacan.gob.mx/categoria/convocatorias/page/4/', 'https://icti.michoacan.gob.mx/categoria/convocatorias/page/5/']\n",
    "\n",
    "\n",
    "michoacan = mexico_michoacan(estados)\n",
    "michoacan.to_excel('Mexico_Michoacan.xlsx')"
   ]
  }
 ]
}