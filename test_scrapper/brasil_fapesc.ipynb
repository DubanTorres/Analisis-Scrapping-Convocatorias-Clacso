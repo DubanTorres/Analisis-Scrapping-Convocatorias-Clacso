{
 "metadata": {
  "language_info": {
   "codemirror_mode": {
    "name": "ipython",
    "version": 3
   },
   "file_extension": ".py",
   "mimetype": "text/x-python",
   "name": "python",
   "nbconvert_exporter": "python",
   "pygments_lexer": "ipython3",
   "version": "3.8.5"
  },
  "orig_nbformat": 2,
  "kernelspec": {
   "name": "python385jvsc74a57bd095bb600096007ab9f567dd294a4f24ed256a7f8cd3baa781798d9a0497e2540f",
   "display_name": "Python 3.8.5 64-bit ('scraping-clacso': conda)"
  }
 },
 "nbformat": 4,
 "nbformat_minor": 2,
 "cells": [
  {
   "cell_type": "code",
   "execution_count": 1,
   "metadata": {},
   "outputs": [],
   "source": [
    "import pandas as pd\n",
    "import numpy as np\n",
    "import requests\n",
    "from bs4 import BeautifulSoup\n",
    "from lxml import html\n",
    "import scrapy\n",
    "from time import sleep\n",
    "import urllib3\n",
    "import json\n",
    "from selenium import webdriver\n",
    "import random"
   ]
  },
  {
   "cell_type": "code",
   "execution_count": 2,
   "metadata": {},
   "outputs": [],
   "source": [
    "def parser(link):\n",
    "\n",
    "    encabezados = {\n",
    "    'user-agent': 'Mozilla/5.0 (X11; Linux x86_64) AppleWebKit/537.36 (KHTML, like Gecko) Chrome/44.0.2403.157 Safari/537.36'\n",
    "    }\n",
    "\n",
    "    resp = requests.get(link, headers=encabezados, verify=False)\n",
    "    resp = resp.text\n",
    "\n",
    "    #soup = get_Soup('https://minciencias.gov.co/convocatorias/todas')\n",
    "    parser = html.fromstring(resp)\n",
    "    urllib3.disable_warnings()\n",
    "\n",
    "    return parser"
   ]
  },
  {
   "cell_type": "code",
   "execution_count": 3,
   "metadata": {},
   "outputs": [],
   "source": [
    "estados = ['https://www.fapesc.sc.gov.br/category/chamadas-abertas/', 'https://www.fapesc.sc.gov.br/category/chamadas-encerradas/', 'https://www.fapesc.sc.gov.br/category/chamadas-em-andamento/']"
   ]
  },
  {
   "cell_type": "code",
   "execution_count": 12,
   "metadata": {},
   "outputs": [
    {
     "output_type": "execute_result",
     "data": {
      "text/plain": [
       "['https://www.fapesc.sc.gov.br/category/chamadas-abertas/page/1/',\n",
       " 'https://www.fapesc.sc.gov.br/category/chamadas-abertas/page/2/',\n",
       " 'https://www.fapesc.sc.gov.br/category/chamadas-encerradas/page/1/',\n",
       " 'https://www.fapesc.sc.gov.br/category/chamadas-encerradas/page/2/',\n",
       " 'https://www.fapesc.sc.gov.br/category/chamadas-encerradas/page/3/',\n",
       " 'https://www.fapesc.sc.gov.br/category/chamadas-encerradas/page/4/',\n",
       " 'https://www.fapesc.sc.gov.br/category/chamadas-encerradas/page/5/',\n",
       " 'https://www.fapesc.sc.gov.br/category/chamadas-encerradas/page/6/',\n",
       " 'https://www.fapesc.sc.gov.br/category/chamadas-encerradas/page/7/',\n",
       " 'https://www.fapesc.sc.gov.br/category/chamadas-encerradas/page/8/',\n",
       " 'https://www.fapesc.sc.gov.br/category/chamadas-encerradas/page/9/',\n",
       " 'https://www.fapesc.sc.gov.br/category/chamadas-encerradas/page/10/',\n",
       " 'https://www.fapesc.sc.gov.br/category/chamadas-encerradas/page/11/',\n",
       " 'https://www.fapesc.sc.gov.br/category/chamadas-encerradas/page/12/',\n",
       " 'https://www.fapesc.sc.gov.br/category/chamadas-encerradas/page/13/',\n",
       " 'https://www.fapesc.sc.gov.br/category/chamadas-em-andamento/page/1/',\n",
       " 'https://www.fapesc.sc.gov.br/category/chamadas-em-andamento/page/2/']"
      ]
     },
     "metadata": {},
     "execution_count": 12
    }
   ],
   "source": [
    "links_pages_estados = []\n",
    "\n",
    "for estado in estados:\n",
    "\n",
    "    parser_estado = parser(estado)\n",
    "\n",
    "    ult_page = parser_estado.xpath('//div[@class=\"pagination\"]//@href')[-1].split('page/')[1].split('/')[0]\n",
    "\n",
    "#####################\n",
    "\n",
    "    base = estado\n",
    "\n",
    "    for i in range(0, int(ult_page)):\n",
    "        link_estado = base +'page/' + str(i+1) + '/'\n",
    "        links_pages_estados.append(link_estado)\n",
    "\n",
    "\n",
    "links_pages_estados"
   ]
  },
  {
   "cell_type": "code",
   "execution_count": 21,
   "metadata": {},
   "outputs": [],
   "source": [
    "fapesc= pd.DataFrame()\n",
    "\n",
    "for link in links_pages_estados: \n",
    "    parser_pag_proyecto = parser(link)\n",
    "\n",
    "    link_proyectos = parser_pag_proyecto.xpath('//div[@class=\"content\"]//h2/a/@href')\n",
    "\n",
    "    titulo_proyectos = parser_pag_proyecto.xpath('//div[@class=\"content\"]//h2/a/text()')\n",
    "\n",
    "    ano_bruto = parser_pag_proyecto.xpath('//p[@class=\"post-meta\"]//span/text()')\n",
    "    ano_proyectos = []\n",
    "    for a in ano_bruto:\n",
    "        a = a.split('de ')[2]\n",
    "        ano_proyectos.append(a)\n",
    "\n",
    "    if 'encerradas' in link:\n",
    "        estado = 'Cerrada'\n",
    "    if 'abertas' in link:\n",
    "        estado = 'Abierta'\n",
    "    if 'andamento' in link:\n",
    "        estado = 'En evaluación'\n",
    "\n",
    "    fapesc_pag = pd.DataFrame()\n",
    "    fapesc_pag['Título'] = titulo_proyectos\n",
    "    fapesc_pag['Año'] = ano_proyectos\n",
    "    fapesc_pag['Link Proyecto'] = link_proyectos\n",
    "    fapesc_pag['Estado'] = estado\n",
    "\n",
    "    fapesc = pd.concat([fapesc, fapesc_pag])\n",
    "\n",
    "fapesc= fapesc.reset_index(drop=True)"
   ]
  },
  {
   "cell_type": "code",
   "execution_count": 22,
   "metadata": {},
   "outputs": [
    {
     "output_type": "execute_result",
     "data": {
      "text/plain": [
       "                                                Título   Año  \\\n",
       "0    Suplemento de Chamada Pública Fapesc nº 18/202...  2021   \n",
       "1    Suplemento de Chamada Pública Fapesc nº 17/202...  2021   \n",
       "2    Edital de Chamada Pública Fapesc nº 16/2021 – ...  2021   \n",
       "3    Edital de Chamada Pública Fapesc nº 15/2021 – ...  2021   \n",
       "4    Edital de Chamada Pública Fapesc nº 14/2021 – ...  2021   \n",
       "..                                                 ...   ...   \n",
       "144  Edital de Chamada Pública Fapesc nº 16/2020 – ...  2020   \n",
       "145  Edital de Chamada Pública Fapesc nº 12/2020 – ...  2020   \n",
       "146  Chamada Conjunta Internacional FAPESC/CONFAP/H...  2020   \n",
       "147  “Italy – Brazil Joint Science and Technology C...  2019   \n",
       "148  Edital de Chamada Pública FAPESC nº 08/2019 – ...  2019   \n",
       "\n",
       "                                         Link Proyecto         Estado  \n",
       "0    https://www.fapesc.sc.gov.br/suplemento-de-cha...        Abierta  \n",
       "1    https://www.fapesc.sc.gov.br/suplemento-de-cha...        Abierta  \n",
       "2    https://www.fapesc.sc.gov.br/edital-de-chamada...        Abierta  \n",
       "3    https://www.fapesc.sc.gov.br/edital-de-chamada...        Abierta  \n",
       "4    https://www.fapesc.sc.gov.br/edital-de-chamada...        Abierta  \n",
       "..                                                 ...            ...  \n",
       "144  https://www.fapesc.sc.gov.br/edital-de-chamada...  En evaluación  \n",
       "145  https://www.fapesc.sc.gov.br/edital-de-chamada...  En evaluación  \n",
       "146  https://www.fapesc.sc.gov.br/chamada-conjunta-...  En evaluación  \n",
       "147  https://www.fapesc.sc.gov.br/confap-e-maeci-la...  En evaluación  \n",
       "148  https://www.fapesc.sc.gov.br/chamada-publica-f...  En evaluación  \n",
       "\n",
       "[149 rows x 4 columns]"
      ],
      "text/html": "<div>\n<style scoped>\n    .dataframe tbody tr th:only-of-type {\n        vertical-align: middle;\n    }\n\n    .dataframe tbody tr th {\n        vertical-align: top;\n    }\n\n    .dataframe thead th {\n        text-align: right;\n    }\n</style>\n<table border=\"1\" class=\"dataframe\">\n  <thead>\n    <tr style=\"text-align: right;\">\n      <th></th>\n      <th>Título</th>\n      <th>Año</th>\n      <th>Link Proyecto</th>\n      <th>Estado</th>\n    </tr>\n  </thead>\n  <tbody>\n    <tr>\n      <th>0</th>\n      <td>Suplemento de Chamada Pública Fapesc nº 18/202...</td>\n      <td>2021</td>\n      <td>https://www.fapesc.sc.gov.br/suplemento-de-cha...</td>\n      <td>Abierta</td>\n    </tr>\n    <tr>\n      <th>1</th>\n      <td>Suplemento de Chamada Pública Fapesc nº 17/202...</td>\n      <td>2021</td>\n      <td>https://www.fapesc.sc.gov.br/suplemento-de-cha...</td>\n      <td>Abierta</td>\n    </tr>\n    <tr>\n      <th>2</th>\n      <td>Edital de Chamada Pública Fapesc nº 16/2021 – ...</td>\n      <td>2021</td>\n      <td>https://www.fapesc.sc.gov.br/edital-de-chamada...</td>\n      <td>Abierta</td>\n    </tr>\n    <tr>\n      <th>3</th>\n      <td>Edital de Chamada Pública Fapesc nº 15/2021 – ...</td>\n      <td>2021</td>\n      <td>https://www.fapesc.sc.gov.br/edital-de-chamada...</td>\n      <td>Abierta</td>\n    </tr>\n    <tr>\n      <th>4</th>\n      <td>Edital de Chamada Pública Fapesc nº 14/2021 – ...</td>\n      <td>2021</td>\n      <td>https://www.fapesc.sc.gov.br/edital-de-chamada...</td>\n      <td>Abierta</td>\n    </tr>\n    <tr>\n      <th>...</th>\n      <td>...</td>\n      <td>...</td>\n      <td>...</td>\n      <td>...</td>\n    </tr>\n    <tr>\n      <th>144</th>\n      <td>Edital de Chamada Pública Fapesc nº 16/2020 – ...</td>\n      <td>2020</td>\n      <td>https://www.fapesc.sc.gov.br/edital-de-chamada...</td>\n      <td>En evaluación</td>\n    </tr>\n    <tr>\n      <th>145</th>\n      <td>Edital de Chamada Pública Fapesc nº 12/2020 – ...</td>\n      <td>2020</td>\n      <td>https://www.fapesc.sc.gov.br/edital-de-chamada...</td>\n      <td>En evaluación</td>\n    </tr>\n    <tr>\n      <th>146</th>\n      <td>Chamada Conjunta Internacional FAPESC/CONFAP/H...</td>\n      <td>2020</td>\n      <td>https://www.fapesc.sc.gov.br/chamada-conjunta-...</td>\n      <td>En evaluación</td>\n    </tr>\n    <tr>\n      <th>147</th>\n      <td>“Italy – Brazil Joint Science and Technology C...</td>\n      <td>2019</td>\n      <td>https://www.fapesc.sc.gov.br/confap-e-maeci-la...</td>\n      <td>En evaluación</td>\n    </tr>\n    <tr>\n      <th>148</th>\n      <td>Edital de Chamada Pública FAPESC nº 08/2019 – ...</td>\n      <td>2019</td>\n      <td>https://www.fapesc.sc.gov.br/chamada-publica-f...</td>\n      <td>En evaluación</td>\n    </tr>\n  </tbody>\n</table>\n<p>149 rows × 4 columns</p>\n</div>"
     },
     "metadata": {},
     "execution_count": 22
    }
   ],
   "source": [
    "fapesc"
   ]
  },
  {
   "cell_type": "code",
   "execution_count": 32,
   "metadata": {},
   "outputs": [],
   "source": [
    "descripcion_proyectos = []\n",
    "pdfs_proyectos = []\n",
    "\n",
    "for link in fapesc['Link Proyecto']:\n",
    "\n",
    "    parser_proyecto = parser(link)\n",
    "\n",
    "    descripcion_bruta = parser_proyecto.xpath('//div[@class=\"entry\"]//p/text()')\n",
    "\n",
    "    descripcion = ''\n",
    "    for d in descripcion_bruta:\n",
    "        descripcion = descripcion + d + ' '\n",
    "\n",
    "    pdfs_bruta = parser_proyecto.xpath('//div[@class=\"entry\"]//p/a/@href')\n",
    "\n",
    "    pdfs = ''\n",
    "    for p in pdfs_bruta:\n",
    "        if p.endswith('.pdf'):\n",
    "            pdfs = pdfs + p + ', '\n",
    "\n",
    "    descripcion_proyectos.append(descripcion.strip(' '))\n",
    "    pdfs_proyectos.append(pdfs.strip(', '))\n",
    "\n",
    "fapesc['PDFs'] = pdfs_proyectos\n",
    "fapesc['Descripción'] = descripcion_proyectos"
   ]
  },
  {
   "cell_type": "code",
   "execution_count": 38,
   "metadata": {},
   "outputs": [],
   "source": [
    "fapesc.to_excel('brasil_fapesc.xlsx')"
   ]
  },
  {
   "cell_type": "code",
   "execution_count": null,
   "metadata": {},
   "outputs": [],
   "source": []
  }
 ]
}