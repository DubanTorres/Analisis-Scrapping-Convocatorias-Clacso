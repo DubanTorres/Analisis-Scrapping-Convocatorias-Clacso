{
 "metadata": {
  "language_info": {
   "codemirror_mode": {
    "name": "ipython",
    "version": 3
   },
   "file_extension": ".py",
   "mimetype": "text/x-python",
   "name": "python",
   "nbconvert_exporter": "python",
   "pygments_lexer": "ipython3",
   "version": "3.8.5"
  },
  "orig_nbformat": 2,
  "kernelspec": {
   "name": "python3",
   "display_name": "Python 3.8.5 64-bit ('scraping-clacso': conda)",
   "metadata": {
    "interpreter": {
     "hash": "95bb600096007ab9f567dd294a4f24ed256a7f8cd3baa781798d9a0497e2540f"
    }
   }
  }
 },
 "nbformat": 4,
 "nbformat_minor": 2,
 "cells": [
  {
   "cell_type": "code",
   "execution_count": null,
   "metadata": {},
   "outputs": [],
   "source": [
    "import pandas as pd\n",
    "import numpy as np\n",
    "import requests\n",
    "from bs4 import BeautifulSoup\n",
    "from lxml import html\n",
    "import scrapy\n",
    "from time import sleep\n",
    "import urllib3\n",
    "import json\n",
    "from selenium import webdriver\n",
    "import random"
   ]
  },
  {
   "cell_type": "code",
   "execution_count": null,
   "metadata": {},
   "outputs": [],
   "source": [
    "def parser(link):\n",
    "\n",
    "    encabezados = {\n",
    "    'user-agent': 'Mozilla/5.0 (X11; Linux x86_64) AppleWebKit/537.36 (KHTML, like Gecko) Chrome/44.0.2403.157 Safari/537.36'\n",
    "    }\n",
    "\n",
    "    resp = requests.get(link, headers=encabezados, verify=False)\n",
    "    resp = resp.text\n",
    "\n",
    "    #soup = get_Soup('https://minciencias.gov.co/convocatorias/todas')\n",
    "    parser = html.fromstring(resp)\n",
    "    urllib3.disable_warnings()\n",
    "\n",
    "    return parser"
   ]
  },
  {
   "cell_type": "code",
   "execution_count": null,
   "metadata": {},
   "outputs": [],
   "source": [
    "abiertos = 'http://www.fundect.ms.gov.br/editais/abertos/abertos_nacionais/'\n",
    "cerrados =  'http://www.fundect.ms.gov.br/editais/encerrados/encerrados-nacionais/'"
   ]
  },
  {
   "cell_type": "code",
   "execution_count": null,
   "metadata": {},
   "outputs": [],
   "source": [
    "#CErrados\n",
    "\n",
    "estado = 'cerrado'\n",
    "\n",
    "parser_programas_cerrados = parser(cerrados)\n",
    "links_programas_cerrados = parser_programas_cerrados.xpath('//div[@class=\"entry\"]//li/a/@href')\n"
   ]
  },
  {
   "cell_type": "code",
   "execution_count": null,
   "metadata": {},
   "outputs": [],
   "source": [
    "titulos_programas = []\n",
    "titulos_proyectos = []\n",
    "descripcion_programas = []\n",
    "pdfs_proyectos = []\n",
    "\n",
    "for programa_cerrado in links_programas_cerrados:\n",
    "\n",
    "    func = pd.DataFrame()\n",
    "    parser_programa_cerrado = parser(programa_cerrado)\n",
    "\n",
    "    titulo_programa = parser_programa_cerrado.xpath('//div[@class=\"titulo\"]//h1[@class=\"page-title text-center\"]//text()')\n",
    "\n",
    "    descripcion_programa = parser_programa_cerrado.xpath('//div[@class=\"entry\"]//h4//text()')\n",
    "\n",
    "    titulo_proyecto = parser_programa_cerrado.xpath('//div[@class=\"entry\"]//li/a/text()')\n",
    "\n",
    "    pdf_proyecto = parser_programa_cerrado.xpath('//div[@class=\"entry\"]//li/a/@href')\n",
    "\n",
    "    titulos_programas.append(titulo_programa[0])\n",
    "    descripcion_programas.append(descripcion_programa)\n",
    "    titulos_proyectos.append(titulo_proyecto)\n",
    "    pdfs_proyectos.append(pdf_proyecto)"
   ]
  },
  {
   "cell_type": "code",
   "execution_count": 17,
   "metadata": {},
   "outputs": [],
   "source": [
    "desc_pro = []\n",
    "\n",
    "for desc in descripcion_programas:\n",
    "    if len(desc) == 0:\n",
    "        desc_pro.append('')\n",
    "    else:\n",
    "        descripcion_programa = ''\n",
    "        for d in desc:\n",
    "            descripcion_programa = descripcion_programa + d + ' '\n",
    "\n",
    "        desc_pro.append(descripcion_programa)\n",
    "\n"
   ]
  },
  {
   "cell_type": "code",
   "execution_count": 24,
   "metadata": {},
   "outputs": [],
   "source": [
    "fundect = pd.DataFrame()\n",
    "\n",
    "n = 0\n",
    "#while n <= \n",
    "for i in range(len(pdfs_proyectos)):\n",
    "    func = pd.DataFrame()\n",
    "\n",
    "    func['Titulo'] = titulos_proyectos[i]\n",
    "    func['pdfs'] = pdfs_proyectos[i]\n",
    "    func['Descripción programa']= desc_pro[i]\n",
    "    func['Titulo Programa'] = titulos_programas[i]\n",
    "    func['Estado'] = 'Cerrado'\n",
    "\n",
    "\n",
    "    fundect = pd.concat([fundect, func])\n",
    "\n",
    "fundect = fundect.reset_index(drop=True)\n",
    "fundect.to_excel('brasil_fundect.xlsx')"
   ]
  }
 ]
}