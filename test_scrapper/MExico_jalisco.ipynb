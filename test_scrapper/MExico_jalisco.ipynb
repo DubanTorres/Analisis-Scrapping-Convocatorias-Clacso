{
 "metadata": {
  "language_info": {
   "codemirror_mode": {
    "name": "ipython",
    "version": 3
   },
   "file_extension": ".py",
   "mimetype": "text/x-python",
   "name": "python",
   "nbconvert_exporter": "python",
   "pygments_lexer": "ipython3",
   "version": "3.8.5-final"
  },
  "orig_nbformat": 2,
  "kernelspec": {
   "name": "python3",
   "display_name": "Python 3.8.5 64-bit ('scraping-clacso': conda)",
   "metadata": {
    "interpreter": {
     "hash": "95bb600096007ab9f567dd294a4f24ed256a7f8cd3baa781798d9a0497e2540f"
    }
   }
  }
 },
 "nbformat": 4,
 "nbformat_minor": 2,
 "cells": [
  {
   "cell_type": "code",
   "execution_count": 12,
   "metadata": {},
   "outputs": [],
   "source": [
    "import pandas as pd\n",
    "import numpy as np\n",
    "import requests\n",
    "from bs4 import BeautifulSoup\n",
    "from lxml import html\n",
    "import scrapy\n",
    "from time import sleep\n",
    "import urllib3\n",
    "import json\n",
    "from selenium import webdriver\n",
    "import random"
   ]
  },
  {
   "cell_type": "code",
   "execution_count": 13,
   "metadata": {},
   "outputs": [],
   "source": [
    "def mexico_jalisco(link):\n",
    "    jalisco = pd.DataFrame()\n",
    "    titulos = []\n",
    "    pdfs_proyectos = []\n",
    "\n",
    "    n = 0\n",
    "    while True:\n",
    "        driver = webdriver.Firefox()\n",
    "        driver.get(link)\n",
    "        sleep(3)\n",
    "\n",
    "        titulo = ''\n",
    "        pdf_proyecto = ''\n",
    "        # --\n",
    "        try:\n",
    "            bottons = driver.find_elements_by_xpath('//*//button[@class=\"md-no-style md-button md-ink-ripple\"]')\n",
    "            if len(bottons) == 0:\n",
    "                bottons = driver.find_elements_by_xpath('//*//a[@class=\"md-no-style md-button md-ink-ripple\"]')\n",
    "        except:\n",
    "            break\n",
    "        # ---\n",
    "        try:\n",
    "            bottons[n].click()\n",
    "        except:\n",
    "            break\n",
    "            driver.quit()\n",
    "\n",
    "        # Título\n",
    "        try:\n",
    "            titulo = driver.find_element_by_xpath('//*//h2').text\n",
    "        except:\n",
    "            titulo = ''\n",
    "        \n",
    "        # pdfs\n",
    "        try:\n",
    "            pdfs = driver.find_elements_by_xpath('//md-list-item[@ng-repeat=\"info in convocatoria.Convocatoria\"]')\n",
    "            if len(pdfs) == 0:\n",
    "                pdfs = driver.find_elements_by_xpath('//md-list-item[@class=\"flex\"]')\n",
    "            \n",
    "            urls = []\n",
    "            for pdf in pdfs:\n",
    "                urls.append(pdf.get_attribute('href'))\n",
    "\n",
    "            links = ''\n",
    "            for url in urls:\n",
    "                links = links + url + ', '\n",
    "            \n",
    "        except:\n",
    "            links = ''\n",
    "\n",
    "        titulos.append(titulo)\n",
    "        pdfs_proyectos.append(links.strip(', '))\n",
    "        \n",
    "        n+=1\n",
    "        driver.quit()\n",
    "    jalisco['Título'] = titulos\n",
    "    jalisco['Pdfs'] = pdfs_proyectos \n",
    "\n",
    "    return jalisco"
   ]
  },
  {
   "cell_type": "code",
   "execution_count": 14,
   "metadata": {},
   "outputs": [],
   "source": [
    "estados = ['http://www.coecytjal.org.mx/Plataforma/app/index.html#/convocatorias', 'http://www.coecytjal.org.mx/Plataforma/app/index.html#/ConvocatoriasAbiertas']\n",
    "\n",
    "jalisco1 = mexico_jalisco(estados[0])\n",
    "jalisco2 = mexico_jalisco(estados[1])"
   ]
  },
  {
   "cell_type": "code",
   "execution_count": 15,
   "metadata": {},
   "outputs": [],
   "source": [
    "frames = [jalisco1, jalisco2]\n",
    "\n",
    "jalisco = pd.concat(frames)\n",
    "jalisco.reset_index(drop=True, inplace=True)\n",
    "jalisco.to_excel('Mexico_Jalisco.xlsx')"
   ]
  },
  {
   "cell_type": "code",
   "execution_count": 16,
   "metadata": {},
   "outputs": [
    {
     "output_type": "execute_result",
     "data": {
      "text/plain": [
       "                                              Título  \\\n",
       "0  Difusión y Divulgación de la Ciencia, Tecnolog...   \n",
       "1  Convocatoria para el Fomento Jalisciense a la ...   \n",
       "2  Convocatoria \"Capacitación en gestión en ambie...   \n",
       "\n",
       "                                                Pdfs  \n",
       "0  http://www.coecytjal.org.mx/Plataforma/app/vie...  \n",
       "1  http://www.coecytjal.org.mx/Plataforma/app/vie...  \n",
       "2  http://www.coecytjal.org.mx/Plataforma/app/vie...  "
      ],
      "text/html": "<div>\n<style scoped>\n    .dataframe tbody tr th:only-of-type {\n        vertical-align: middle;\n    }\n\n    .dataframe tbody tr th {\n        vertical-align: top;\n    }\n\n    .dataframe thead th {\n        text-align: right;\n    }\n</style>\n<table border=\"1\" class=\"dataframe\">\n  <thead>\n    <tr style=\"text-align: right;\">\n      <th></th>\n      <th>Título</th>\n      <th>Pdfs</th>\n    </tr>\n  </thead>\n  <tbody>\n    <tr>\n      <th>0</th>\n      <td>Difusión y Divulgación de la Ciencia, Tecnolog...</td>\n      <td>http://www.coecytjal.org.mx/Plataforma/app/vie...</td>\n    </tr>\n    <tr>\n      <th>1</th>\n      <td>Convocatoria para el Fomento Jalisciense a la ...</td>\n      <td>http://www.coecytjal.org.mx/Plataforma/app/vie...</td>\n    </tr>\n    <tr>\n      <th>2</th>\n      <td>Convocatoria \"Capacitación en gestión en ambie...</td>\n      <td>http://www.coecytjal.org.mx/Plataforma/app/vie...</td>\n    </tr>\n  </tbody>\n</table>\n</div>"
     },
     "metadata": {},
     "execution_count": 16
    }
   ],
   "source": [
    "jalisco2"
   ]
  },
  {
   "cell_type": "code",
   "execution_count": null,
   "metadata": {},
   "outputs": [],
   "source": []
  }
 ]
}