{
 "metadata": {
  "language_info": {
   "codemirror_mode": {
    "name": "ipython",
    "version": 3
   },
   "file_extension": ".py",
   "mimetype": "text/x-python",
   "name": "python",
   "nbconvert_exporter": "python",
   "pygments_lexer": "ipython3",
   "version": "3.8.5"
  },
  "orig_nbformat": 2,
  "kernelspec": {
   "name": "python3",
   "display_name": "Python 3.8.5 64-bit ('scraping-clacso': conda)",
   "metadata": {
    "interpreter": {
     "hash": "95bb600096007ab9f567dd294a4f24ed256a7f8cd3baa781798d9a0497e2540f"
    }
   }
  }
 },
 "nbformat": 4,
 "nbformat_minor": 2,
 "cells": [
  {
   "cell_type": "code",
   "execution_count": 1,
   "metadata": {},
   "outputs": [],
   "source": [
    "import pandas as pd\n",
    "import numpy as np\n",
    "import requests\n",
    "from bs4 import BeautifulSoup\n",
    "from lxml import html\n",
    "import scrapy\n",
    "from time import sleep\n",
    "import urllib3\n",
    "import json\n",
    "from selenium import webdriver\n",
    "import random"
   ]
  },
  {
   "cell_type": "code",
   "execution_count": 2,
   "metadata": {},
   "outputs": [],
   "source": [
    "def parser(link):\n",
    "\n",
    "    encabezados = {\n",
    "    'user-agent': 'Mozilla/5.0 (X11; Linux x86_64) AppleWebKit/537.36 (KHTML, like Gecko) Chrome/44.0.2403.157 Safari/537.36'\n",
    "    }\n",
    "\n",
    "    resp = requests.get(link, headers=encabezados, verify=False)\n",
    "    resp = resp.text\n",
    "\n",
    "    #soup = get_Soup('https://minciencias.gov.co/convocatorias/todas')\n",
    "    parser = html.fromstring(resp)\n",
    "    urllib3.disable_warnings()\n",
    "\n",
    "    return parser"
   ]
  },
  {
   "cell_type": "code",
   "execution_count": 3,
   "metadata": {},
   "outputs": [],
   "source": [
    "# Abiertos\n",
    "\n",
    "parser_pag = parser('http://www.fapemat.mt.gov.br/vigentes')\n",
    "\n",
    "#general\n",
    "\n",
    "links_abiertos = parser_pag.xpath('//div[@class=\"news-item\"]//h3/a/@href')\n",
    "\n",
    "titulos_abiertos = parser_pag.xpath('//div[@class=\"news-item\"]//h3/a/text()')\n",
    "\n",
    "descripcion_abiertos = []\n",
    "fecha_abiertos = []\n",
    "pdfs_abiertos = []\n",
    "\n",
    "#proyecto por proyecto\n",
    "\n",
    "for link in links_abiertos:\n",
    "    parser_proy = parser(link)\n",
    "\n",
    "    # Descripción \n",
    "    descripcion_proy_bruto = parser_proy.xpath('//div[@class=\"edital_conteudo\"]//p//text()')\n",
    "\n",
    "    descripcion_proy = ''\n",
    "    for desc in descripcion_proy_bruto:\n",
    "        desc = desc.strip()\n",
    "        if desc != '':\n",
    "            descripcion_proy = descripcion_proy + desc + ' '\n",
    "\n",
    "    # Fecha\n",
    "    fecha = parser_proy.xpath('//div[@class=\"edital_data\"]//text()')[0]\n",
    "\n",
    "    #Pdfs\n",
    "    pdfs_proy_brutos = parser_proy.xpath('//div[@class=\"journal-content-article\"]//a/@href')\n",
    "\n",
    "    link_base = 'http://www.fapemat.mt.gov.br'\n",
    "    \n",
    "    pdfs_proy = ''\n",
    "    for pdf in pdfs_proy_brutos:\n",
    "        pdfs_proy = pdfs_proy + link_base + pdf + ', '\n",
    "\n",
    "    descripcion_abiertos.append(descripcion_proy)\n",
    "    fecha_abiertos.append(fecha)\n",
    "    pdfs_abiertos.append(pdfs_proy)\n",
    "\n",
    "fapemat_abiertos = pd.DataFrame()\n",
    "fapemat_abiertos['Titulo'] = titulos_abiertos\n",
    "fapemat_abiertos['Link'] = links_abiertos\n",
    "fapemat_abiertos['Descripción'] = descripcion_abiertos\n",
    "fapemat_abiertos['Fecha'] = fecha_abiertos\n",
    "fapemat_abiertos['Pdfs'] = pdfs_abiertos\n",
    "fapemat_abiertos['Estado'] = 'Abierto'\n"
   ]
  },
  {
   "cell_type": "code",
   "execution_count": 4,
   "metadata": {},
   "outputs": [],
   "source": [
    "# CErrados\n",
    "\n",
    "parser_pag = parser('http://www.fapemat.mt.gov.br/encerrados')\n",
    "\n",
    "links_cerrados = parser_pag.xpath('//div[@class=\"news-item\"]//h3/a/@href')\n",
    "\n",
    "titulos_cerrados = parser_pag.xpath('//div[@class=\"news-item\"]//h3/a/text()')\n",
    "\n",
    "descripcion_cerrados = []\n",
    "fecha_cerrados = []\n",
    "pdfs_cerrados = []\n",
    "\n",
    "#proyecto por proyecto\n",
    "\n",
    "for link in links_cerrados:\n",
    "    parser_proy = parser(link)\n",
    "\n",
    "    # Descripción \n",
    "    descripcion_proy_bruto = parser_proy.xpath('//div[@class=\"edital_conteudo\"]//p//text()')\n",
    "\n",
    "    descripcion_proy = ''\n",
    "    for desc in descripcion_proy_bruto:\n",
    "        desc = desc.strip()\n",
    "        if desc != '':\n",
    "            descripcion_proy = descripcion_proy + desc + ' '\n",
    "\n",
    "    # Fecha\n",
    "    fecha = parser_proy.xpath('//div[@class=\"edital_data\"]//text()')[0]\n",
    "\n",
    "    #Pdfs\n",
    "    pdfs_proy_brutos = parser_proy.xpath('//div[@class=\"journal-content-article\"]//a/@href')\n",
    "\n",
    "    link_base = 'http://www.fapemat.mt.gov.br'\n",
    "    \n",
    "    pdfs_proy = ''\n",
    "    for pdf in pdfs_proy_brutos:\n",
    "        pdfs_proy = pdfs_proy + link_base + pdf + ', '\n",
    "\n",
    "    descripcion_cerrados.append(descripcion_proy)\n",
    "    fecha_cerrados.append(fecha)\n",
    "    pdfs_cerrados.append(pdfs_proy)\n",
    "\n",
    "\n",
    "fapemat_cerrados = pd.DataFrame()\n",
    "fapemat_cerrados['Titulo'] = titulos_cerrados\n",
    "fapemat_cerrados['Link'] = links_cerrados\n",
    "fapemat_cerrados['Descripción'] = descripcion_cerrados\n",
    "fapemat_cerrados['Fecha'] = fecha_cerrados\n",
    "fapemat_cerrados['Pdfs'] = pdfs_cerrados\n",
    "fapemat_cerrados['Estado'] = 'Cerrado'"
   ]
  },
  {
   "cell_type": "code",
   "execution_count": 5,
   "metadata": {},
   "outputs": [],
   "source": [
    "\n",
    "\n",
    "fapemat = pd.concat([fapemat_abiertos, fapemat_cerrados])"
   ]
  },
  {
   "cell_type": "code",
   "execution_count": 7,
   "metadata": {},
   "outputs": [],
   "source": [
    "fapemat.to_excel('brasil_fapemat.xlsx')"
   ]
  },
  {
   "cell_type": "code",
   "execution_count": null,
   "metadata": {},
   "outputs": [],
   "source": []
  }
 ]
}