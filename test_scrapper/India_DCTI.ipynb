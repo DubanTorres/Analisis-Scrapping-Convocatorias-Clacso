{
 "metadata": {
  "language_info": {
   "codemirror_mode": {
    "name": "ipython",
    "version": 3
   },
   "file_extension": ".py",
   "mimetype": "text/x-python",
   "name": "python",
   "nbconvert_exporter": "python",
   "pygments_lexer": "ipython3",
   "version": "3.8.5"
  },
  "orig_nbformat": 2,
  "kernelspec": {
   "name": "python385jvsc74a57bd095bb600096007ab9f567dd294a4f24ed256a7f8cd3baa781798d9a0497e2540f",
   "display_name": "Python 3.8.5 64-bit ('scraping-clacso': conda)"
  }
 },
 "nbformat": 4,
 "nbformat_minor": 2,
 "cells": [
  {
   "cell_type": "code",
   "execution_count": 1,
   "metadata": {},
   "outputs": [],
   "source": [
    "import pandas as pd\n",
    "import numpy as np\n",
    "import requests\n",
    "from bs4 import BeautifulSoup\n",
    "from lxml import html\n",
    "import scrapy\n",
    "from time import sleep\n",
    "import urllib3\n",
    "import json\n",
    "from selenium import webdriver\n",
    "import random"
   ]
  },
  {
   "cell_type": "code",
   "execution_count": 2,
   "metadata": {},
   "outputs": [],
   "source": [
    "def parser(link):\n",
    "\n",
    "    encabezados = {\n",
    "    'user-agent': 'Mozilla/5.0 (X11; Linux x86_64) AppleWebKit/537.36 (KHTML, like Gecko) Chrome/44.0.2403.157 Safari/537.36'\n",
    "    }\n",
    "\n",
    "    resp = requests.get(link, headers=encabezados, verify=False)\n",
    "    resp = resp.text\n",
    "\n",
    "    #soup = get_Soup('https://minciencias.gov.co/convocatorias/todas')\n",
    "    parser = html.fromstring(resp)\n",
    "    urllib3.disable_warnings()\n",
    "\n",
    "    return parser"
   ]
  },
  {
   "cell_type": "code",
   "execution_count": 3,
   "metadata": {},
   "outputs": [
    {
     "output_type": "stream",
     "name": "stderr",
     "text": [
      "/home/duban/anaconda3/envs/scraping-clacso/lib/python3.8/site-packages/urllib3/connectionpool.py:981: InsecureRequestWarning: Unverified HTTPS request is being made to host 'dst.gov.in'. Adding certificate verification is strongly advised. See: https://urllib3.readthedocs.io/en/latest/advanced-usage.html#ssl-warnings\n  warnings.warn(\n"
     ]
    }
   ],
   "source": [
    "pagina = 'https://dst.gov.in/archive-call-for-proposals'\n",
    "\n",
    "\n",
    "\n",
    "parser_india = parser(pagina)\n",
    "\n",
    "ult_page = int(parser_india.xpath('//div[@class=\"item-list\"]/ul//li[@class=\"pager-last last\"]/a/@href')[0].split('page=')[1])+1\n",
    "\n",
    "india_DCYT_final = pd.DataFrame()\n",
    "\n",
    "base = 'https://dst.gov.in/archive-call-for-proposals?page='\n",
    "\n",
    "for n_page in range(1, ult_page+1):\n",
    "\n",
    "    page = base + str(n_page)\n",
    "    india_DCYT = pd.DataFrame()\n",
    "    \n",
    "    parser_india = parser(page) \n",
    "\n",
    "    #Titulo\n",
    "    titulo = parser_india.xpath('//table/tbody//tr//td[@class=\"views-field views-field-title\"]/a/text()')\n",
    "\n",
    "    #PDF\n",
    "    pdfs = []\n",
    "    for i in range(1, len(titulo)+1):\n",
    "        \n",
    "\n",
    "        pdf = parser_india.xpath('//table/tbody/tr[' + str(i) + ']/td[2][@class=\"views-field views-field-field-attached\"]//@href')\n",
    "\n",
    "        if len(pdf) == 0:\n",
    "            pdf = ''\n",
    "            pdfs.append(pdf)\n",
    "        else:\n",
    "            pdfs.append(pdf[0])\n",
    "\n",
    "    # Fecha de apertura\n",
    "    fecha_apertura = parser_india.xpath('//table/tbody//tr//td[3]/span[@class=\"date-display-single\"]//text()')\n",
    "    \n",
    "    #Fecha cierre\n",
    "    fecha_cierre = parser_india.xpath('//table/tbody//tr//td[4]/span[@class=\"date-display-single\"]//text()')\n",
    "\n",
    "    india_DCYT['Título'] = titulo\n",
    "    india_DCYT['PDFs'] = pdfs\n",
    "    india_DCYT['Fecha Apertura'] = fecha_apertura\n",
    "    india_DCYT['Fecha Cierre'] = fecha_cierre\n",
    "\n",
    "    india_DCYT_final = pd.concat([india_DCYT_final, india_DCYT])\n",
    "\n",
    "\n"
   ]
  },
  {
   "cell_type": "code",
   "execution_count": 6,
   "metadata": {},
   "outputs": [],
   "source": [
    "india_DCYT_final = india_DCYT_final.reset_index(drop=True)\n",
    "\n",
    "india_DCYT_final.to_excel('India_departamento de ciencia y tecnología.xlsx')"
   ]
  },
  {
   "cell_type": "code",
   "execution_count": 7,
   "metadata": {},
   "outputs": [
    {
     "output_type": "execute_result",
     "data": {
      "text/plain": [
       "                                                Título  \\\n",
       "0    2nd Call for Proposal for DST-STI Policy Fello...   \n",
       "1        DST-DAAD Germany Joint Call For Proposal 2017   \n",
       "2    Call for applications under the second phase o...   \n",
       "3    Advertisement for submission of research propo...   \n",
       "4    Invites Science and Technology Project Proposa...   \n",
       "..                                                 ...   \n",
       "172  Extension of Last Date for proposal submission...   \n",
       "173  ACT Call 3 Stage 2: Call for shortlisted prepr...   \n",
       "174  Grand Challenge for BDTD Programme of TDT Divi...   \n",
       "175  Indo-Italian call for proposals- date extended...   \n",
       "176        India Sweden joint Industrial R&D call 2021   \n",
       "\n",
       "                                                  PDFs Fecha Apertura  \\\n",
       "0    https://dst.gov.in/sites/default/files/DST_STI...     03/05/2017   \n",
       "1    https://dst.gov.in/sites/default/files/DST-DAA...     19/04/2017   \n",
       "2    https://dst.gov.in/sites/default/files/Final%2...     18/04/2017   \n",
       "3    https://dst.gov.in/sites/default/files/CSRI-AD...     12/05/2017   \n",
       "4    https://dst.gov.in/sites/default/files/announc...     29/06/2017   \n",
       "..                                                 ...            ...   \n",
       "172  https://dst.gov.in/sites/default/files/CSRI-Ad...     15/02/2021   \n",
       "173  https://dst.gov.in/sites/default/files/ACT%20C...     08/01/2021   \n",
       "174                                                        07/09/2020   \n",
       "175  https://dst.gov.in/sites/default/files/Indo-It...     15/02/2021   \n",
       "176                                                        08/03/2021   \n",
       "\n",
       "    Fecha Cierre  \n",
       "0     30/05/2017  \n",
       "1     14/06/2017  \n",
       "2     16/06/2017  \n",
       "3     30/06/2017  \n",
       "4     15/07/2017  \n",
       "..           ...  \n",
       "172   15/03/2021  \n",
       "173   15/03/2021  \n",
       "174   31/03/2021  \n",
       "175   30/04/2021  \n",
       "176   06/05/2021  \n",
       "\n",
       "[177 rows x 4 columns]"
      ],
      "text/html": "<div>\n<style scoped>\n    .dataframe tbody tr th:only-of-type {\n        vertical-align: middle;\n    }\n\n    .dataframe tbody tr th {\n        vertical-align: top;\n    }\n\n    .dataframe thead th {\n        text-align: right;\n    }\n</style>\n<table border=\"1\" class=\"dataframe\">\n  <thead>\n    <tr style=\"text-align: right;\">\n      <th></th>\n      <th>Título</th>\n      <th>PDFs</th>\n      <th>Fecha Apertura</th>\n      <th>Fecha Cierre</th>\n    </tr>\n  </thead>\n  <tbody>\n    <tr>\n      <th>0</th>\n      <td>2nd Call for Proposal for DST-STI Policy Fello...</td>\n      <td>https://dst.gov.in/sites/default/files/DST_STI...</td>\n      <td>03/05/2017</td>\n      <td>30/05/2017</td>\n    </tr>\n    <tr>\n      <th>1</th>\n      <td>DST-DAAD Germany Joint Call For Proposal 2017</td>\n      <td>https://dst.gov.in/sites/default/files/DST-DAA...</td>\n      <td>19/04/2017</td>\n      <td>14/06/2017</td>\n    </tr>\n    <tr>\n      <th>2</th>\n      <td>Call for applications under the second phase o...</td>\n      <td>https://dst.gov.in/sites/default/files/Final%2...</td>\n      <td>18/04/2017</td>\n      <td>16/06/2017</td>\n    </tr>\n    <tr>\n      <th>3</th>\n      <td>Advertisement for submission of research propo...</td>\n      <td>https://dst.gov.in/sites/default/files/CSRI-AD...</td>\n      <td>12/05/2017</td>\n      <td>30/06/2017</td>\n    </tr>\n    <tr>\n      <th>4</th>\n      <td>Invites Science and Technology Project Proposa...</td>\n      <td>https://dst.gov.in/sites/default/files/announc...</td>\n      <td>29/06/2017</td>\n      <td>15/07/2017</td>\n    </tr>\n    <tr>\n      <th>...</th>\n      <td>...</td>\n      <td>...</td>\n      <td>...</td>\n      <td>...</td>\n    </tr>\n    <tr>\n      <th>172</th>\n      <td>Extension of Last Date for proposal submission...</td>\n      <td>https://dst.gov.in/sites/default/files/CSRI-Ad...</td>\n      <td>15/02/2021</td>\n      <td>15/03/2021</td>\n    </tr>\n    <tr>\n      <th>173</th>\n      <td>ACT Call 3 Stage 2: Call for shortlisted prepr...</td>\n      <td>https://dst.gov.in/sites/default/files/ACT%20C...</td>\n      <td>08/01/2021</td>\n      <td>15/03/2021</td>\n    </tr>\n    <tr>\n      <th>174</th>\n      <td>Grand Challenge for BDTD Programme of TDT Divi...</td>\n      <td></td>\n      <td>07/09/2020</td>\n      <td>31/03/2021</td>\n    </tr>\n    <tr>\n      <th>175</th>\n      <td>Indo-Italian call for proposals- date extended...</td>\n      <td>https://dst.gov.in/sites/default/files/Indo-It...</td>\n      <td>15/02/2021</td>\n      <td>30/04/2021</td>\n    </tr>\n    <tr>\n      <th>176</th>\n      <td>India Sweden joint Industrial R&amp;D call 2021</td>\n      <td></td>\n      <td>08/03/2021</td>\n      <td>06/05/2021</td>\n    </tr>\n  </tbody>\n</table>\n<p>177 rows × 4 columns</p>\n</div>"
     },
     "metadata": {},
     "execution_count": 7
    }
   ],
   "source": [
    "india_DCYT_final"
   ]
  },
  {
   "cell_type": "code",
   "execution_count": null,
   "metadata": {},
   "outputs": [],
   "source": []
  }
 ]
}