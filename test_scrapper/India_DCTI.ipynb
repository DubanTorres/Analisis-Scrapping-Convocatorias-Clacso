{
 "metadata": {
  "language_info": {
   "codemirror_mode": {
    "name": "ipython",
    "version": 3
   },
   "file_extension": ".py",
   "mimetype": "text/x-python",
   "name": "python",
   "nbconvert_exporter": "python",
   "pygments_lexer": "ipython3",
   "version": "3.8.5"
  },
  "orig_nbformat": 2,
  "kernelspec": {
   "name": "python3",
   "display_name": "Python 3.8.5 64-bit ('scraping-clacso': conda)"
  },
  "interpreter": {
   "hash": "95bb600096007ab9f567dd294a4f24ed256a7f8cd3baa781798d9a0497e2540f"
  }
 },
 "nbformat": 4,
 "nbformat_minor": 2,
 "cells": [
  {
   "cell_type": "code",
   "execution_count": 1,
   "metadata": {},
   "outputs": [],
   "source": [
    "import pandas as pd\n",
    "import numpy as np\n",
    "import requests\n",
    "from bs4 import BeautifulSoup\n",
    "from lxml import html\n",
    "import scrapy\n",
    "from time import sleep\n",
    "import urllib3\n",
    "import json\n",
    "from selenium import webdriver\n",
    "import random"
   ]
  },
  {
   "cell_type": "code",
   "execution_count": 2,
   "metadata": {},
   "outputs": [],
   "source": [
    "def parser(link):\n",
    "\n",
    "    encabezados = {\n",
    "    'user-agent': 'Mozilla/5.0 (X11; Linux x86_64) AppleWebKit/537.36 (KHTML, like Gecko) Chrome/44.0.2403.157 Safari/537.36'\n",
    "    }\n",
    "\n",
    "    resp = requests.get(link, headers=encabezados, verify=False)\n",
    "    resp = resp.text\n",
    "\n",
    "    #soup = get_Soup('https://minciencias.gov.co/convocatorias/todas')\n",
    "    parser = html.fromstring(resp)\n",
    "    urllib3.disable_warnings()\n",
    "\n",
    "    return parser"
   ]
  },
  {
   "cell_type": "code",
   "execution_count": 3,
   "metadata": {},
   "outputs": [
    {
     "output_type": "stream",
     "name": "stderr",
     "text": [
      "/home/duban/anaconda3/envs/scraping-clacso/lib/python3.8/site-packages/urllib3/connectionpool.py:981: InsecureRequestWarning: Unverified HTTPS request is being made to host 'dst.gov.in'. Adding certificate verification is strongly advised. See: https://urllib3.readthedocs.io/en/latest/advanced-usage.html#ssl-warnings\n  warnings.warn(\n"
     ]
    }
   ],
   "source": [
    "pagina = 'https://dst.gov.in/archive-call-for-proposals'\n",
    "\n",
    "\n",
    "\n",
    "parser_india = parser(pagina)\n",
    "\n",
    "ult_page = int(parser_india.xpath('//div[@class=\"item-list\"]/ul//li[@class=\"pager-last last\"]/a/@href')[0].split('page=')[1])+1\n",
    "\n",
    "india_DCYT_final = pd.DataFrame()\n",
    "\n",
    "base = 'https://dst.gov.in/archive-call-for-proposals?page='\n",
    "\n",
    "for n_page in range(0, ult_page+1):\n",
    "\n",
    "    page = base + str(n_page)\n",
    "    india_DCYT = pd.DataFrame()\n",
    "    \n",
    "    parser_india = parser(page) \n",
    "\n",
    "    #Titulo\n",
    "    titulo = parser_india.xpath('//table/tbody//tr//td[@class=\"views-field views-field-title\"]/a/text()')\n",
    "\n",
    "    #PDF\n",
    "    pdfs = []\n",
    "    for i in range(1, len(titulo)+1):\n",
    "        \n",
    "\n",
    "        pdf = parser_india.xpath('//table/tbody/tr[' + str(i) + ']/td[2][@class=\"views-field views-field-field-attached\"]//@href')\n",
    "\n",
    "        if len(pdf) == 0:\n",
    "            pdf = ''\n",
    "            pdfs.append(pdf)\n",
    "        else:\n",
    "            pdfs.append(pdf[0])\n",
    "Whiskey Blues | Best of Slow Blues | Vieux Carre\n",
    "JAZZ & BLUES\n",
    "\n",
    "\n",
    "    # Fecha de apertura\n",
    "    fecha_apertura = parser_india.xpath('//table/tbody//tr//td[3]/span[@class=\"date-display-single\"]//text()')\n",
    "    \n",
    "    #Fecha cierre\n",
    "    fecha_cierre = parser_india.xpath('//table/tbody//tr//td[4]/span[@class=\"date-display-single\"]//text()')\n",
    "\n",
    "    india_DCYT['Título'] = titulo\n",
    "    india_DCYT['PDFs'] = pdfs\n",
    "    india_DCYT['Fecha Apertura'] = fecha_apertura\n",
    "    india_DCYT['Fecha Cierre'] = fecha_cierre\n",
    "\n",
    "    india_DCYT_final = pd.concat([india_DCYT_final, india_DCYT])\n",
    "\n",
    "\n"
   ]
  },
  {
   "cell_type": "code",
   "execution_count": 4,
   "metadata": {},
   "outputs": [],
   "source": [
    "india_DCYT_final = india_DCYT_final.reset_index(drop=True)\n",
    "\n",
    "india_DCYT_final.to_excel('India_departamento de ciencia y tecnología.xlsx')"
   ]
  },
  {
   "cell_type": "code",
   "execution_count": 5,
   "metadata": {},
   "outputs": [
    {
     "output_type": "execute_result",
     "data": {
      "text/plain": [
       "                                                Título  \\\n",
       "0    Call for proposals for DST- Intel Joint Progra...   \n",
       "1    Bhaskara Advanced Solar Energy Fellowship Program   \n",
       "2    Energy Demand Reduction in the Built Environme...   \n",
       "3    Call for Proposals (2017-18) - Centre for Huma...   \n",
       "4    SERB Overseas Postdoctoral Fellowship 2016-17:...   \n",
       "..                                                 ...   \n",
       "198              Indo-Russia joint Research Call 2021    \n",
       "199  Call for proposals for NIDHI i TBI (Inclusive ...   \n",
       "200  Call for proposals for NIDHI Seed Support Prog...   \n",
       "201                     ISRF special Call for Thailand   \n",
       "202  Call for proposal for DST-NGP (erstwhile NRDMS...   \n",
       "\n",
       "                                                  PDFs Fecha Apertura  \\\n",
       "0                                                          21/12/2016   \n",
       "1    https://dst.gov.in/sites/default/files/BASE-Pr...     19/01/2017   \n",
       "2    https://dst.gov.in/sites/default/files/UK-Indi...     25/01/2017   \n",
       "3    https://dst.gov.in/sites/default/files/NSTMIS-...     30/01/2017   \n",
       "4    https://dst.gov.in/sites/default/files/Oversea...     31/01/2017   \n",
       "..                                                 ...            ...   \n",
       "198  https://dst.gov.in/sites/default/files/DST-RSF...     15/03/2021   \n",
       "199                                                        25/05/2021   \n",
       "200                                                        25/05/2021   \n",
       "201                                                        15/04/2021   \n",
       "202  https://dst.gov.in/sites/default/files/CFP_Geo...     15/05/2021   \n",
       "\n",
       "    Fecha Cierre  \n",
       "0     10/03/2017  \n",
       "1     15/03/2017  \n",
       "2     15/03/2017  \n",
       "3     15/03/2017  \n",
       "4     15/03/2017  \n",
       "..           ...  \n",
       "198   15/06/2021  \n",
       "199   25/06/2021  \n",
       "200   25/06/2021  \n",
       "201   30/06/2021  \n",
       "202   30/06/2021  \n",
       "\n",
       "[203 rows x 4 columns]"
      ],
      "text/html": "<div>\n<style scoped>\n    .dataframe tbody tr th:only-of-type {\n        vertical-align: middle;\n    }\n\n    .dataframe tbody tr th {\n        vertical-align: top;\n    }\n\n    .dataframe thead th {\n        text-align: right;\n    }\n</style>\n<table border=\"1\" class=\"dataframe\">\n  <thead>\n    <tr style=\"text-align: right;\">\n      <th></th>\n      <th>Título</th>\n      <th>PDFs</th>\n      <th>Fecha Apertura</th>\n      <th>Fecha Cierre</th>\n    </tr>\n  </thead>\n  <tbody>\n    <tr>\n      <th>0</th>\n      <td>Call for proposals for DST- Intel Joint Progra...</td>\n      <td></td>\n      <td>21/12/2016</td>\n      <td>10/03/2017</td>\n    </tr>\n    <tr>\n      <th>1</th>\n      <td>Bhaskara Advanced Solar Energy Fellowship Program</td>\n      <td>https://dst.gov.in/sites/default/files/BASE-Pr...</td>\n      <td>19/01/2017</td>\n      <td>15/03/2017</td>\n    </tr>\n    <tr>\n      <th>2</th>\n      <td>Energy Demand Reduction in the Built Environme...</td>\n      <td>https://dst.gov.in/sites/default/files/UK-Indi...</td>\n      <td>25/01/2017</td>\n      <td>15/03/2017</td>\n    </tr>\n    <tr>\n      <th>3</th>\n      <td>Call for Proposals (2017-18) - Centre for Huma...</td>\n      <td>https://dst.gov.in/sites/default/files/NSTMIS-...</td>\n      <td>30/01/2017</td>\n      <td>15/03/2017</td>\n    </tr>\n    <tr>\n      <th>4</th>\n      <td>SERB Overseas Postdoctoral Fellowship 2016-17:...</td>\n      <td>https://dst.gov.in/sites/default/files/Oversea...</td>\n      <td>31/01/2017</td>\n      <td>15/03/2017</td>\n    </tr>\n    <tr>\n      <th>...</th>\n      <td>...</td>\n      <td>...</td>\n      <td>...</td>\n      <td>...</td>\n    </tr>\n    <tr>\n      <th>198</th>\n      <td>Indo-Russia joint Research Call 2021</td>\n      <td>https://dst.gov.in/sites/default/files/DST-RSF...</td>\n      <td>15/03/2021</td>\n      <td>15/06/2021</td>\n    </tr>\n    <tr>\n      <th>199</th>\n      <td>Call for proposals for NIDHI i TBI (Inclusive ...</td>\n      <td></td>\n      <td>25/05/2021</td>\n      <td>25/06/2021</td>\n    </tr>\n    <tr>\n      <th>200</th>\n      <td>Call for proposals for NIDHI Seed Support Prog...</td>\n      <td></td>\n      <td>25/05/2021</td>\n      <td>25/06/2021</td>\n    </tr>\n    <tr>\n      <th>201</th>\n      <td>ISRF special Call for Thailand</td>\n      <td></td>\n      <td>15/04/2021</td>\n      <td>30/06/2021</td>\n    </tr>\n    <tr>\n      <th>202</th>\n      <td>Call for proposal for DST-NGP (erstwhile NRDMS...</td>\n      <td>https://dst.gov.in/sites/default/files/CFP_Geo...</td>\n      <td>15/05/2021</td>\n      <td>30/06/2021</td>\n    </tr>\n  </tbody>\n</table>\n<p>203 rows × 4 columns</p>\n</div>"
     },
     "metadata": {},
     "execution_count": 5
    }
   ],
   "source": [
    "india_DCYT_final"
   ]
  },
  {
   "cell_type": "code",
   "execution_count": null,
   "metadata": {},
   "outputs": [],
   "source": []
  }
 ]
}