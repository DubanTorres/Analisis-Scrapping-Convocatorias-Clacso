{
 "metadata": {
  "language_info": {
   "codemirror_mode": {
    "name": "ipython",
    "version": 3
   },
   "file_extension": ".py",
   "mimetype": "text/x-python",
   "name": "python",
   "nbconvert_exporter": "python",
   "pygments_lexer": "ipython3",
   "version": "3.8.5"
  },
  "orig_nbformat": 2,
  "kernelspec": {
   "name": "python3",
   "display_name": "Python 3.8.5 64-bit ('scraping-clacso': conda)",
   "metadata": {
    "interpreter": {
     "hash": "95bb600096007ab9f567dd294a4f24ed256a7f8cd3baa781798d9a0497e2540f"
    }
   }
  }
 },
 "nbformat": 4,
 "nbformat_minor": 2,
 "cells": [
  {
   "cell_type": "code",
   "execution_count": 1,
   "metadata": {},
   "outputs": [],
   "source": [
    "import pandas as pd\n",
    "import numpy as np\n",
    "import requests\n",
    "from bs4 import BeautifulSoup\n",
    "from lxml import html\n",
    "import scrapy\n",
    "from time import sleep\n",
    "import urllib3\n",
    "import json\n",
    "from selenium import webdriver\n",
    "import random"
   ]
  },
  {
   "cell_type": "code",
   "execution_count": 2,
   "metadata": {},
   "outputs": [],
   "source": [
    "def parser(link):\n",
    "\n",
    "    encabezados = {\n",
    "    'user-agent': 'Mozilla/5.0 (X11; Linux x86_64) AppleWebKit/537.36 (KHTML, like Gecko) Chrome/44.0.2403.157 Safari/537.36'\n",
    "    }\n",
    "\n",
    "    resp = requests.get(link, headers=encabezados, verify=False)\n",
    "    resp = resp.text\n",
    "\n",
    "    #soup = get_Soup('https://minciencias.gov.co/convocatorias/todas')\n",
    "    parser = html.fromstring(resp)\n",
    "    urllib3.disable_warnings()\n",
    "\n",
    "    return parser"
   ]
  },
  {
   "cell_type": "code",
   "execution_count": 3,
   "metadata": {},
   "outputs": [],
   "source": [
    "pag = 'http://www.fapepi.pi.gov.br/editais/page/1/'\n",
    "\n",
    "parser_pag_principal = parser(pag)\n",
    "\n",
    "pag_final = parser_pag_principal.xpath('//a[@class=\"page-numbers\"]/@href')[-1]\n",
    "\n",
    "pag_final =pag_final.split('page/')[1].split('/')[0]"
   ]
  },
  {
   "cell_type": "code",
   "execution_count": 4,
   "metadata": {},
   "outputs": [],
   "source": [
    "n = 1\n",
    "links_proyectos = []\n",
    "titulos_proyectos = []\n",
    "fechas_cierre_proyectos = []\n",
    "fechas_apertura_proyectos = []\n",
    "\n",
    "while n <= int(pag_final):\n",
    "    pag = 'http://www.fapepi.pi.gov.br/editais/page/' + str(n) + '/'\n",
    "\n",
    "    parser_pag = parser(pag)\n",
    "\n",
    "    # Links     \n",
    "    links = parser_pag.xpath('//a[contains(text(), \"Continuar lendo\")]/@href')\n",
    "\n",
    "    #titulos\n",
    "    titulos = parser_pag.xpath('//h2//a/@title')\n",
    "\n",
    "    #Fechas\n",
    "    fecha_apertura = parser_pag.xpath('//ul//li[@class=\"meta-date\"]/text()')\n",
    "\n",
    "    fecha_cierre_brutas = parser_pag.xpath('//ul//li[@class=\"meta-mod-date\"]//text()')\n",
    "\n",
    "    fecha_cierre= []\n",
    "    for f in fecha_cierre_brutas:\n",
    "        if f != 'Post last modified:':\n",
    "            fecha_cierre.append(f)\n",
    "\n",
    "    links_proyectos += links\n",
    "    titulos_proyectos += titulos\n",
    "    fechas_cierre_proyectos += fecha_cierre\n",
    "    fechas_apertura_proyectos += fecha_apertura\n",
    "\n",
    "    n+=1"
   ]
  },
  {
   "cell_type": "code",
   "execution_count": 5,
   "metadata": {},
   "outputs": [],
   "source": [
    "descripcion_proyectos = []\n",
    "pdfs_proyectos = []\n",
    "\n",
    "for link in links_proyectos:\n",
    "    \n",
    "    parser_proyecto = parser(link)\n",
    "\n",
    "    #Pdfs\n",
    "    pdfs_brutos = parser_proyecto.xpath('//a//@href')\n",
    "\n",
    "    pdfs= ''\n",
    "    for f in pdfs_brutos:\n",
    "        if f.endswith('.pdf'):\n",
    "            pdfs = pdfs + f + ', '\n",
    "    pdfs = pdfs.strip(', ')\n",
    "\n",
    "    descripcion_bruta = parser_proyecto.xpath('//div[@id=\"content-wrap\"]//p/text()')\n",
    "\n",
    "    descripcion = ''\n",
    "    for d in descripcion_bruta:\n",
    "        d = d.strip()\n",
    "        if d != '':\n",
    "            descripcion = descripcion + d + ' '\n",
    "\n",
    "    descripcion = descripcion.strip(' ')\n",
    "\n",
    "    descripcion_proyectos.append(descripcion)\n",
    "    pdfs_proyectos.append(pdfs)\n"
   ]
  },
  {
   "cell_type": "code",
   "execution_count": 7,
   "metadata": {},
   "outputs": [],
   "source": [
    "fapepi = pd.DataFrame()\n",
    "\n",
    "fapepi['Link'] = links_proyectos \n",
    "fapepi['Título'] = titulos_proyectos\n",
    "fapepi['Fecha Cierre'] = fechas_cierre_proyectos\n",
    "fapepi['Fecha Apertura'] = fechas_apertura_proyectos\n",
    "fapepi['Descripción'] = descripcion_proyectos\n",
    "fapepi['PDFs'] = pdfs_proyectos\n",
    "fapepi.to_excel('brasil_fapepi.xlsx')"
   ]
  },
  {
   "cell_type": "code",
   "execution_count": null,
   "metadata": {},
   "outputs": [],
   "source": []
  }
 ]
}