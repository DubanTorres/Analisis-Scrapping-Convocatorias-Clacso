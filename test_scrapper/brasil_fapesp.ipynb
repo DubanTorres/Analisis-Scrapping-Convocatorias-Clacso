{
 "metadata": {
  "language_info": {
   "codemirror_mode": {
    "name": "ipython",
    "version": 3
   },
   "file_extension": ".py",
   "mimetype": "text/x-python",
   "name": "python",
   "nbconvert_exporter": "python",
   "pygments_lexer": "ipython3",
   "version": "3.8.5"
  },
  "orig_nbformat": 2,
  "kernelspec": {
   "name": "python385jvsc74a57bd095bb600096007ab9f567dd294a4f24ed256a7f8cd3baa781798d9a0497e2540f",
   "display_name": "Python 3.8.5 64-bit ('scraping-clacso': conda)"
  }
 },
 "nbformat": 4,
 "nbformat_minor": 2,
 "cells": [
  {
   "cell_type": "code",
   "execution_count": 1,
   "metadata": {},
   "outputs": [],
   "source": [
    "import pandas as pd\n",
    "import numpy as np\n",
    "import requests\n",
    "from bs4 import BeautifulSoup\n",
    "from lxml import html\n",
    "import scrapy\n",
    "from time import sleep\n",
    "import urllib3\n",
    "import json\n",
    "from selenium import webdriver\n",
    "import random"
   ]
  },
  {
   "cell_type": "code",
   "execution_count": 2,
   "metadata": {},
   "outputs": [],
   "source": [
    "def parser(link):\n",
    "\n",
    "    encabezados = {\n",
    "    'user-agent': 'Mozilla/5.0 (X11; Linux x86_64) AppleWebKit/537.36 (KHTML, like Gecko) Chrome/44.0.2403.157 Safari/537.36'\n",
    "    }\n",
    "\n",
    "    resp = requests.get(link, headers=encabezados, verify=False)\n",
    "    resp = resp.text\n",
    "\n",
    "    #soup = get_Soup('https://minciencias.gov.co/convocatorias/todas')\n",
    "    parser = html.fromstring(resp)\n",
    "    urllib3.disable_warnings()\n",
    "\n",
    "    return parser"
   ]
  },
  {
   "cell_type": "code",
   "execution_count": 3,
   "metadata": {},
   "outputs": [
    {
     "output_type": "stream",
     "name": "stderr",
     "text": [
      "/home/duban/anaconda3/envs/scraping-clacso/lib/python3.8/site-packages/urllib3/connectionpool.py:981: InsecureRequestWarning: Unverified HTTPS request is being made to host 'fapesp.br'. Adding certificate verification is strongly advised. See: https://urllib3.readthedocs.io/en/latest/advanced-usage.html#ssl-warnings\n  warnings.warn(\n"
     ]
    }
   ],
   "source": [
    "parser_link_base = parser('https://fapesp.br/chamadas/')\n",
    "\n",
    "links_anos_brutos = parser_link_base.xpath('//div[@class=\"box\"][3]//a//@href')\n",
    "\n",
    "base = 'https://fapesp.br/'\n",
    "link_anos = []\n",
    "\n",
    "for l in links_anos_brutos:\n",
    "    link = base + l\n",
    "    link_anos.append(link)\n"
   ]
  },
  {
   "cell_type": "code",
   "execution_count": 4,
   "metadata": {},
   "outputs": [],
   "source": [
    "fapesp = pd.DataFrame()\n",
    "\n",
    "for link in link_anos:\n",
    "\n",
    "    parser_ano = parser(link)\n",
    "    #print(link)\n",
    "\n",
    "    #######################\n",
    "\n",
    "    #Titulo\n",
    "\n",
    "    titulo = parser_ano.xpath('//div[@class=\"page-body\"]//text()')\n",
    "    \n",
    "    titulos = []\n",
    "    for t in titulo:\n",
    "        if (t.startswith('Chamada') or t.startswith('Programa ')) and '/' not in t:\n",
    "            titulos.append(t)\n",
    "\n",
    "    ################################\n",
    "\n",
    "    #Links\n",
    "    \n",
    "    links = []\n",
    "\n",
    "    for i in range(1, len(titulos)+1):\n",
    "\n",
    "        url = parser_ano.xpath('//div[@class=\"page-body\"]/ul//li[' +str(i)+ ']//a/@href')\n",
    "        try:\n",
    "            links.append(url[0])\n",
    "        except:\n",
    "            links.append('')\n",
    "        \n",
    "\n",
    "    #link = parser_ano.xpath('//div[@class=\"page-body\"]/ul//li/p/strong[1]//a/@href')\n",
    "\n",
    "    ###################\n",
    "\n",
    "    ano = parser_ano.xpath('//div[@class=\"content row\"]//h2/span/text()')[0].strip().split(' ')[-1]\n",
    "\n",
    "    fapesp_ano = pd.DataFrame()\n",
    "    fapesp_ano['Titulo'] = titulos\n",
    "    fapesp_ano['Link'] = links\n",
    "    fapesp_ano['Año'] = ano\n",
    "\n",
    "    fapesp = pd.concat([fapesp, fapesp_ano])\n",
    "fapesp = fapesp.reset_index(drop=True)"
   ]
  },
  {
   "cell_type": "code",
   "execution_count": 7,
   "metadata": {},
   "outputs": [],
   "source": [
    "pdfs_proyectos = []\n",
    "descripcion_proyectos = []\n",
    "\n",
    "\n",
    "for link in fapesp['Link']:\n",
    "\n",
    "    parser_proyecto = parser(fapesp['Link'][0])\n",
    "\n",
    "    descripcion_bruto = parser_proyecto.xpath('//div[@class=\"content row\"]//text()')\n",
    "\n",
    "    descripcion = ''\n",
    "\n",
    "    for d in descripcion_bruto:\n",
    "        d = d.strip()\n",
    "        descripcion = descripcion + d + ' '\n",
    "\n",
    "    descripcion_proyectos.append(descripcion)\n",
    "\n",
    "    pdfs_brutos = parser_proyecto.xpath('//div[@class=\"content row\"]//a/@href')\n",
    "\n",
    "    pdfs = ''\n",
    "\n",
    "    for p in pdfs_brutos:\n",
    "        p = p.strip()\n",
    "        if p.endswith('.pdf'):\n",
    "            pdfs = pdfs + p + ' '\n",
    "\n",
    "    pdfs_proyectos.append(pdfs)\n",
    "\n",
    "fapesp['PDFs'] = pdfs_proyectos\n",
    "fapesp['Descripcion'] = descripcion_proyectos"
   ]
  },
  {
   "source": [],
   "cell_type": "markdown",
   "metadata": {}
  },
  {
   "cell_type": "code",
   "execution_count": 11,
   "metadata": {},
   "outputs": [],
   "source": [
    "fapesp.to_excel('brasil_fapesp.xlsx')"
   ]
  },
  {
   "cell_type": "code",
   "execution_count": null,
   "metadata": {},
   "outputs": [],
   "source": []
  }
 ]
}