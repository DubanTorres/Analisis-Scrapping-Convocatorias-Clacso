{
 "metadata": {
  "language_info": {
   "codemirror_mode": {
    "name": "ipython",
    "version": 3
   },
   "file_extension": ".py",
   "mimetype": "text/x-python",
   "name": "python",
   "nbconvert_exporter": "python",
   "pygments_lexer": "ipython3",
   "version": "3.8.5-final"
  },
  "orig_nbformat": 2,
  "kernelspec": {
   "name": "python3",
   "display_name": "Python 3.8.5 64-bit ('scraping-clacso': conda)",
   "metadata": {
    "interpreter": {
     "hash": "95bb600096007ab9f567dd294a4f24ed256a7f8cd3baa781798d9a0497e2540f"
    }
   }
  }
 },
 "nbformat": 4,
 "nbformat_minor": 2,
 "cells": [
  {
   "cell_type": "code",
   "execution_count": 1,
   "metadata": {},
   "outputs": [],
   "source": [
    "import pandas as pd\n",
    "import numpy as np\n",
    "import requests\n",
    "from bs4 import BeautifulSoup\n",
    "from lxml import html\n",
    "import scrapy\n",
    "from time import sleep\n",
    "import urllib3\n",
    "import json\n",
    "from selenium import webdriver\n",
    "import random"
   ]
  },
  {
   "cell_type": "code",
   "execution_count": 2,
   "metadata": {},
   "outputs": [],
   "source": [
    "def parser(link):\n",
    "\n",
    "    encabezados = {\n",
    "    'user-agent': 'Mozilla/5.0 (X11; Linux x86_64) AppleWebKit/537.36 (KHTML, like Gecko) Chrome/44.0.2403.157 Safari/537.36'\n",
    "    }\n",
    "\n",
    "    resp = requests.get(link, headers=encabezados, verify=False)\n",
    "    resp = resp.text\n",
    "\n",
    "    #soup = get_Soup('https://minciencias.gov.co/convocatorias/todas')\n",
    "    parser = html.fromstring(resp)\n",
    "    urllib3.disable_warnings()\n",
    "\n",
    "    return parser"
   ]
  },
  {
   "cell_type": "code",
   "execution_count": 3,
   "metadata": {},
   "outputs": [],
   "source": [
    "def paginas(link):\n",
    "    parser_pag = parser(link)\n",
    "\n",
    "    paginas = parser_pag.xpath('//a[@class=\"page-numbers\"]//@href')\n",
    "    paginas.append(link)\n",
    "\n",
    "    return paginas"
   ]
  },
  {
   "cell_type": "code",
   "execution_count": 4,
   "metadata": {},
   "outputs": [],
   "source": [
    "pag = 'https://www.senacyt.gob.pa/category/convocatorias/'\n",
    "\n",
    "def links_proyectos(link):\n",
    "\n",
    "    links_proyectos_final = []\n",
    "    paginacion = paginas(link)\n",
    "\n",
    "    for pag in paginacion:\n",
    "        links = parser(pag)\n",
    "        links_proyectos = links.xpath('//div[@class=\"post_content\"]//a/@href')\n",
    "        links_proyectos2 = links.xpath('//div[@class=\"post_no_thumb_content\"]//a/@href')\n",
    "\n",
    "        links_proyectos += links_proyectos2\n",
    "\n",
    "\n",
    "        for url in links_proyectos:\n",
    "            if 'author' not in url:\n",
    "                links_proyectos_final.append(url)\n",
    "\n",
    "    return links_proyectos_final\n",
    "\n",
    "\n",
    "def titulo_proyecto(link_proyecto):\n",
    "    link_proyecto = link_proyecto\n",
    "    parser_proyecto = parser(link_proyecto)\n",
    "\n",
    "    titulo = parser_proyecto.xpath('//h1/text()')\n",
    "    \n",
    "    return titulo[0]\n",
    "\n",
    "\n",
    "def descripcion_proyecto(link_proyecto):\n",
    "\n",
    "    link_proyecto = link_proyecto\n",
    "\n",
    "    parser_proyecto = parser(link_proyecto)\n",
    "    descripcion = parser_proyecto.xpath('//div[@class=\"post_content\"]//p//text()')\n",
    "    descripcion_completa = ''\n",
    "\n",
    "    for i in descripcion:\n",
    "        descripcion_completa = descripcion_completa + i.strip() + ' '\n",
    "\n",
    "    return descripcion_completa.strip()\n",
    "\n",
    "def pdfs_proyecto(link_proyecto):\n",
    "\n",
    "    link_proyecto = link_proyecto\n",
    "\n",
    "    parser_proyecto = parser(link_proyecto)\n",
    "    pdfs_pag = parser_proyecto.xpath('//div[@class=\"su-table su-table-responsive su-table-alternate\"]//a/@href')\n",
    "\n",
    "    pdfs = ''\n",
    "    for i in pdfs_pag:\n",
    "        if i.endswith('.pdf'):\n",
    "            pdfs = pdfs + i.strip('\"') + ', '\n",
    "\n",
    "    return pdfs.strip(', ')"
   ]
  },
  {
   "cell_type": "code",
   "execution_count": 5,
   "metadata": {},
   "outputs": [],
   "source": [
    "def panama():\n",
    "    titulos = []\n",
    "    descripciones = []\n",
    "    titulos = []\n",
    "    pdfs = []\n",
    "\n",
    "\n",
    "    pag = 'https://www.senacyt.gob.pa/category/convocatorias/'\n",
    "    links_proyectos_final = links_proyectos(pag)\n",
    "\n",
    "    for link_proyecto in links_proyectos_final:\n",
    "        \n",
    "        try:\n",
    "            titulo = titulo_proyecto(link_proyecto)\n",
    "        except:\n",
    "            totulo = ''\n",
    "        \n",
    "        try:\n",
    "            descripcion = descripcion_proyecto(link_proyecto)\n",
    "        except:\n",
    "            descripcion = ''\n",
    "            \n",
    "        try:\n",
    "            pdf = pdfs_proyecto(link_proyecto)\n",
    "        except:\n",
    "            pdf = ''\n",
    "\n",
    "        titulos.append(titulo)\n",
    "        descripciones.append(descripcion)\n",
    "        pdfs.append(pdf)\n",
    "\n",
    "        sleep(random.randrange(1, 3))\n",
    "        \n",
    "    panama = pd.DataFrame()\n",
    "    panama['Titulos'] = titulos\n",
    "    panama['Descripcion'] = descripciones\n",
    "    panama['PDFs'] = pdfs\n",
    "    panama['Link'] = links_proyectos_final\n",
    "\n",
    "    return panama\n"
   ]
  },
  {
   "cell_type": "code",
   "execution_count": 6,
   "metadata": {},
   "outputs": [
    {
     "output_type": "stream",
     "name": "stderr",
     "text": [
      "/home/duban/anaconda3/envs/scraping-clacso/lib/python3.8/site-packages/urllib3/connectionpool.py:981: InsecureRequestWarning: Unverified HTTPS request is being made to host 'www.senacyt.gob.pa'. Adding certificate verification is strongly advised. See: https://urllib3.readthedocs.io/en/latest/advanced-usage.html#ssl-warnings\n  warnings.warn(\n"
     ]
    },
    {
     "output_type": "execute_result",
     "data": {
      "text/plain": [
       "                                               Titulos  \\\n",
       "0      CONVOCATORIA PÚBLICA DE DIPLOMADO EN MATEMÁTICA   \n",
       "1    CONVOCATORIA PÚBLICA DE ESPECIALIZACIÓN EN DID...   \n",
       "2    MAESTRÍA EN ÁREAS ESPECÍFICAS DEL CONOCIMIENTO...   \n",
       "3    CONVOCATORIA DE SEGUIMIENTO DE VACUNAS PARA CO...   \n",
       "4    CONVOCATORIA PÚBLICA PARA EL FOMENTO A LA INVE...   \n",
       "..                                                 ...   \n",
       "243  CONVOCATORIA PÚBLICA PARA FORTALECER CONOCIMIE...   \n",
       "244     DOCTORADO DE INVESTIGACIÓN EN EL ÁREA DE SALUD   \n",
       "245  PROGRAMA DE BECAS FULBRIGHT-SENACYT-IFARHU En ...   \n",
       "246  CONVOCATORIA PÚBLICA PARA EL FOMENTO A LA INNO...   \n",
       "247  CONVOCATORIA PÚBLICA DE FOMENTO A I+D ORIENTAD...   \n",
       "\n",
       "                                           Descripcion  \\\n",
       "0    DIRIGIDA A: Docentes de educación primaria, co...   \n",
       "1    DIRIGIDA A: profesores de educación media, con...   \n",
       "2    DIRIGIDA A: Personas de nacionalidad panameña ...   \n",
       "3    DIRIGIDO A: Esta convocatoria hace un llamado ...   \n",
       "4    OBJETIVO: Fortalecer la capacidad nacional de ...   \n",
       "..                                                 ...   \n",
       "243  DIRIGIDA A: Sociedades anónimas, entidades Aca...   \n",
       "244  DIRIGIDA A: Panameños que deseen formarse como...   \n",
       "245  DIRIGIDO A: Profesionales panameños residentes...   \n",
       "246  OBJETIVO: Generar innovaciones para la educaci...   \n",
       "247  DIRIGIDO A: Grupos interdisciplinarios, con in...   \n",
       "\n",
       "                                                  PDFs  \\\n",
       "0    https://www.senacyt.gob.pa/wp-content/uploads/...   \n",
       "1    https://www.senacyt.gob.pa/wp-content/uploads/...   \n",
       "2    https://www.senacyt.gob.pa/wp-content/uploads/...   \n",
       "3    https://www.senacyt.gob.pa/wp-content/uploads/...   \n",
       "4    https://www.senacyt.gob.pa/wp-content/uploads/...   \n",
       "..                                                 ...   \n",
       "243  https://www.senacyt.gob.pa/wp-content/uploads/...   \n",
       "244  https://www.senacyt.gob.pa/wp-content/uploads/...   \n",
       "245  https://www.senacyt.gob.pa/wp-content/uploads/...   \n",
       "246  https://www.senacyt.gob.pa/wp-content/uploads/...   \n",
       "247  https://www.senacyt.gob.pa/wp-content/uploads/...   \n",
       "\n",
       "                                                  Link  \n",
       "0    https://www.senacyt.gob.pa/convocatoria-public...  \n",
       "1    https://www.senacyt.gob.pa/convocatoria-public...  \n",
       "2    https://www.senacyt.gob.pa/maestria-en-areas-e...  \n",
       "3    https://www.senacyt.gob.pa/convocatoria-de-seg...  \n",
       "4    https://www.senacyt.gob.pa/convocatoria-public...  \n",
       "..                                                 ...  \n",
       "243  https://www.senacyt.gob.pa/convocatoria-public...  \n",
       "244  https://www.senacyt.gob.pa/doctorado-de-invest...  \n",
       "245  https://www.senacyt.gob.pa/programa-de-becas-f...  \n",
       "246  https://www.senacyt.gob.pa/convocatoria-public...  \n",
       "247  https://www.senacyt.gob.pa/convocatoria-public...  \n",
       "\n",
       "[248 rows x 4 columns]"
      ],
      "text/html": "<div>\n<style scoped>\n    .dataframe tbody tr th:only-of-type {\n        vertical-align: middle;\n    }\n\n    .dataframe tbody tr th {\n        vertical-align: top;\n    }\n\n    .dataframe thead th {\n        text-align: right;\n    }\n</style>\n<table border=\"1\" class=\"dataframe\">\n  <thead>\n    <tr style=\"text-align: right;\">\n      <th></th>\n      <th>Titulos</th>\n      <th>Descripcion</th>\n      <th>PDFs</th>\n      <th>Link</th>\n    </tr>\n  </thead>\n  <tbody>\n    <tr>\n      <th>0</th>\n      <td>CONVOCATORIA PÚBLICA DE DIPLOMADO EN MATEMÁTICA</td>\n      <td>DIRIGIDA A: Docentes de educación primaria, co...</td>\n      <td>https://www.senacyt.gob.pa/wp-content/uploads/...</td>\n      <td>https://www.senacyt.gob.pa/convocatoria-public...</td>\n    </tr>\n    <tr>\n      <th>1</th>\n      <td>CONVOCATORIA PÚBLICA DE ESPECIALIZACIÓN EN DID...</td>\n      <td>DIRIGIDA A: profesores de educación media, con...</td>\n      <td>https://www.senacyt.gob.pa/wp-content/uploads/...</td>\n      <td>https://www.senacyt.gob.pa/convocatoria-public...</td>\n    </tr>\n    <tr>\n      <th>2</th>\n      <td>MAESTRÍA EN ÁREAS ESPECÍFICAS DEL CONOCIMIENTO...</td>\n      <td>DIRIGIDA A: Personas de nacionalidad panameña ...</td>\n      <td>https://www.senacyt.gob.pa/wp-content/uploads/...</td>\n      <td>https://www.senacyt.gob.pa/maestria-en-areas-e...</td>\n    </tr>\n    <tr>\n      <th>3</th>\n      <td>CONVOCATORIA DE SEGUIMIENTO DE VACUNAS PARA CO...</td>\n      <td>DIRIGIDO A: Esta convocatoria hace un llamado ...</td>\n      <td>https://www.senacyt.gob.pa/wp-content/uploads/...</td>\n      <td>https://www.senacyt.gob.pa/convocatoria-de-seg...</td>\n    </tr>\n    <tr>\n      <th>4</th>\n      <td>CONVOCATORIA PÚBLICA PARA EL FOMENTO A LA INVE...</td>\n      <td>OBJETIVO: Fortalecer la capacidad nacional de ...</td>\n      <td>https://www.senacyt.gob.pa/wp-content/uploads/...</td>\n      <td>https://www.senacyt.gob.pa/convocatoria-public...</td>\n    </tr>\n    <tr>\n      <th>...</th>\n      <td>...</td>\n      <td>...</td>\n      <td>...</td>\n      <td>...</td>\n    </tr>\n    <tr>\n      <th>243</th>\n      <td>CONVOCATORIA PÚBLICA PARA FORTALECER CONOCIMIE...</td>\n      <td>DIRIGIDA A: Sociedades anónimas, entidades Aca...</td>\n      <td>https://www.senacyt.gob.pa/wp-content/uploads/...</td>\n      <td>https://www.senacyt.gob.pa/convocatoria-public...</td>\n    </tr>\n    <tr>\n      <th>244</th>\n      <td>DOCTORADO DE INVESTIGACIÓN EN EL ÁREA DE SALUD</td>\n      <td>DIRIGIDA A: Panameños que deseen formarse como...</td>\n      <td>https://www.senacyt.gob.pa/wp-content/uploads/...</td>\n      <td>https://www.senacyt.gob.pa/doctorado-de-invest...</td>\n    </tr>\n    <tr>\n      <th>245</th>\n      <td>PROGRAMA DE BECAS FULBRIGHT-SENACYT-IFARHU En ...</td>\n      <td>DIRIGIDO A: Profesionales panameños residentes...</td>\n      <td>https://www.senacyt.gob.pa/wp-content/uploads/...</td>\n      <td>https://www.senacyt.gob.pa/programa-de-becas-f...</td>\n    </tr>\n    <tr>\n      <th>246</th>\n      <td>CONVOCATORIA PÚBLICA PARA EL FOMENTO A LA INNO...</td>\n      <td>OBJETIVO: Generar innovaciones para la educaci...</td>\n      <td>https://www.senacyt.gob.pa/wp-content/uploads/...</td>\n      <td>https://www.senacyt.gob.pa/convocatoria-public...</td>\n    </tr>\n    <tr>\n      <th>247</th>\n      <td>CONVOCATORIA PÚBLICA DE FOMENTO A I+D ORIENTAD...</td>\n      <td>DIRIGIDO A: Grupos interdisciplinarios, con in...</td>\n      <td>https://www.senacyt.gob.pa/wp-content/uploads/...</td>\n      <td>https://www.senacyt.gob.pa/convocatoria-public...</td>\n    </tr>\n  </tbody>\n</table>\n<p>248 rows × 4 columns</p>\n</div>"
     },
     "metadata": {},
     "execution_count": 6
    }
   ],
   "source": [
    "panama = panama()\n",
    "panama.to_excel('Panama.xlsx')"
   ]
  },
  {
   "cell_type": "code",
   "execution_count": 7,
   "metadata": {},
   "outputs": [],
   "source": [
    "panama.to_excel('Panama.xlsx')"
   ]
  },
  {
   "cell_type": "code",
   "execution_count": null,
   "metadata": {},
   "outputs": [],
   "source": []
  }
 ]
}