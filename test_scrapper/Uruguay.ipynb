{
 "metadata": {
  "language_info": {
   "codemirror_mode": {
    "name": "ipython",
    "version": 3
   },
   "file_extension": ".py",
   "mimetype": "text/x-python",
   "name": "python",
   "nbconvert_exporter": "python",
   "pygments_lexer": "ipython3",
   "version": "3.8.5-final"
  },
  "orig_nbformat": 2,
  "kernelspec": {
   "name": "python3",
   "display_name": "Python 3.8.5 64-bit ('scraping-clacso': conda)",
   "metadata": {
    "interpreter": {
     "hash": "95bb600096007ab9f567dd294a4f24ed256a7f8cd3baa781798d9a0497e2540f"
    }
   }
  }
 },
 "nbformat": 4,
 "nbformat_minor": 2,
 "cells": [
  {
   "cell_type": "code",
   "execution_count": 225,
   "metadata": {},
   "outputs": [],
   "source": [
    "import pandas as pd\n",
    "import numpy as np\n",
    "import requests\n",
    "from bs4 import BeautifulSoup\n",
    "from lxml import html\n",
    "import scrapy\n",
    "from time import sleep\n",
    "import urllib3\n",
    "import json\n",
    "from selenium import webdriver\n",
    "import random\n"
   ]
  },
  {
   "cell_type": "code",
   "execution_count": 226,
   "metadata": {},
   "outputs": [],
   "source": [
    "def parser(link):\n",
    "\n",
    "    encabezados = {\n",
    "    'user-agent': 'Mozilla/5.0 (X11; Linux x86_64) AppleWebKit/537.36 (KHTML, like Gecko) Chrome/44.0.2403.157 Safari/537.36'\n",
    "    }\n",
    "\n",
    "    resp = requests.get(link, headers=encabezados, verify=False)\n",
    "    resp = resp.text\n",
    "\n",
    "    #soup = get_Soup('https://minciencias.gov.co/convocatorias/todas')\n",
    "    parser = html.fromstring(resp)\n",
    "    urllib3.disable_warnings()\n",
    "\n",
    "    return parser"
   ]
  },
  {
   "cell_type": "code",
   "execution_count": 227,
   "metadata": {},
   "outputs": [],
   "source": [
    "#Links Abiertos\n",
    "\n",
    "def links_proyectos(parser):\n",
    "    links_proyectos = []\n",
    "\n",
    "    links_abiertos = parserT.xpath('//ul[@id=\"wrapper-instrumentos-open\"]//a//@href')\n",
    "    links_cerrados = parserT.xpath('//ul[@id=\"wrapper-instrumentos-close\"]//a//@href')\n",
    "\n",
    "    links_proyectos += links_abiertos \n",
    "    links_proyectos += links_cerrados\n",
    "\n",
    "    estados = []\n",
    "    for x in range(len(links_abiertos)):\n",
    "        estados.append('Abierto')\n",
    "    for x in range(len(links_cerrados)):\n",
    "        estados.append('Cerrado')\n",
    "\n",
    "        links = pd.DataFrame()\n",
    "    links['Link_proyecto'] = links_proyectos\n",
    "    links['Estado'] = estados\n",
    "\n",
    "    return links"
   ]
  },
  {
   "cell_type": "code",
   "execution_count": 228,
   "metadata": {},
   "outputs": [],
   "source": [
    "def titulo(parser_proyecto):\n",
    "\n",
    "    titulo = parser_proyecto.xpath('//h3/text()')\n",
    "\n",
    "    return titulo[0]"
   ]
  },
  {
   "cell_type": "code",
   "execution_count": 229,
   "metadata": {},
   "outputs": [],
   "source": [
    "def fechas(parser_proyecto):\n",
    "    \"\"\"\n",
    "    saca fechas de  apertura y cierre\n",
    "    \"\"\"\n",
    "    fechas_general = parser_proyecto.xpath('//span[@class=\"date_text\"]//text()')\n",
    "\n",
    "    apertura = ''\n",
    "    cierre = ''\n",
    "    for i in range(len(fechas_general)):\n",
    "        if fechas_general[i].lower() == 'apertura':\n",
    "            apertura = fechas_general[i+1].strip(' - ')\n",
    "        if fechas_general[i].lower() == 'cierre':\n",
    "            cierre = fechas_general[i+1].strip(' - ')\n",
    "\n",
    "    return apertura, cierre"
   ]
  },
  {
   "cell_type": "code",
   "execution_count": 230,
   "metadata": {},
   "outputs": [],
   "source": [
    "def descripcion(parser_proyecto):\n",
    "    \n",
    "    descripcion_general = parser_proyecto.xpath('//div[@class=\"row_left\"]//p/text()')\n",
    "\n",
    "    descripcion = ''\n",
    "    for i in descripcion_general:\n",
    "        if len(i.strip()) != 0:\n",
    "            descripcion = descripcion + i + ' '\n",
    "\n",
    "    return descripcion.strip()"
   ]
  },
  {
   "cell_type": "code",
   "execution_count": 231,
   "metadata": {},
   "outputs": [],
   "source": [
    "def pdfs(parser_proyecto):\n",
    "\n",
    "    links_general = parser_proyecto.xpath('//div[@class=\"center_content text-left\"]//a/@href')\n",
    "\n",
    "    documentos_convocatoria = ''\n",
    "    for link in links_general:\n",
    "        if link.endswith('.pdf') or link.endswith('.docx'):\n",
    "            documentos_convocatoria = documentos_convocatoria + link + ', '\n",
    "\n",
    "    return documentos_convocatoria.strip(', ') "
   ]
  },
  {
   "cell_type": "code",
   "execution_count": 232,
   "metadata": {},
   "outputs": [],
   "source": [
    "def uruguay():\n",
    "    parserT = parser('https://www.anii.org.uy/apoyos/investigacion/')\n",
    "    links = links_proyectos(parserT)\n",
    "\n",
    "    titulos = []\n",
    "    fechas_apertura = []\n",
    "    fechas_cierre = []\n",
    "    descripciones = []\n",
    "    pdf_proyecto = []\n",
    "\n",
    "    for i in links['Link_proyecto']:\n",
    "        parser_proyecto = parser(i)\n",
    "        apertura, cierre = fechas(parser_proyecto)\n",
    "        \n",
    "        titulos.append(titulo(parser_proyecto))\n",
    "        fechas_apertura.append(apertura)\n",
    "        fechas_cierre.append(cierre)\n",
    "        descripciones.append(descripcion(parser_proyecto))\n",
    "        pdf_proyecto.append(pdfs(parser_proyecto))\n",
    "\n",
    "\n",
    "    uruguay = pd.DataFrame()\n",
    "    uruguay['Titulo'] = titulos\n",
    "    uruguay['Fecha apertura'] = fechas_apertura\n",
    "    uruguay['Fecha cierre'] = fechas_cierre\n",
    "    uruguay['Descripción'] = descripciones\n",
    "    uruguay['Pdfs'] = pdf_proyecto \n",
    "    uruguay['Link Proyecto'] = links['Link_proyecto']\n",
    "    uruguay['Estado'] = links['Estado']\n",
    "\n",
    "    uruguay['Titulo'] = uruguay['Titulo'].str.encode(encoding = 'latin1').str.decode(encoding = 'UTF-8', errors='ignore')\n",
    "    uruguay['Descripción'] = uruguay['Descripción'].str.encode(encoding = 'latin1').str.decode(encoding = 'UTF-8', errors='ignore')\n",
    "    \n",
    "    return uruguay"
   ]
  },
  {
   "cell_type": "code",
   "execution_count": 233,
   "metadata": {},
   "outputs": [],
   "source": [
    "uruguay = uruguay()\n",
    "uruguay.to_excel('Uruguay.xlsx')"
   ]
  },
  {
   "cell_type": "code",
   "execution_count": null,
   "metadata": {},
   "outputs": [],
   "source": []
  }
 ]
}