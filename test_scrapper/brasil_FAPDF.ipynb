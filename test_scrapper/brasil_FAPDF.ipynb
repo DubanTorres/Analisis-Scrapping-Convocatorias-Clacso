{
 "metadata": {
  "language_info": {
   "codemirror_mode": {
    "name": "ipython",
    "version": 3
   },
   "file_extension": ".py",
   "mimetype": "text/x-python",
   "name": "python",
   "nbconvert_exporter": "python",
   "pygments_lexer": "ipython3",
   "version": "3.8.5"
  },
  "orig_nbformat": 2,
  "kernelspec": {
   "name": "python3",
   "display_name": "Python 3",
   "language": "python"
  }
 },
 "nbformat": 4,
 "nbformat_minor": 2,
 "cells": [
  {
   "cell_type": "code",
   "execution_count": 1,
   "metadata": {},
   "outputs": [],
   "source": [
    "import pandas as pd\n",
    "import numpy as np\n",
    "import requests\n",
    "from bs4 import BeautifulSoup\n",
    "from lxml import html\n",
    "import scrapy\n",
    "from time import sleep\n",
    "import urllib3\n",
    "import json\n",
    "from selenium import webdriver\n",
    "import random"
   ]
  },
  {
   "cell_type": "code",
   "execution_count": 2,
   "metadata": {},
   "outputs": [],
   "source": [
    "def parser(link):\n",
    "\n",
    "    encabezados = {\n",
    "    'user-agent': 'Mozilla/5.0 (X11; Linux x86_64) AppleWebKit/537.36 (KHTML, like Gecko) Chrome/44.0.2403.157 Safari/537.36'\n",
    "    }\n",
    "\n",
    "    resp = requests.get(link, headers=encabezados, verify=False)\n",
    "    resp = resp.text\n",
    "\n",
    "    #soup = get_Soup('https://minciencias.gov.co/convocatorias/todas')\n",
    "    parser = html.fromstring(resp)\n",
    "    urllib3.disable_warnings()\n",
    "\n",
    "    return parser"
   ]
  },
  {
   "cell_type": "code",
   "execution_count": 3,
   "metadata": {},
   "outputs": [],
   "source": [
    "\n",
    "links_proyectos = []\n",
    "titulos_proyectos = []\n",
    "anos_proyectos = []\n",
    "\n",
    "n = 1\n",
    "\n",
    "while n <= 12:\n",
    "\n",
    "    link = 'http://www.fap.df.gov.br/category/editais/' + '?page=' + str(n)\n",
    "\n",
    "    parserT = parser(link)\n",
    "    # link\n",
    "    links = parserT.xpath('//div[@class=\"row\"]/div[@class=\"col-md-9 col-md-offset-1\"]//h4/a/@href')\n",
    "    #titulos\n",
    "    titulos = parserT.xpath('//div[@class=\"row\"]/div[@class=\"col-md-9 col-md-offset-1\"]//h4//text()')\n",
    "    #anos\n",
    "    for tit in titulos:\n",
    "        ano = tit.split()[-1]\n",
    "        if ano.isdigit():\n",
    "            anos_proyectos.append(tit.split()[-1])\n",
    "        else:\n",
    "            anos_proyectos.append('')\n",
    "        \n",
    "    links_proyectos+=links\n",
    "    titulos_proyectos+=titulos\n",
    "    \n",
    "    \n",
    "    n+=1"
   ]
  },
  {
   "cell_type": "code",
   "execution_count": 4,
   "metadata": {},
   "outputs": [],
   "source": [
    "\n",
    "pdfs_proyectos = []\n",
    "descripcion_proyectos = []\n",
    "\n",
    "for link in links_proyectos:\n",
    "    parserT = parser(link)\n",
    "    \n",
    "    # pdfs\n",
    "\n",
    "    pdfs = parserT.xpath('//p//a/@href')\n",
    "    pdfs_proyecto = ''\n",
    "\n",
    "    for pdf in pdfs:\n",
    "        if pdf.endswith('.pdf'):\n",
    "            pdfs_proyecto = pdfs_proyecto + pdf + ', '\n",
    "    \n",
    "    # Descripción\n",
    "    descripcion_bruta = parserT.xpath('//p/text()')\n",
    "    descripcion = ''\n",
    "    for i in descripcion_bruta:\n",
    "        i = i.strip()\n",
    "        if len(i) != 0:\n",
    "            descripcion = descripcion + i + ' '\n",
    "\n",
    "    pdfs_proyectos.append(pdfs_proyecto.strip(', '))\n",
    "    descripcion_proyectos.append(descripcion.strip(' '))"
   ]
  },
  {
   "cell_type": "code",
   "execution_count": 6,
   "metadata": {},
   "outputs": [],
   "source": [
    "fapdf = pd.DataFrame()\n",
    "\n",
    "fapdf['Titulo'] = titulos_proyectos\n",
    "fapdf['Descripción'] = descripcion_proyectos\n",
    "fapdf['Ano'] = anos_proyectos\n",
    "fapdf['Link'] = links_proyectos\n",
    "fapdf['Pdfs'] = pdfs_proyectos\n",
    "fapdf.to_excel('brasil_fapdf.xlsx')"
   ]
  },
  {
   "cell_type": "code",
   "execution_count": null,
   "metadata": {},
   "outputs": [],
   "source": []
  }
 ]
}