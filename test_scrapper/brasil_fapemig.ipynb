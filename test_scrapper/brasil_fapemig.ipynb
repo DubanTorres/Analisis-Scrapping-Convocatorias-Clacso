{
 "metadata": {
  "language_info": {
   "codemirror_mode": {
    "name": "ipython",
    "version": 3
   },
   "file_extension": ".py",
   "mimetype": "text/x-python",
   "name": "python",
   "nbconvert_exporter": "python",
   "pygments_lexer": "ipython3",
   "version": "3.8.5"
  },
  "orig_nbformat": 2,
  "kernelspec": {
   "name": "python3",
   "display_name": "Python 3.8.5 64-bit ('scraping-clacso': conda)",
   "metadata": {
    "interpreter": {
     "hash": "95bb600096007ab9f567dd294a4f24ed256a7f8cd3baa781798d9a0497e2540f"
    }
   }
  }
 },
 "nbformat": 4,
 "nbformat_minor": 2,
 "cells": [
  {
   "cell_type": "code",
   "execution_count": 1,
   "metadata": {},
   "outputs": [],
   "source": [
    "import pandas as pd\n",
    "import numpy as np\n",
    "import requests\n",
    "from bs4 import BeautifulSoup\n",
    "from lxml import html\n",
    "import scrapy\n",
    "from time import sleep\n",
    "import urllib3\n",
    "import json\n",
    "from selenium import webdriver\n",
    "import random"
   ]
  },
  {
   "cell_type": "code",
   "execution_count": 2,
   "metadata": {},
   "outputs": [],
   "source": [
    "def parser(link):\n",
    "\n",
    "    encabezados = {\n",
    "    'user-agent': 'Mozilla/5.0 (X11; Linux x86_64) AppleWebKit/537.36 (KHTML, like Gecko) Chrome/44.0.2403.157 Safari/537.36'\n",
    "    }\n",
    "\n",
    "    resp = requests.get(link, headers=encabezados, verify=False)\n",
    "    resp = resp.text\n",
    "\n",
    "    #soup = get_Soup('https://minciencias.gov.co/convocatorias/todas')\n",
    "    parser = html.fromstring(resp)\n",
    "    urllib3.disable_warnings()\n",
    "\n",
    "    return parser"
   ]
  },
  {
   "cell_type": "code",
   "execution_count": 3,
   "metadata": {},
   "outputs": [],
   "source": [
    "link = 'http://www.fapemig.br/pt/chamadas_encerradas_oportunidades_fapemig/'"
   ]
  },
  {
   "cell_type": "code",
   "execution_count": 4,
   "metadata": {},
   "outputs": [],
   "source": [
    "parserT = parser(link)\n",
    "\n",
    "titles_brutos = parserT.xpath('//h1//text()')\n",
    "titles = []\n",
    "for t in range(len(titles_brutos)):\n",
    "    if not t % 2:\n",
    "        titles.append(titles_brutos[t].strip() + ' ' + titles_brutos[t+1].strip())\n",
    "        \n"
   ]
  },
  {
   "cell_type": "code",
   "execution_count": 5,
   "metadata": {},
   "outputs": [
    {
     "output_type": "execute_result",
     "data": {
      "text/plain": [
       "78"
      ]
     },
     "metadata": {},
     "execution_count": 5
    }
   ],
   "source": [
    "ids_brutos = parserT.xpath('//a/@href')\n",
    "ids_proyectos = []\n",
    "for i in ids_brutos:\n",
    "    if i.startswith('#') and i != '#':\n",
    "        ids_proyectos.append(i.strip('#'))\n",
    "\n",
    "len(ids_proyectos)"
   ]
  },
  {
   "cell_type": "code",
   "execution_count": 6,
   "metadata": {},
   "outputs": [
    {
     "output_type": "execute_result",
     "data": {
      "text/plain": [
       "78"
      ]
     },
     "metadata": {},
     "execution_count": 6
    }
   ],
   "source": [
    "pdfs_proyectos = []\n",
    "pdf = ''\n",
    "for i in ids_proyectos:\n",
    "    pdfs_proyecto = parserT.xpath('//div[@id=\"' + i + '\"]//a/@href')\n",
    "    pdfs = ''\n",
    "    for p in pdfs_proyecto:\n",
    "        p = 'http://www.fapemig.br/' + p.strip('../../')\n",
    "        if p.endswith('.pdf'):\n",
    "            pdfs = pdfs + p + ', '\n",
    "    \n",
    "    pdfs_proyectos.append(pdfs.strip(', '))\n",
    "\n",
    "len(pdfs_proyectos)"
   ]
  },
  {
   "cell_type": "code",
   "execution_count": 7,
   "metadata": {},
   "outputs": [],
   "source": [
    "fechas = parserT.xpath('//p[contains(text(), \"Data de encerrament\")]//text()')"
   ]
  },
  {
   "cell_type": "code",
   "execution_count": 8,
   "metadata": {},
   "outputs": [],
   "source": [
    "link = 'http://www.fapemig.br/pt/chamadas_encerradas_oportunidades_fapemig/'\n",
    "\n",
    "fechas_apertura = []\n",
    "fechas_cierre = []\n",
    "descripciones_proyectos = []\n",
    "\n",
    "driver = webdriver.Firefox()\n",
    "driver.get(link)\n",
    "\n",
    "clicks = driver.find_elements_by_xpath('//h5')\n",
    "\n",
    "for c in clicks:\n",
    "\n",
    "    c.click()\n",
    "\n",
    "    descripcion_proyecto_bruto = driver.find_elements_by_xpath('//div[@class=\"row mt-1\"]/div//p')\n",
    "\n",
    "    descripcion_proyecto = ''\n",
    "\n",
    "    for desc in descripcion_proyecto_bruto:\n",
    "\n",
    "        descripcion_proyecto = descripcion_proyecto + desc.text + ' '\n",
    "\n",
    "    descripciones_proyectos.append(descripcion_proyecto.strip())\n",
    "\n",
    "\n",
    "    try:\n",
    "        if 'inclusão' or 'Inclusão:' in descripcion_proyecto:\n",
    "            descripcion_proyecto = descripcion_proyecto.lower()\n",
    "            fechas_apertura.append(descripcion_proyecto.split('inclusão:')[1].strip().split(' ')[0])\n",
    "    except:\n",
    "        fechas_apertura.append('')\n",
    "\n",
    "\n",
    "\n",
    "    try:\n",
    "        if 'encerramento' or 'Encerramento:' in descripcion_proyecto:\n",
    "            descripcion_proyecto = descripcion_proyecto.lower()\n",
    "            fechas_cierre.append(descripcion_proyecto.split('encerramento:')[1].strip().split(' ')[0])\n",
    "\n",
    "    except:\n",
    "        fechas_cierre.append('')\n",
    "\n",
    "    c.click()\n",
    "\n",
    "driver.quit()"
   ]
  },
  {
   "cell_type": "code",
   "execution_count": 9,
   "metadata": {},
   "outputs": [],
   "source": [
    "fapemig = pd.DataFrame()\n",
    "\n",
    "fapemig['Título'] = titles\n",
    "fapemig['Descripción'] = descripciones_proyectos\n",
    "fapemig['Fecha Apertura'] = fechas_apertura\n",
    "fapemig['Fecha Cierre'] = fechas_cierre\n",
    "fapemig['Pdfs'] = pdfs_proyectos\n"
   ]
  },
  {
   "cell_type": "code",
   "execution_count": 11,
   "metadata": {},
   "outputs": [],
   "source": [
    "fapemig.to_excel('brasil_fapemig.xlsx')"
   ]
  },
  {
   "cell_type": "code",
   "execution_count": null,
   "metadata": {},
   "outputs": [],
   "source": []
  }
 ]
}