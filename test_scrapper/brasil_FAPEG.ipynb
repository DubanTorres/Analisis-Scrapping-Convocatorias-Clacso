{
 "metadata": {
  "language_info": {
   "codemirror_mode": {
    "name": "ipython",
    "version": 3
   },
   "file_extension": ".py",
   "mimetype": "text/x-python",
   "name": "python",
   "nbconvert_exporter": "python",
   "pygments_lexer": "ipython3",
   "version": "3.8.5"
  },
  "orig_nbformat": 2,
  "kernelspec": {
   "name": "python3",
   "display_name": "Python 3.8.5 64-bit ('scraping-clacso': conda)"
  },
  "metadata": {
   "interpreter": {
    "hash": "95bb600096007ab9f567dd294a4f24ed256a7f8cd3baa781798d9a0497e2540f"
   }
  },
  "interpreter": {
   "hash": "95bb600096007ab9f567dd294a4f24ed256a7f8cd3baa781798d9a0497e2540f"
  }
 },
 "nbformat": 4,
 "nbformat_minor": 2,
 "cells": [
  {
   "cell_type": "code",
   "execution_count": 1,
   "metadata": {},
   "outputs": [],
   "source": [
    "import pandas as pd\n",
    "import numpy as np\n",
    "import requests\n",
    "from bs4 import BeautifulSoup\n",
    "from lxml import html\n",
    "import scrapy\n",
    "from time import sleep\n",
    "import urllib3\n",
    "import json\n",
    "from selenium import webdriver\n",
    "import random"
   ]
  },
  {
   "cell_type": "code",
   "execution_count": 2,
   "metadata": {},
   "outputs": [],
   "source": [
    "def parser(link):\n",
    "\n",
    "    encabezados = {\n",
    "    'user-agent': 'Mozilla/5.0 (X11; Linux x86_64) AppleWebKit/537.36 (KHTML, like Gecko) Chrome/44.0.2403.157 Safari/537.36'\n",
    "    }\n",
    "\n",
    "    resp = requests.get(link, headers=encabezados, verify=False)\n",
    "    resp = resp.text\n",
    "\n",
    "    #soup = get_Soup('https://minciencias.gov.co/convocatorias/todas')\n",
    "    parser = html.fromstring(resp)\n",
    "    urllib3.disable_warnings()\n",
    "\n",
    "    return parser"
   ]
  },
  {
   "cell_type": "code",
   "execution_count": 3,
   "metadata": {},
   "outputs": [],
   "source": [
    "link = 'http://www.fapeg.go.gov.br/categoria/editais/'\n",
    "parser_general = parser(link)\n",
    "numpags = parser_general.xpath('//a[@class=\"page-numbers\"]/text()')\n",
    "numpags = int(numpags[-1])\n",
    "numpags\n",
    "\n",
    "titulos_proyectos = []\n",
    "links_proyectos = []\n",
    "fechas_proyectos = []\n",
    "n = 1\n",
    "while n <= numpags:\n",
    "\n",
    "    link_pag = link + 'page/' + str(n) + '/'\n",
    "    \n",
    "\n",
    "    parser_pag = parser(link_pag)\n",
    "\n",
    "    title = parser_pag.xpath('//h1[@class=\"entry-title\"]/a/text()')\n",
    "\n",
    "    link_proy = parser_pag.xpath('//h1[@class=\"entry-title\"]/a/@href')\n",
    "\n",
    "    date = parser_pag.xpath('//time[@class=\"entry-date\"]/text()')\n",
    "\n",
    "    titulos_proyectos += title\n",
    "    links_proyectos += link_proy\n",
    "    fechas_proyectos += date\n",
    "\n",
    "    n+=1 "
   ]
  },
  {
   "cell_type": "code",
   "execution_count": 19,
   "metadata": {},
   "outputs": [],
   "source": [
    "pdfs_proyectos = []\n",
    "\n",
    "emitir = ['http://www.fapeg.go.gov.br/wp-content/uploads/2020/01/DECRETO-NUMERADO-Nº-9.597.pdf']\n",
    "\n",
    "for link in links_proyectos:\n",
    "    \n",
    "    parser_proyecto = parser(link)\n",
    "\n",
    "    pdfs_brutos= parser_proyecto.xpath('//a/@href')\n",
    "\n",
    "    pdfs_proyecto = ''\n",
    "\n",
    "    for pdf in pdfs_brutos:\n",
    "        if pdf.endswith('.pdf') and pdf not in emitir:\n",
    "            if pdf.startswith('https://') or pdf.startswith('http://'):\n",
    "                pdfs_proyecto = pdfs_proyecto + pdf + ', '\n",
    "            else:\n",
    "                pdf = 'http://www.fapeg.go.gov.br' + pdf\n",
    "                pdfs_proyecto = pdfs_proyecto + pdf + ', '\n",
    "        \n",
    "    pdfs_proyectos.append(pdfs_proyecto.strip(', '))"
   ]
  },
  {
   "cell_type": "code",
   "execution_count": 20,
   "metadata": {},
   "outputs": [],
   "source": [
    "fapeg = pd.DataFrame()\n",
    "\n",
    "fapeg['Título'] = titulos_proyectos\n",
    "fapeg['Link'] = links_proyectos\n",
    "fapeg['Fecha'] = fechas_proyectos\n",
    "fapeg['Pdfs'] = pdfs_proyectos\n",
    "\n",
    "fapeg.to_excel('brasil_Fapeg.xlsx')"
   ]
  },
  {
   "cell_type": "code",
   "execution_count": 21,
   "metadata": {},
   "outputs": [
    {
     "output_type": "execute_result",
     "data": {
      "text/plain": [
       "                                               Título  \\\n",
       "0   Chamada Pública Nº03/2021 – Programa de Conces...   \n",
       "1   Chamada Pública Nº 02/2021- Seleção de Bolsist...   \n",
       "2                CHAMADA CONFAP CNPq FAPEG – ERC 2020   \n",
       "3   EDITAL FAPEG Nº01/2021 PROGRAMA DE CONCESSÃO D...   \n",
       "4               CONFAP – CNPq – H2020 Green Deal Call   \n",
       "5   Chamada Nº 06/2020 – Seleção de Bolsistas no â...   \n",
       "6   Chamada Pública 05/2020 – 7ª Edição do PROGRAM...   \n",
       "7   Chamada Pública Nº 04/2020  – Seleção de profi...   \n",
       "8   Chamada Pública 03/2020 – Programa Governo com...   \n",
       "9                       Chamada Confap-MSCA Rise 2020   \n",
       "10                    Chamada Aquatic Pollutants 2020   \n",
       "11  Chamada Emergencial UE – Desenvolvimento de Te...   \n",
       "12  Chamada Pública Nº 01/2020 – CONFAP CNPQ UK Ac...   \n",
       "13  Chamada Pública Nº 02 /2020 – Seleção de Bolsi...   \n",
       "14            Chamada Pública N° 07/2019 – Tecnova II   \n",
       "15  Chamada Pública N° 06/2019 – Apoio à Estrutura...   \n",
       "16                       Chamada Pública Confap-Maeci   \n",
       "17  DAAD 2019 – Programa de Auxílio para Doutorand...   \n",
       "18                                       FameLab 2020   \n",
       "19  Chamada Pública 05/2019 – Projetos de Fortalec...   \n",
       "20  CHAMADA PÚBLICA FAPEG N° 04/2019 – AUXÍLIO À ...   \n",
       "\n",
       "                                                 Link                   Fecha  \\\n",
       "0   http://www.fapeg.go.gov.br/chamada-03-2021-pro...     14 de junho de 2021   \n",
       "1   http://www.fapeg.go.gov.br/chamada-publica-no-...      6 de abril de 2021   \n",
       "2   http://www.fapeg.go.gov.br/chamada-confap-cnpq...  2 de fevereiro de 2021   \n",
       "3   http://www.fapeg.go.gov.br/edital-fapeg-no01-2...    5 de janeiro de 2021   \n",
       "4   http://www.fapeg.go.gov.br/confap-cnpq-h2020-g...   5 de novembro de 2020   \n",
       "5   http://www.fapeg.go.gov.br/chamada-no-06-2020-...    31 de agosto de 2020   \n",
       "6   http://www.fapeg.go.gov.br/chamada-publica-05-...    26 de agosto de 2020   \n",
       "7   http://www.fapeg.go.gov.br/chamada-publica-no-...    21 de agosto de 2020   \n",
       "8   http://www.fapeg.go.gov.br/chamada-publica-03-...     21 de julho de 2020   \n",
       "9   http://www.fapeg.go.gov.br/chamada-confap-msca...     26 de março de 2020   \n",
       "10  http://www.fapeg.go.gov.br/chamada-aquatic-pol...     26 de março de 2020   \n",
       "11  http://www.fapeg.go.gov.br/chamada-emergencial...     19 de março de 2020   \n",
       "12  http://www.fapeg.go.gov.br/chamada-publica-01-...   21 de janeiro de 2020   \n",
       "13  http://www.fapeg.go.gov.br/chamada-publica-no-...   20 de janeiro de 2020   \n",
       "14  http://www.fapeg.go.gov.br/edital-07-2019-tecn...  19 de dezembro de 2019   \n",
       "15  http://www.fapeg.go.gov.br/chamada-publica-n-0...  17 de dezembro de 2019   \n",
       "16  http://www.fapeg.go.gov.br/chamada-publica-con...   4 de dezembro de 2019   \n",
       "17  http://www.fapeg.go.gov.br/daad-2019-programa-...   6 de novembro de 2019   \n",
       "18           http://www.fapeg.go.gov.br/famelab-2019/   22 de outubro de 2019   \n",
       "19  http://www.fapeg.go.gov.br/chamada-publica-05-...   16 de outubro de 2019   \n",
       "20  http://www.fapeg.go.gov.br/wp-content-uploads-...  19 de setembro de 2019   \n",
       "\n",
       "                                                 Pdfs  \n",
       "0   http://www.fapeg.go.gov.br/wp-content/uploads/...  \n",
       "1   http://www.fapeg.go.gov.br/wp-content/uploads/...  \n",
       "2   http://www.fapeg.go.gov.br/wp-content/uploads/...  \n",
       "3   http://www.fapeg.go.gov.br/wp-content/uploads/...  \n",
       "4   http://www.fapeg.go.gov.br/wp-content/uploads/...  \n",
       "5   http://www.fapeg.go.gov.br/wp-content/uploads/...  \n",
       "6   http://www.fapeg.go.gov.br/wp-content/uploads/...  \n",
       "7   http://www.fapeg.go.gov.br/wp-content/uploads/...  \n",
       "8   http://www.fapeg.go.gov.br/wp-content/uploads/...  \n",
       "9   http://www.fapeg.go.gov.br/wp-content/uploads/...  \n",
       "10  http://www.fapeg.go.gov.br/wp-content/uploads/...  \n",
       "11  https://www.imi.europa.eu/sites/default/files/...  \n",
       "12  http://www.fapeg.go.gov.br/wp-content/uploads/...  \n",
       "13  http://www.fapeg.go.gov.br/wp-content/uploads/...  \n",
       "14  http://www.fapeg.go.gov.br/wp-content/uploads/...  \n",
       "15  http://www.fapeg.go.gov.br/wp-content/uploads/...  \n",
       "16  http://www.fapeg.go.gov.br/wp-content/uploads/...  \n",
       "17  http://www.fapeg.go.gov.br/wp-content/uploads/...  \n",
       "18  https://www.britishcouncil.org.br/sites/defaul...  \n",
       "19  http://www.fapeg.go.gov.br/wp-content/uploads/...  \n",
       "20  http://www.fapeg.go.gov.br/wp-content/uploads/...  "
      ],
      "text/html": "<div>\n<style scoped>\n    .dataframe tbody tr th:only-of-type {\n        vertical-align: middle;\n    }\n\n    .dataframe tbody tr th {\n        vertical-align: top;\n    }\n\n    .dataframe thead th {\n        text-align: right;\n    }\n</style>\n<table border=\"1\" class=\"dataframe\">\n  <thead>\n    <tr style=\"text-align: right;\">\n      <th></th>\n      <th>Título</th>\n      <th>Link</th>\n      <th>Fecha</th>\n      <th>Pdfs</th>\n    </tr>\n  </thead>\n  <tbody>\n    <tr>\n      <th>0</th>\n      <td>Chamada Pública Nº03/2021 – Programa de Conces...</td>\n      <td>http://www.fapeg.go.gov.br/chamada-03-2021-pro...</td>\n      <td>14 de junho de 2021</td>\n      <td>http://www.fapeg.go.gov.br/wp-content/uploads/...</td>\n    </tr>\n    <tr>\n      <th>1</th>\n      <td>Chamada Pública Nº 02/2021- Seleção de Bolsist...</td>\n      <td>http://www.fapeg.go.gov.br/chamada-publica-no-...</td>\n      <td>6 de abril de 2021</td>\n      <td>http://www.fapeg.go.gov.br/wp-content/uploads/...</td>\n    </tr>\n    <tr>\n      <th>2</th>\n      <td>CHAMADA CONFAP CNPq FAPEG – ERC 2020</td>\n      <td>http://www.fapeg.go.gov.br/chamada-confap-cnpq...</td>\n      <td>2 de fevereiro de 2021</td>\n      <td>http://www.fapeg.go.gov.br/wp-content/uploads/...</td>\n    </tr>\n    <tr>\n      <th>3</th>\n      <td>EDITAL FAPEG Nº01/2021 PROGRAMA DE CONCESSÃO D...</td>\n      <td>http://www.fapeg.go.gov.br/edital-fapeg-no01-2...</td>\n      <td>5 de janeiro de 2021</td>\n      <td>http://www.fapeg.go.gov.br/wp-content/uploads/...</td>\n    </tr>\n    <tr>\n      <th>4</th>\n      <td>CONFAP – CNPq – H2020 Green Deal Call</td>\n      <td>http://www.fapeg.go.gov.br/confap-cnpq-h2020-g...</td>\n      <td>5 de novembro de 2020</td>\n      <td>http://www.fapeg.go.gov.br/wp-content/uploads/...</td>\n    </tr>\n    <tr>\n      <th>5</th>\n      <td>Chamada Nº 06/2020 – Seleção de Bolsistas no â...</td>\n      <td>http://www.fapeg.go.gov.br/chamada-no-06-2020-...</td>\n      <td>31 de agosto de 2020</td>\n      <td>http://www.fapeg.go.gov.br/wp-content/uploads/...</td>\n    </tr>\n    <tr>\n      <th>6</th>\n      <td>Chamada Pública 05/2020 – 7ª Edição do PROGRAM...</td>\n      <td>http://www.fapeg.go.gov.br/chamada-publica-05-...</td>\n      <td>26 de agosto de 2020</td>\n      <td>http://www.fapeg.go.gov.br/wp-content/uploads/...</td>\n    </tr>\n    <tr>\n      <th>7</th>\n      <td>Chamada Pública Nº 04/2020  – Seleção de profi...</td>\n      <td>http://www.fapeg.go.gov.br/chamada-publica-no-...</td>\n      <td>21 de agosto de 2020</td>\n      <td>http://www.fapeg.go.gov.br/wp-content/uploads/...</td>\n    </tr>\n    <tr>\n      <th>8</th>\n      <td>Chamada Pública 03/2020 – Programa Governo com...</td>\n      <td>http://www.fapeg.go.gov.br/chamada-publica-03-...</td>\n      <td>21 de julho de 2020</td>\n      <td>http://www.fapeg.go.gov.br/wp-content/uploads/...</td>\n    </tr>\n    <tr>\n      <th>9</th>\n      <td>Chamada Confap-MSCA Rise 2020</td>\n      <td>http://www.fapeg.go.gov.br/chamada-confap-msca...</td>\n      <td>26 de março de 2020</td>\n      <td>http://www.fapeg.go.gov.br/wp-content/uploads/...</td>\n    </tr>\n    <tr>\n      <th>10</th>\n      <td>Chamada Aquatic Pollutants 2020</td>\n      <td>http://www.fapeg.go.gov.br/chamada-aquatic-pol...</td>\n      <td>26 de março de 2020</td>\n      <td>http://www.fapeg.go.gov.br/wp-content/uploads/...</td>\n    </tr>\n    <tr>\n      <th>11</th>\n      <td>Chamada Emergencial UE – Desenvolvimento de Te...</td>\n      <td>http://www.fapeg.go.gov.br/chamada-emergencial...</td>\n      <td>19 de março de 2020</td>\n      <td>https://www.imi.europa.eu/sites/default/files/...</td>\n    </tr>\n    <tr>\n      <th>12</th>\n      <td>Chamada Pública Nº 01/2020 – CONFAP CNPQ UK Ac...</td>\n      <td>http://www.fapeg.go.gov.br/chamada-publica-01-...</td>\n      <td>21 de janeiro de 2020</td>\n      <td>http://www.fapeg.go.gov.br/wp-content/uploads/...</td>\n    </tr>\n    <tr>\n      <th>13</th>\n      <td>Chamada Pública Nº 02 /2020 – Seleção de Bolsi...</td>\n      <td>http://www.fapeg.go.gov.br/chamada-publica-no-...</td>\n      <td>20 de janeiro de 2020</td>\n      <td>http://www.fapeg.go.gov.br/wp-content/uploads/...</td>\n    </tr>\n    <tr>\n      <th>14</th>\n      <td>Chamada Pública N° 07/2019 – Tecnova II</td>\n      <td>http://www.fapeg.go.gov.br/edital-07-2019-tecn...</td>\n      <td>19 de dezembro de 2019</td>\n      <td>http://www.fapeg.go.gov.br/wp-content/uploads/...</td>\n    </tr>\n    <tr>\n      <th>15</th>\n      <td>Chamada Pública N° 06/2019 – Apoio à Estrutura...</td>\n      <td>http://www.fapeg.go.gov.br/chamada-publica-n-0...</td>\n      <td>17 de dezembro de 2019</td>\n      <td>http://www.fapeg.go.gov.br/wp-content/uploads/...</td>\n    </tr>\n    <tr>\n      <th>16</th>\n      <td>Chamada Pública Confap-Maeci</td>\n      <td>http://www.fapeg.go.gov.br/chamada-publica-con...</td>\n      <td>4 de dezembro de 2019</td>\n      <td>http://www.fapeg.go.gov.br/wp-content/uploads/...</td>\n    </tr>\n    <tr>\n      <th>17</th>\n      <td>DAAD 2019 – Programa de Auxílio para Doutorand...</td>\n      <td>http://www.fapeg.go.gov.br/daad-2019-programa-...</td>\n      <td>6 de novembro de 2019</td>\n      <td>http://www.fapeg.go.gov.br/wp-content/uploads/...</td>\n    </tr>\n    <tr>\n      <th>18</th>\n      <td>FameLab 2020</td>\n      <td>http://www.fapeg.go.gov.br/famelab-2019/</td>\n      <td>22 de outubro de 2019</td>\n      <td>https://www.britishcouncil.org.br/sites/defaul...</td>\n    </tr>\n    <tr>\n      <th>19</th>\n      <td>Chamada Pública 05/2019 – Projetos de Fortalec...</td>\n      <td>http://www.fapeg.go.gov.br/chamada-publica-05-...</td>\n      <td>16 de outubro de 2019</td>\n      <td>http://www.fapeg.go.gov.br/wp-content/uploads/...</td>\n    </tr>\n    <tr>\n      <th>20</th>\n      <td>CHAMADA PÚBLICA FAPEG N° 04/2019 – AUXÍLIO À ...</td>\n      <td>http://www.fapeg.go.gov.br/wp-content-uploads-...</td>\n      <td>19 de setembro de 2019</td>\n      <td>http://www.fapeg.go.gov.br/wp-content/uploads/...</td>\n    </tr>\n  </tbody>\n</table>\n</div>"
     },
     "metadata": {},
     "execution_count": 21
    }
   ],
   "source": [
    "fapeg[0:21]"
   ]
  }
 ]
}