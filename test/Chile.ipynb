{
 "metadata": {
  "language_info": {
   "codemirror_mode": {
    "name": "ipython",
    "version": 3
   },
   "file_extension": ".py",
   "mimetype": "text/x-python",
   "name": "python",
   "nbconvert_exporter": "python",
   "pygments_lexer": "ipython3",
   "version": "3.8.5-final"
  },
  "orig_nbformat": 2,
  "kernelspec": {
   "name": "python3",
   "display_name": "Python 3.8.5 64-bit ('scraping-clacso': conda)",
   "metadata": {
    "interpreter": {
     "hash": "95bb600096007ab9f567dd294a4f24ed256a7f8cd3baa781798d9a0497e2540f"
    }
   }
  }
 },
 "nbformat": 4,
 "nbformat_minor": 2,
 "cells": [
  {
   "cell_type": "code",
   "execution_count": 152,
   "metadata": {},
   "outputs": [],
   "source": [
    "import pandas as pd\n",
    "import numpy as np\n",
    "import requests\n",
    "from bs4 import BeautifulSoup\n",
    "from lxml import html\n",
    "import scrapy\n",
    "from time import sleep\n",
    "import urllib3\n",
    "import json\n",
    "from selenium import webdriver\n",
    "import random"
   ]
  },
  {
   "cell_type": "code",
   "execution_count": null,
   "metadata": {},
   "outputs": [],
   "source": [
    "def parser(link):\n",
    "\n",
    "    encabezados = {\n",
    "    'user-agent': 'Mozilla/5.0 (X11; Linux x86_64) AppleWebKit/537.36 (KHTML, like Gecko) Chrome/44.0.2403.157 Safari/537.36'\n",
    "    }\n",
    "\n",
    "    resp = requests.get(link, headers=encabezados, verify=False)\n",
    "    resp = resp.text\n",
    "\n",
    "    #soup = get_Soup('https://minciencias.gov.co/convocatorias/todas')\n",
    "    parser = html.fromstring(resp)\n",
    "    urllib3.disable_warnings()\n",
    "\n",
    "    return parser"
   ]
  },
  {
   "cell_type": "code",
   "execution_count": 201,
   "metadata": {
    "tags": []
   },
   "outputs": [],
   "source": [
    "#links\n",
    "estados = ['https://www.conicyt.cl/blog/category/concursos/abiertos/', 'https://www.conicyt.cl/blog/category/concursos/en-evaluacion/', 'https://www.conicyt.cl/blog/category/concursos/adjudicados/', 'https://www.conicyt.cl/blog/category/concursos/proximos/']\n",
    "\n",
    "def links_proyectos(estados_chile):\n",
    "\n",
    "    links = []\n",
    "    for estado in estados:\n",
    "\n",
    "        parserT = parser(estado)\n",
    "\n",
    "        #Extrae y organiza lista de paginacion\n",
    "        paginacion = parserT.xpath('//div[@class=\"pagenavi\"]/ul//a/@href')\n",
    "        \n",
    "        urls = []\n",
    "        pagina = 'https://www.conicyt.cl/blog/category/concursos/adjudicados/'\n",
    "        if len(paginacion) != 0:\n",
    "            paginacion.pop()\n",
    "            paginacion.append('?pag=1')\n",
    "            for link in paginacion:\n",
    "                urls.append(pagina+link)\n",
    "        else:\n",
    "            urls.append(estado)\n",
    "        \n",
    "        \n",
    "\n",
    "        #Extrae links de cada pag\n",
    "        \n",
    "        for url in urls:\n",
    "            parser_url = parser(url)\n",
    "            links_pagina = parser_url.xpath('//div[@id=\"contenido_doble\"]//h2/a/@href')\n",
    "            links += links_pagina\n",
    "        \n",
    "        \n",
    "        for link in links:\n",
    "            if link.startswith('https://www.conicyt.cl/becasconicyt'):\n",
    "                links.remove(link)\n",
    "\n",
    "\n",
    "    return links\n",
    "\n",
    "links = links_proyectos(estados)\n",
    "\n"
   ]
  },
  {
   "cell_type": "code",
   "execution_count": null,
   "metadata": {},
   "outputs": [],
   "source": [
    "#ano\n",
    "parser_proy = parser(links[0])\n",
    "\n",
    "\n",
    "\n"
   ]
  },
  {
   "cell_type": "code",
   "execution_count": 205,
   "metadata": {},
   "outputs": [
    {
     "output_type": "stream",
     "name": "stdout",
     "text": [
      "https://www.conicyt.cl/astronomia/2011/09/01/concurso-propuestas-de-observacion-astronomica-para-tiempo-chileno-en-el-observatorio-gemini-sur-2012a/\n",
      "https://www.conicyt.cl/fondef/2011/03/27/viii-concurso-nacional-de-proyectos-de-investigacion-y-desarrollo-en-salud-2011/\n",
      "https://www.conicyt.cl/astronomia/2011/07/25/fondo-alma-conicyt-para-el-desarrollo-de-la-astronomia-chilena-convocatoria-2011/\n",
      "https://www.conicyt.cl/regional/2012/09/03/concurso-de-adjudicacion-de-los-equipos-asociados-a-la-creacion-del-centro-de-ingenieria-de-la-innovacion-cin/\n",
      "https://www.conicyt.cl/informacioncientifica/2011/07/04/concurso-fondo-de-publicacion-de-revistas-cientificas-chilenas-2011/\n",
      "https://www.conicyt.cl/pai/2011/05/09/concurso-nacional-atraccion-de-capital-humano-avanzado-del-extranjero-modalidad-estadias-cortas-mec-segunda-convocatoria-2011/\n",
      "https://www.conicyt.cl/pai/2011/05/09/concurso-de-insercion-de-capital-humano-avanzado-en-el-sector-productivo-chileno-segunda-convocatoria-2011/\n",
      "https://www.conicyt.cl/pai/2011/05/09/concurso-nacional-tesis-de-postgrado-en-la-industria-segunda-convocatoria-2011/\n",
      "https://www.conicyt.cl/pai/2011/05/09/concurso-nacional-de-insercion-de-capital-humano-en-la-academia-segunda-convocatoria-2011/\n",
      "https://www.conicyt.cl/pia/2011/05/16/concurso-investigacion-conjunta-anpcytargentina-conicytchile-2011/\n",
      "https://www.conicyt.cl/fondecyt/2011/05/04/concurso-regular-fondecyt-2012/\n",
      "https://www.conicyt.cl/becas-conicyt/2012/08/becas-de-magister-en-chile-para-funcionariosas-del-sector-publico-ano-academico-2011/\n",
      "https://www.conicyt.cl/regional/2012/08/16/iii-concurso-de-proyectos-de-diplomados-regionales-en-tematicas-vinculadas-con-la-innovacion-para-la-competitividad-orientado-a-la-industria-agroalimentaria-region-de-valparaiso-convocatoria-2011/\n",
      "https://www.conicyt.cl/pai/2011/01/12/concurso-nacional-de-insercion-de-capital-humano-en-la-academia-convocatoria-2011/\n",
      "https://www.conicyt.cl/pai/2011/01/12/concurso-nacional-de-atraccion-de-capital-humano-avanzado-del-extranjero-modalidad-de-estadias-cortas-mec-ano-2011/\n",
      "https://www.conicyt.cl/pci/2011/04/premio-de-excelencia-cientifica-abate-juan-ignacio-molina-convocatoria-2011/\n",
      "https://www.conicyt.cl/astronomia/2011/04/11/concurso-propuestas-de-observacion-astronomicas-para-tiempo-chileno-en-el-telescopio-apex-2011-b/\n",
      "https://www.conicyt.cl/pci/2010/12/concurso-del-programa-regional-tics-amsud-convocatoria-2011/\n",
      "https://www.conicyt.cl/pci/2010/12/concurso-programa-regional-math-amsud-convocatoria-2011/\n",
      "https://www.conicyt.cl/becas-conicyt/2012/09/becas-de-doctorado-en-el-extranjero-becas-chile-convocatoria-2011/\n"
     ]
    }
   ],
   "source": [
    "\n",
    "\n",
    "\n",
    "descripciones = []\n",
    "for link in links[470:490]:\n",
    "\n",
    "    \n",
    "    print(link)\n",
    "    driver = webdriver.Firefox()\n",
    "    driver.get(link)\n",
    "\n",
    "    try:\n",
    "        boton_descripcion = driver.find_element_by_xpath('//div[contains(text(), \"presentación\")]')\n",
    "    \n",
    "    except:\n",
    "        try:\n",
    "            boton_descripcion = driver.find_element_by_xpath('//li[contains(text(), \"Presentación\")]')\n",
    "        except:\n",
    "            try:\n",
    "                boton_descripcion = driver.find_element_by_xpath('//div[contains(@class, \"accordion-Presentacin\")]')\n",
    "            except:\n",
    "                continue\n",
    "\n",
    "\n",
    "    boton_descripcion.click()\n",
    "\n",
    "    try:\n",
    "        descripcion = driver.find_element_by_xpath('.//div[@id=\"content-1\"]').text\n",
    "\n",
    "    except:\n",
    "        try:\n",
    "            descripcion = driver.find_element_by_xpath('.//div[@id=\"pane-0-0\"]').text\n",
    "        except:\n",
    "            descripcion = driver.find_element_by_xpath('.//div[@class=\"arconix-accordion-content\"]').text\n",
    "    driver.quit()\n",
    "    sleep(random.uniform(3, 5))\n",
    "\n",
    "    descripciones.append(descripcion)\n"
   ]
  },
  {
   "cell_type": "code",
   "execution_count": null,
   "metadata": {},
   "outputs": [],
   "source": [
    "links[0]"
   ]
  },
  {
   "cell_type": "code",
   "execution_count": 202,
   "metadata": {},
   "outputs": [
    {
     "output_type": "stream",
     "name": "stdout",
     "text": [
      "https://www.conicyt.cl/fondecyt/2012/12/12/investigacion-colaborativa-de-jovenes-investigadoresas-fondecyt-helmholtz-2012/\nhttps://www.conicyt.cl/fondecyt/2012/10/09/concurso-regular-fondecyt-2013/\n"
     ]
    }
   ],
   "source": [
    "for link in links:\n",
    "    if link.startswith('https://www.conicyt.cl/fondecyt/2012'):\n",
    "        print(link)\n"
   ]
  },
  {
   "cell_type": "code",
   "execution_count": 203,
   "metadata": {},
   "outputs": [
    {
     "output_type": "execute_result",
     "data": {
      "text/plain": [
       "conicyt.cl/pci/2007/05/concurso-programa-consejo-nacional-de-ciencia-y-tecnologia-conacyt-mexico-2007/',\n",
       " 'https://www.conicyt.cl/pci/2007/05/concurso-programa-secretaria-de-ciencia-tecnologia-e-innovacion-productiva-secyt-argentina-2007/',\n",
       " 'https://www.conicyt.cl/pci/2007/05/concurso-programa-centro-nacional-de-investigacion-cientifica-cnrs-francia-2007/',\n",
       " 'https://www.conicyt.cl/pci/2007/05/concurso-programa-consejo-superior-de-investigaciones-cientificas-csic-espana-2007/',\n",
       " 'https://www.conicyt.cl/astronomia/2007/06/29/iii-concurso-de-proyectos-al-fondo-alma-para-el-desarrollo-de-la-astronomia-chilena-convocatoria-2007/',\n",
       " 'https://www.conicyt.cl/pci/2007/04/concurso-programa-ministerio-federal-de-educacion-e-investigacion-bmbf-alemania-2007/',\n",
       " 'https://www.conicyt.cl/fondecyt/2007/05/03/concurso-nacional-regular-2008/',\n",
       " 'https://www.conicyt.cl/fondecyt/2007/05/03/concurso-iniciacion-en-investigacion-2007/',\n",
       " 'https://www.conicyt.cl/fondecyt/2007/05/03/concurso-postdoctorado-2008/',\n",
       " 'https://www.conicyt.cl/fondap/2007/05/10/primer-concurso-de-apoyo-a-la-investigacion-en-centros-de-excelencia-fondap-2007/',\n",
       " 'https://www.conicyt.cl/fondef/2007/04/10/iv-concurso-nacional-de-proyectos-de-investigacion-y-desarrollo-en-salud-2007/',\n",
       " 'https://www.conicyt.cl/fondef/2007/08/16/ii-concurso-marea-roja-2007/',\n",
       " 'https://www.conicyt.cl/astronomia/2007/03/01/xi-concurso-tiempo-de-observacion-gemini-2007b/',\n",
       " 'https://www.conicyt.cl/pci/2006/12/concurso-programa-regional-tic-amsud-francia-2006-1ra-convocatoria/',\n",
       " 'https://www.conicyt.cl/pci/2006/12/concurso-programa-regional-tic-amsud-francia-2007/',\n",
       " 'https://www.conicyt.cl/pci/2006/12/735/',\n",
       " 'https://www.conicyt.cl/fondef/2006/08/16/ii-concurso-nacional-genoma-en-recursos-naturales-renovables-2006/',\n",
       " 'https://www.conicyt.cl/astronomia/2006/12/03/i-concurso-becas-de-doctorado-en-el-reino-unido-pparc-gemini-studentships-2006/',\n",
       " 'https://www.conicyt.cl/pia/2006/08/17/iii-concurso-de-apoyo-complementario-de-contraparte-para-proyectos-de-cooperacion-internacional-por-la-union-europea-2006/',\n",
       " 'https://www.conicyt.cl/astronomia/2006/11/10/i-concurso-fondo-gemini-programa-nacional-para-el-desarrollo-de-la-astronomia-y-ciencias-afines-2006/',\n",
       " 'https://www.conicyt.cl/becas-conicyt/2012/08/concurso-magister-y-doctorado-2007/',\n",
       " 'https://www.conicyt.cl/becas-conicyt/2012/08/concurso-magister-y-doctorado-2006/',\n",
       " 'https://www.conicyt.cl/pia/2006/10/02/ii-concurso-eventos-de-difusion-sobre-topicos-de-politica-y-gestion-de-la-cti-2006/',\n",
       " 'https://www.conicyt.cl/fondef/2006/08/14/xiv-concurso-investigacion-y-desarrollo-id-2006/',\n",
       " 'https://www.conicyt.cl/regional/2012/09/04/iv-concurso-creacion-centros-regionales-de-desarrollo-cientifico-y-tecnologico-2006/',\n",
       " 'https://www.conicyt.cl/pia/2006/09/12/iv-concurso-insercion-de-personal-altamente-calificado-en-la-industria-2006/',\n",
       " 'https://www.conicyt.cl/fondap/2006/09/20/concurso-para-la-creacion-de-unidades-de-generacion-de-negocios-en-centros-fondap-2006/',\n",
       " 'https://www.conicyt.cl/regional/2012/09/04/i-concurso-de-fortalecimiento-de-centros-regionales-desarrollo-cientifico-y-tecnologico-2006/',\n",
       " 'https://www.conicyt.cl/pia/2006/09/13/iii-concurso-talleres-de-articulacion-2006/',\n",
       " 'https://www.conicyt.cl/pci/2006/06/concurso-de-colaboracion-interamericana-en-ciencias-de-los-materiales-ciam-usa-2006/',\n",
       " 'https://www.conicyt.cl/pia/2006/09/10/i-concurso-de-redes-de-colaboracion-para-anillos-de-investigacion-y-nucleos-cientificos-milenio-2006/',\n",
       " 'https://www.conicyt.cl/pia/2006/08/28/iii-concurso-para-programas-de-formacion-en-gestion-de-la-ciencia-tecnologia-e-innovacion-2006/',\n",
       " 'https://www.conicyt.cl/pci/2006/05/concurso-centro-nacional-de-investigacion-cientifica-cnrs-francia-2006/',\n",
       " 'https://www.conicyt.cl/pia/2006/08/17/concurso-de-apoyo-al-intercambio-internacional-en-centros-e-institutos-de-excelencia-2006/',\n",
       " 'https://www.conicyt.cl/pia/2006/08/17/iii-concurso-de-insercion-de-investigadores-postdoctorales-en-la-academia-2006/',\n",
       " 'https://www.conicyt.cl/informacioncientifica/2006/08/07/concurso-fondo-de-publicacion-de-revistas-cientificas-chilenas-2006-2/',\n",
       " 'https://www.conicyt.cl/fondef/2006/08/16/iii-concurso-sobre-tecnologias-de-informacion-y-comunicacion-para-la-educacion-tic-edu-2006/',\n",
       " 'https://www.conicyt.cl/pia/2006/06/06/ii-anillos-antartica/',\n",
       " 'https://www.conicyt.cl/fondecyt/2006/06/06/concurso-postdoctorado-2007/',\n",
       " 'https://www.conicyt.cl/fondecyt/2006/06/06/concurso-nacional-regular-2007-2/',\n",
       " 'https://www.conicyt.cl/pci/2006/03/concurso-instituto-nacional-de-investigacion-en-informatica-y-en-automatica-inria-francia-2006/',\n",
       " 'https://www.conicyt.cl/pci/2006/04/concurso-programa-ministerio-federal-de-educacion-ciencia-investigacion-y-tecnologia-bmbf-alemania-2006/',\n",
       " 'https://www.conicyt.cl/pia/2005/08/17/ii-concurso-insercion-de-personal-altamente-calificado-en-la-industria-2005/',\n",
       " 'https://www.conicyt.cl/pia/2006/04/03/i-concurso-de-estudios-de-politica-y-gestion-de-ciencia-tecnologia-e-innovacion-2006/',\n",
       " 'https://www.conicyt.cl/pia/2006/04/04/iii-concurso-de-campamentos-de-emprendimiento-tecnologico-2006/',\n",
       " 'https://www.conicyt.cl/pia/2006/01/30/ii-anillos-cyt/',\n",
       " 'https://www.conicyt.cl/fondef/2006/08/21/ix-concurso-de-transferencia-tecnologica-en-su-modalidad-de-ventanilla-abierta-2006/',\n",
       " 'https://www.conicyt.cl/fondecyt/2006/01/31/concurso-iniciacion-en-investigacion-2006/',\n",
       " 'https://www.conicyt.cl/pia/2006/01/31/iii-concurso-insercion-de-personal-altamente-calificado-en-la-industria-2006/',\n",
       " 'https://www.conicyt.cl/pia/2006/01/13/i-concurso-financiamiento-de-eventos-de-difusion-en-politica-y-gestion-de-la-ciencia-tecnologia-e-innovacion-2006/',\n",
       " 'https://www.conicyt.cl/pia/2005/08/17/ii-concurso-talleres-de-articulacion-2005/',\n",
       " 'https://www.conicyt.cl/pia/2005/08/17/ii-concurso-para-programas-de-formacion-en-gestion-de-la-ciencia-tecnologia-e-innovacion-2005/',\n",
       " 'https://www.conicyt.cl/pia/2005/08/17/ii-concurso-propuestas-de-fomento-al-patentamiento-2005/',\n",
       " 'https://www.conicyt.cl/pia/2005/08/17/ii-concurso-de-apoyo-a-la-cooperacion-internacional-con-la-union-europea-2005/',\n",
       " 'https://www.conicyt.cl/pia/2005/01/02/consorcios-tecnologicos-empresariales-2005/',\n",
       " 'https://www.conicyt.cl/pia/2005/08/17/ii-concurso-de-campamentos-de-emprendimiento-tecnologico-2005/',\n",
       " 'https://www.conicyt.cl/pia/2005/08/17/ii-concurso-de-insercion-de-investigadores-postdoctorales-en-la-academia-2005/',\n",
       " 'https://www.conicyt.cl/pia/2005/01/02/i-anillos-antartica/',\n",
       " 'https://www.conicyt.cl/informacioncientifica/2005/08/01/concurso-fondo-de-publicacion-de-revistas-cientificas-chilenas-2005/',\n",
       " 'https://www.conicyt.cl/fondef/2005/06/02/ii-concurso-nacional-de-proyectos-de-investigacion-y-desarrollo-en-salud-2005/',\n",
       " 'https://www.conicyt.cl/fondecyt/2005/05/13/concurso-nacional-regular-2006-2/',\n",
       " 'https://www.conicyt.cl/fondecyt/2005/05/09/concurso-postdoctorado-2006/',\n",
       " 'https://www.conicyt.cl/fondef/2005/08/14/xiii-concurso-investigacion-y-desarrollo-id-2005/',\n",
       " 'https://www.conicyt.cl/fondef/2005/08/21/viii-concurso-transferencia-tecnologica-en-su-modalidad-de-ventanilla-abierta-2005/',\n",
       " 'https://www.conicyt.cl/pia/2004/08/17/i-concurso-consorcios-regionales-de-investigacion-y-desarrollo-cooperativo-en-el-marco-del-programa-bicentenario-de-ciencia-y-tecnologia-2004/',\n",
       " 'https://www.conicyt.cl/pia/2004/08/17/i-concurso-para-proyectos-fomento-al-patentamiento-2004/',\n",
       " 'https://www.conicyt.cl/pia/2004/01/02/i-anillos-socales/',\n",
       " 'https://www.conicyt.cl/pia/2004/08/17/concurso-de-proyectos-de-movilidad-en-ciencias-de-los-materiales-ciam-2004/',\n",
       " 'https://www.conicyt.cl/pia/2004/01/02/i-anillos-cyt/',\n",
       " 'https://www.conicyt.cl/pia/2004/08/17/i-concurso-de-insercion-de-investigadores-postdoctorales-en-la-academia-2004/',\n",
       " 'https://www.conicyt.cl/pia/2004/08/17/i-concurso-talleres-de-articulacion-2004/',\n",
       " 'https://www.conicyt.cl/pia/2004/08/17/i-concurso-de-apoyo-complementario-de-contraparte-para-proyectos-de-cooperacion-internacional-aprobados-por-union-europea-2004/',\n",
       " 'https://www.conicyt.cl/pia/2004/08/02/consorcios-tecnologicos-empresariales-2004/',\n",
       " 'https://www.conicyt.cl/pia/2004/01/01/i-concurso-de-campamentos-de-emprendimiento-tecnologico-2004/',\n",
       " 'https://www.conicyt.cl/regional/2012/09/03/iii-concurso-consorcios-regionales-de-investigacion-y-desarrollo-cooperativo-en-el-marco-del-programa-bicentenario-de-ciencia-y-tecnologia-2004/',\n",
       " 'https://www.conicyt.cl/pia/2004/01/01/i-concurso-insercion-de-personal-altamente-calificado-en-la-industria-2004/',\n",
       " 'https://www.conicyt.cl/becas-conicyt/2012/08/concurso-magister-y-doctorado-2005/',\n",
       " 'https://www.conicyt.cl/pia/2004/08/17/i-concurso-para-programas-de-formacion-en-gestion-de-la-ciencia-tecnologia-e-innovacion-2004/',\n",
       " 'https://www.conicyt.cl/fondecyt/2005/05/19/concurso-nacional-regular-2005/',\n",
       " 'https://www.conicyt.cl/fondecyt/2004/05/19/concurso-postdoctorado-2005/',\n",
       " 'https://www.conicyt.cl/fondecyt/2003/05/12/concurso-postdoctorado-2004/',\n",
       " 'https://www.conicyt.cl/fondef/2004/08/14/xii-concurso-investigacion-y-desarrollo-id-2004/',\n",
       " 'https://www.conicyt.cl/fondef/2004/03/31/i-concurso-nacional-de-proyectos-de-investigacion-y-desarrollo-en-salud-2004/',\n",
       " 'https://www.conicyt.cl/fondef/2004/08/21/vii-concurso-de-transferencia-tecnologica-en-su-modalidad-de-ventanilla-abierta-2004-fase-1/',\n",
       " 'https://www.conicyt.cl/fondef/2004/08/16/ii-concurso-sobre-tecnologias-de-informacion-y-comunicacion-para-la-educacion-tic-edu-2004/',\n",
       " 'https://www.conicyt.cl/fondef/2004/08/16/ii-concurso-hacia-una-acuicultura-de-nivel-mundial-huam-2004/',\n",
       " 'https://www.conicyt.cl/fondef/2004/08/21/vii-concurso-de-transferencia-tecnologica-en-su-modalidad-de-ventanilla-abierta-2004-fase2/',\n",
       " 'https://www.conicyt.cl/pci/2004/01/concurso-incentivo-a-la-cooperacion-internacional-2004/',\n",
       " 'https://www.conicyt.cl/fondecyt/2002/05/20/concurso-postdoctorado-2003/',\n",
       " 'https://www.conicyt.cl/fondecyt/2003/05/12/concurso-nacional-regular-2004/',\n",
       " 'https://www.conicyt.cl/fondef/2003/08/21/vi-concurso-transferencia-tecnologica-en-su-modalidad-de-ventanilla-abierta-2003-fase-2/',\n",
       " 'https://www.conicyt.cl/fondef/2003/08/14/xi-concurso-investigacion-y-desarrollo-id-2003/',\n",
       " 'https://www.conicyt.cl/fondef/2003/08/21/vi-concurso-transferencia-tecnologica-en-su-modalidad-de-ventanilla-abierta-2003-fase-1/',\n",
       " 'https://www.conicyt.cl/pci/2003/03/concurso-incentivo-a-la-cooperacion-internacional-2003/',\n",
       " 'https://www.conicyt.cl/fondecyt/2002/05/20/concurso-nacional-regular-2003/',\n",
       " 'https://www.conicyt.cl/fondef/2002/08/16/v-concurso-transferencia-tecnologica-en-su-modalidad-de-ventanilla-abierta-2002-fase-1/',\n",
       " 'https://www.conicyt.cl/fondef/2001/08/16/i-concurso-nacional-genoma-en-recursos-naturales-renovables-2001/',\n",
       " 'https://www.conicyt.cl/fondef/2001/08/14/ix-concurso-investigacion-y-desarrollo-id-2001/',\n",
       " 'https://www.conicyt.cl/fondap/2001/03/09/segundo-concurso-nacional-de-centros-de-excelencia-en-investigacion-fondap-2001/',\n",
       " 'https://www.conicyt.cl/fondef/2001/08/21/iv-concurso-transferencia-tecnologica-en-su-modalidad-de-ventanilla-abierta-2001-fase-2/',\n",
       " 'https://www.conicyt.cl/fondef/2000/08/16/iii-concurso-transferencia-tecnologica-en-su-modalidad-de-ventanilla-abierta-2000-fase-1/',\n",
       " 'https://www.conicyt.cl/fondef/1999/08/14/vii-concurso-investigacion-y-desarrollo-id-1999/',\n",
       " 'https://www.conicyt.cl/fondap/1998/12/01/i-concurso-fondap-1998/',\n",
       " 'https://www.conicyt.cl/fondef/1998/08/14/vi-concurso-investigacion-y-desarrollo-id-1998/',\n",
       " 'https://www.conicyt.cl/fondef/1997/08/16/ii-concurso-transferencia-tecnologica-1997/',\n",
       " 'https://www.conicyt.cl/fondef/1997/08/14/iv-concurso-infraestructura-tecnologica-1997/',\n",
       " 'https://www.conicyt.cl/fondef/1996/08/14/iii-concurso-de-infraestructura-tecnologica-1996/',\n",
       " 'https://www.conicyt.cl/fondef/1996/08/16/i-concurso-transferencia-tecnologica-1996/',\n",
       " 'https://www.conicyt.cl/fondef/1997/08/14/iv-concurso-investigacion-y-desarrollo-id-1997-1er-llamado/',\n",
       " 'https://www.conicyt.cl/fondef/1993/08/14/iii-concurso-investigacion-y-desarrollo-id-1993/',\n",
       " 'https://www.conicyt.cl/fondef/1992/08/14/ii-concurso-de-infraestructura-tecnologica-1992/',\n",
       " 'https://www.conicyt.cl/fondef/1992/08/14/ii-concurso-investigacion-y-desarrollo-id-1992/',\n",
       " 'https://www.conicyt.cl/fondef/1991/08/14/i-concurso-de-infraestructura-tecnologica-1991/',\n",
       " 'https://www.conicyt.cl/fondef/1991/08/14/i-concurso-investigacion-y-desarrollo-id-1991/',\n",
       " 'https://www.conicyt.cl/pci/2015/07/concurso-para-proyectos-de-investigacion-conjunta-conicyt-chile-bmbf-alemania-convocatoria-2015/',\n",
       " 'https://www.conicyt.cl/informacioncientifica/2013/05/27/v-concurso-pluralismo-2013/',\n",
       " 'https://www.conicyt.cl/becas-conicyt/2012/08/becas-para-subespecialidad-medica-en-el-extranjero-becas-chile-convocatoria-2010/',\n",
       " 'https://www.conicyt.cl/pci/2013/04/apoyo-al-desarrollo-de-proyectos-de-investigacion-chile-eeuu-2013/',\n",
       " 'https://www.conicyt.cl/pci/2013/03/premio-de-excelencia-cientifica-%e2%80%9cabate-juan-ignacio-molina%e2%80%9d-convocatoria-2013/',\n",
       " 'https://www.conicyt.cl/fondef/2008/03/20/v-concurso-nacional-de-proyectos-de-investigacion-y-desarrollo-en-salud-2008/',\n",
       " 'https://www.conicyt.cl/informacioncientifica/2012/10/31/i-concurso-redciencia-de-apoyo-para-la-difusion-vinculacion-y-cooperacion-entre-centrosgrupos-de-investigacion-con-la-comunidad-cientifica-y-academica/',\n",
       " 'https://www.conicyt.cl/pai/2014/01/13/mec-2014/',\n",
       " 'https://www.conicyt.cl/pci/2014/04/programa-de-cooperacion-cientifica-ecosconicyt-concurso-de-proyectos-de-intercambio-convocatoria-2014/',\n",
       " 'https://www.conicyt.cl/pia/2015/09/30/concurso-nacional-de-asignacion-de-tiempo-de-buque-oceanografico-ags-61-cabo-de-hornos-2015/',\n",
       " 'https://www.conicyt.cl/pai/2014/08/13/iac-2014/',\n",
       " 'https://www.conicyt.cl/becas-conicyt/2012/08/iii-concurso-de-proyectos-de-diplomados-regionales-en-tematicas-vinculadas-con-la-innovacion-para-la-competitividad-orientado-a-la-industria-agroalimentaria-region-de-valparaiso-convocatoria-2011/',\n",
       " 'https://www.conicyt.cl/pci/2009/12/concurso-del-programa-regional-stic-amsud-v-convocatoria-ano-2010/',\n",
       " 'https://www.conicyt.cl/pci/2009/05/concurso-centro-nacional-de-investigacion-cientifica-cnrs-convocatoria-2009/',\n",
       " 'https://www.conicyt.cl/pci/2009/01/concurso-del-programa-conicyt-anr-francia-convocatoria-2009/',\n",
       " 'https://www.conicyt.cl/pci/2008/12/concurso-del-programa-regional-tic-amsud-convocatoria-2009/',\n",
       " 'https://www.conicyt.cl/pci/2009/05/concurso-instituto-de-investigacion-para-el-desarrollo-ird-convocatoria-2009/',\n",
       " 'https://www.conicyt.cl/pci/2009/05/concurso-sociedad-cientifica-alemana-dfg-convocatoria-2009/',\n",
       " 'https://www.conicyt.cl/astronomia/2003/08/15/concurso-tiempo-de-observacion-gemini-2003a/',\n",
       " 'https://www.conicyt.cl/astronomia/2002/08/15/concurso-tiempo-de-observacion-gemini-2002b/',\n",
       " 'https://www.conicyt.cl/pci/2009/06/concurso-instituto-colombiano-para-el-desarrollo-de-la-ciencia-y-la-tecnologia-colciencias-convocatoria-2009/',\n",
       " 'https://www.conicyt.cl/pci/2008/12/concurso-programa-regional-math-amsud-2009/',\n",
       " 'https://www.conicyt.cl/pai/2017/01/27/concurso-nacional-insercion-de-capital-humano-avanzado-en-el-sector-productivo-primera-convocatoria-2017/',\n",
       " 'https://www.conicyt.cl/astronomia/2006/08/16/viii-concurso-tiempo-de-observacion-gemini-2006a/',\n",
       " 'https://www.conicyt.cl/astronomia/2006/08/16/ix-concurso-tiempo-de-observacion-gemini-2006b/',\n",
       " 'https://www.conicyt.cl/fondef/1997/08/14/v-concurso-investigacion-y-desarrollo-id-1997-2do-llamado/',\n",
       " 'https://www.conicyt.cl/astronomia/2005/08/16/vii-concurso-tiempo-de-observacion-gemini-2005b/',\n",
       " 'https://www.conicyt.cl/astronomia/2004/08/15/v-concurso-tiempo-de-observacion-gemini-2004b/',\n",
       " 'https://www.conicyt.cl/astronomia/2006/08/15/ii-concurso-de-proyectos-al-fondo-alma-para-el-desarrollo-de-la-astronomia-y-ciencias-afines-2006/',\n",
       " 'https://www.conicyt.cl/astronomia/2005/03/01/i-concurso-de-proyectos-al-fondo-alma-para-el-desarrollo-de-la-astronomia-y-ciencias-afines-2005/',\n",
       " 'https://www.conicyt.cl/astronomia/2003/08/15/iii-concurso-tiempo-de-observacion-gemini-2003b/',\n",
       " 'https://www.conicyt.cl/pci/2009/06/concurso-consejo-nacional-de-ciencia-y-tecnologia-conacyt-convocatoria-2009/',\n",
       " 'https://www.conicyt.cl/pci/?p=3955',\n",
       " 'https://www.conicyt.cl/becas-conicyt/2007/08/concurso-becas-para-estadias-de-cotutela-de-tesis-de-doctorado-belga-chileno-2007/',\n",
       " 'https://www.conicyt.cl/becas-conicyt/2008/08/concurso-becas-para-estadias-de-cotutela-de-tesis-de-doctorado-belga-chileno-2008/',\n",
       " 'https://www.conicyt.cl/becas-conicyt/2004/08/concurso-magister-y-doctorado-2004/',\n",
       " 'https://www.conicyt.cl/pia/2014/07/09/v-concurso-anillos-de-investigacion-en-ciencia-y-tecnologia-v-concurso-anillos-de-investigacion-en-ciencia-antartica-iv-concurso-anillos-de-investigacion-en-ciencias-sociales/',\n",
       " 'https://www.conicyt.cl/becas-conicyt/2012/08/becas-de-postdoctorado-en-el-extranjero-becas-chile-convocatoria-2011/',\n",
       " 'https://www.conicyt.cl/pci/2014/07/programa-alianzas-globales-de-excelencia-convocatoria-2013/',\n",
       " 'https://www.conicyt.cl/becas-conicyt/2012/09/becas-apoyo-a-la-realizacion-de-tesis-doctoral-convocatoria-2011/',\n",
       " 'https://www.conicyt.cl/becas-conicyt/2008/08/concurso-apoyo-a-la-participacion-de-estudiantes-de-doctorado-en-reuniones-de-sociedades-cientificas-2008/',\n",
       " 'https://www.conicyt.cl/becas-conicyt/2012/08/concurso-de-becas-de-subespecialidad-medica-en-el-extranjero-becas-chile-convocatoria-2009/',\n",
       " 'https://www.conicyt.cl/pci/2009/12/concurso-de-proyectos-de-intercambio-regular-convocatoria-2010-ecos-conicyt/',\n",
       " 'https://www.conicyt.cl/pci/2009/08/concurso-de-proyectos-de-intercambio-conicytbmbf-alemania-convocatoria-2009/',\n",
       " 'https://www.conicyt.cl/astronomia/2004/08/15/iv-concurso-tiempo-de-observacion-gemini-2004a/',\n",
       " 'https://www.conicyt.cl/pci/2009/12/concurso-programa-regional-math-amsud-2010/',\n",
       " 'https://www.conicyt.cl/becas-conicyt/2012/08/concurso-becas-para-estudios-de-doctorado-universidad-de-aarhus-dinamarca-2007/',\n",
       " 'https://www.conicyt.cl/becas-conicyt/2012/08/concurso-apoyo-a-la-participacion-de-estudiantes-de-doctorado-en-reuniones-de-sociedades-cientificas-y-en-congresos-internacionales-en-chile-2008/',\n",
       " 'https://www.conicyt.cl/becas-conicyt/2012/08/concurso-de-doctorados-en-inria-2007/',\n",
       " 'https://www.conicyt.cl/pci/2014/06/graduate-research-opportunites-worldwide-chile-grow-chile-2014/',\n",
       " 'https://www.conicyt.cl/becasconicyt/2020/01/13/beca-de-magister-para-funcionariosas-del-sector-publico-ano-academico-2020/',\n",
       " 'https://www.conicyt.cl/fondef/2020/01/09/concurso-idea-id-2020/',\n",
       " 'https://www.conicyt.cl/fondef/2020/01/07/xvii-concurso-nacional-de-proyectos-de-investigacion-y-desarrollo-en-salud-fonis-2020/',\n",
       " 'https://www.conicyt.cl/astronomia/2019/11/05/segundo-llamado-concurso-propuestas-de-observacion-astronomica-para-tiempo-chileno-en-el-telescopio-apex-2020-a/',\n",
       " 'https://www.conicyt.cl/fondequip/2019/09/24/concurso-proyecto-de-investigacion-iniciativa-southtrac/',\n",
       " 'https://www.conicyt.cl/fondef/2019/08/01/viii-concurso-de-investigacion-tecnologica-2019-idea/',\n",
       " 'https://www.conicyt.cl/astronomia/2019/09/05/concurso-propuestas-de-observacion-astronomica-para-tiempo-chileno-en-el-telescopio-apex-2020-a/',\n",
       " 'https://www.conicyt.cl/fondecyt/2018/11/15/concurso-postdoctorado-2020/',\n",
       " 'https://www.conicyt.cl/informacioncientifica/2019/08/26/concurso-fondo-de-publicacion-de-revistas-cientificas-2019/',\n",
       " 'https://www.conicyt.cl/astronomia/2019/09/02/concurso-propuestas-de-observacion-astronomica-para-tiempo-chileno-en-el-observatorio-gemini-sur-2020-a/',\n",
       " 'https://www.conicyt.cl/informacioncientifica/2019/08/19/xi-concurso-de-estudios-sobre-pluralismo-en-el-sistema-informativo-nacional/',\n",
       " 'https://www.conicyt.cl/pia/2019/07/04/concurso-anillos-de-investigacion-en-ciencia-y-tecnologia-y-anillos-de-investigacion-en-ciencia-antartica-2019-etapa-proyectos/',\n",
       " 'https://www.conicyt.cl/astronomia/2019/07/22/fondo-gemini-conicyt-programa-nacional-para-el-desarollo-de-la-astronomia-y-ciencias-afines-convocatoria-2019/']"
      ]
     },
     "metadata": {},
     "execution_count": 203
    }
   ],
   "source": [
    "links"
   ]
  },
  {
   "cell_type": "code",
   "execution_count": 186,
   "metadata": {},
   "outputs": [
    {
     "output_type": "execute_result",
     "data": {
      "text/plain": [
       "20"
      ]
     },
     "metadata": {},
     "execution_count": 186
    }
   ],
   "source": [
    "len(descripciones)"
   ]
  },
  {
   "cell_type": "code",
   "execution_count": 200,
   "metadata": {},
   "outputs": [
    {
     "output_type": "execute_result",
     "data": {
      "text/plain": [
       "['https://www.conicyt.cl/fondecyt/2018/11/15/concurso-postdoctorado-2020/',\n",
       " 'https://www.conicyt.cl/informacioncientifica/2019/08/26/concurso-fondo-de-publicacion-de-revistas-cientificas-2019/',\n",
       " 'https://www.conicyt.cl/astronomia/2019/09/02/concurso-propuestas-de-observacion-astronomica-para-tiempo-chileno-en-el-observatorio-gemini-sur-2020-a/',\n",
       " 'https://www.conicyt.cl/informacioncientifica/2019/08/19/xi-concurso-de-estudios-sobre-pluralismo-en-el-sistema-informativo-nacional/',\n",
       " 'https://www.conicyt.cl/pia/2019/07/04/concurso-anillos-de-investigacion-en-ciencia-y-tecnologia-y-anillos-de-investigacion-en-ciencia-antartica-2019-etapa-proyectos/',\n",
       " 'https://www.conicyt.cl/astronomia/2019/07/22/fondo-gemini-conicyt-programa-nacional-para-el-desarollo-de-la-astronomia-y-ciencias-afines-convocatoria-2019/',\n",
       " 'https://www.conicyt.cl/becasconicyt/2020/01/13/beca-de-doctorado-en-el-extranjero-becas-chile-convocatoria-2020/',\n",
       " 'https://www.conicyt.cl/fondef/2020/01/09/concurso-idea-id-2020/',\n",
       " 'https://www.conicyt.cl/fondef/2020/01/07/xvii-concurso-nacional-de-proyectos-de-investigacion-y-desarrollo-en-salud-fonis-2020/',\n",
       " 'https://www.conicyt.cl/astronomia/2019/11/05/segundo-llamado-concurso-propuestas-de-observacion-astronomica-para-tiempo-chileno-en-el-telescopio-apex-2020-a/',\n",
       " 'https://www.conicyt.cl/fondequip/2019/09/24/concurso-proyecto-de-investigacion-iniciativa-southtrac/',\n",
       " 'https://www.conicyt.cl/fondef/2019/08/01/viii-concurso-de-investigacion-tecnologica-2019-idea/',\n",
       " 'https://www.conicyt.cl/astronomia/2019/09/05/concurso-propuestas-de-observacion-astronomica-para-tiempo-chileno-en-el-telescopio-apex-2020-a/',\n",
       " 'https://www.conicyt.cl/fondecyt/2018/11/15/concurso-postdoctorado-2020/',\n",
       " 'https://www.conicyt.cl/informacioncientifica/2019/08/26/concurso-fondo-de-publicacion-de-revistas-cientificas-2019/',\n",
       " 'https://www.conicyt.cl/astronomia/2019/09/02/concurso-propuestas-de-observacion-astronomica-para-tiempo-chileno-en-el-observatorio-gemini-sur-2020-a/',\n",
       " 'https://www.conicyt.cl/informacioncientifica/2019/08/19/xi-concurso-de-estudios-sobre-pluralismo-en-el-sistema-informativo-nacional/',\n",
       " 'https://www.conicyt.cl/pia/2019/07/04/concurso-anillos-de-investigacion-en-ciencia-y-tecnologia-y-anillos-de-investigacion-en-ciencia-antartica-2019-etapa-proyectos/',\n",
       " 'https://www.conicyt.cl/astronomia/2019/07/22/fondo-gemini-conicyt-programa-nacional-para-el-desarollo-de-la-astronomia-y-ciencias-afines-convocatoria-2019/',\n",
       " 'https://www.conicyt.cl/becasconicyt/2020/01/13/beca-de-doctorado-en-el-extranjero-becas-chile-convocatoria-2020/',\n",
       " 'https://www.conicyt.cl/fondef/2020/01/09/concurso-idea-id-2020/',\n",
       " 'https://www.conicyt.cl/fondef/2020/01/07/xvii-concurso-nacional-de-proyectos-de-investigacion-y-desarrollo-en-salud-fonis-2020/',\n",
       " 'https://www.conicyt.cl/astronomia/2019/11/05/segundo-llamado-concurso-propuestas-de-observacion-astronomica-para-tiempo-chileno-en-el-telescopio-apex-2020-a/',\n",
       " 'https://www.conicyt.cl/fondequip/2019/09/24/concurso-proyecto-de-investigacion-iniciativa-southtrac/',\n",
       " 'https://www.conicyt.cl/fondef/2019/08/01/viii-concurso-de-investigacion-tecnologica-2019-idea/',\n",
       " 'https://www.conicyt.cl/astronomia/2019/09/05/concurso-propuestas-de-observacion-astronomica-para-tiempo-chileno-en-el-telescopio-apex-2020-a/',\n",
       " 'https://www.conicyt.cl/fondecyt/2018/11/15/concurso-postdoctorado-2020/',\n",
       " 'https://www.conicyt.cl/informacioncientifica/2019/08/26/concurso-fondo-de-publicacion-de-revistas-cientificas-2019/',\n",
       " 'https://www.conicyt.cl/astronomia/2019/09/02/concurso-propuestas-de-observacion-astronomica-para-tiempo-chileno-en-el-observatorio-gemini-sur-2020-a/',\n",
       " 'https://www.conicyt.cl/informacioncientifica/2019/08/19/xi-concurso-de-estudios-sobre-pluralismo-en-el-sistema-informativo-nacional/',\n",
       " 'https://www.conicyt.cl/pia/2019/07/04/concurso-anillos-de-investigacion-en-ciencia-y-tecnologia-y-anillos-de-investigacion-en-ciencia-antartica-2019-etapa-proyectos/',\n",
       " 'https://www.conicyt.cl/astronomia/2019/07/22/fondo-gemini-conicyt-programa-nacional-para-el-desarollo-de-la-astronomia-y-ciencias-afines-convocatoria-2019/',\n",
       " 'https://www.conicyt.cl/becasconicyt/2020/01/13/beca-de-doctorado-en-el-extranjero-becas-chile-convocatoria-2020/',\n",
       " 'https://www.conicyt.cl/fondef/2020/01/09/concurso-idea-id-2020/',\n",
       " 'https://www.conicyt.cl/fondef/2020/01/07/xvii-concurso-nacional-de-proyectos-de-investigacion-y-desarrollo-en-salud-fonis-2020/',\n",
       " 'https://www.conicyt.cl/astronomia/2019/11/05/segundo-llamado-concurso-propuestas-de-observacion-astronomica-para-tiempo-chileno-en-el-telescopio-apex-2020-a/',\n",
       " 'https://www.conicyt.cl/fondequip/2019/09/24/concurso-proyecto-de-investigacion-iniciativa-southtrac/',\n",
       " 'https://www.conicyt.cl/fondef/2019/08/01/viii-concurso-de-investigacion-tecnologica-2019-idea/',\n",
       " 'https://www.conicyt.cl/astronomia/2019/09/05/concurso-propuestas-de-observacion-astronomica-para-tiempo-chileno-en-el-telescopio-apex-2020-a/',\n",
       " 'https://www.conicyt.cl/fondecyt/2018/11/15/concurso-postdoctorado-2020/',\n",
       " 'https://www.conicyt.cl/informacioncientifica/2019/08/26/concurso-fondo-de-publicacion-de-revistas-cientificas-2019/',\n",
       " 'https://www.conicyt.cl/astronomia/2019/09/02/concurso-propuestas-de-observacion-astronomica-para-tiempo-chileno-en-el-observatorio-gemini-sur-2020-a/',\n",
       " 'https://www.conicyt.cl/informacioncientifica/2019/08/19/xi-concurso-de-estudios-sobre-pluralismo-en-el-sistema-informativo-nacional/',\n",
       " 'https://www.conicyt.cl/pia/2019/07/04/concurso-anillos-de-investigacion-en-ciencia-y-tecnologia-y-anillos-de-investigacion-en-ciencia-antartica-2019-etapa-proyectos/',\n",
       " 'https://www.conicyt.cl/astronomia/2019/07/22/fondo-gemini-conicyt-programa-nacional-para-el-desarollo-de-la-astronomia-y-ciencias-afines-convocatoria-2019/',\n",
       " 'https://www.conicyt.cl/becasconicyt/2020/01/13/beca-de-doctorado-en-el-extranjero-becas-chile-convocatoria-2020/',\n",
       " 'https://www.conicyt.cl/fondef/2020/01/09/concurso-idea-id-2020/',\n",
       " 'https://www.conicyt.cl/fondef/2020/01/07/xvii-concurso-nacional-de-proyectos-de-investigacion-y-desarrollo-en-salud-fonis-2020/',\n",
       " 'https://www.conicyt.cl/astronomia/2019/11/05/segundo-llamado-concurso-propuestas-de-observacion-astronomica-para-tiempo-chileno-en-el-telescopio-apex-2020-a/',\n",
       " 'https://www.conicyt.cl/fondequip/2019/09/24/concurso-proyecto-de-investigacion-iniciativa-southtrac/']"
      ]
     },
     "metadata": {},
     "execution_count": 200
    }
   ],
   "source": [
    "links[200:250]"
   ]
  },
  {
   "cell_type": "code",
   "execution_count": 207,
   "metadata": {},
   "outputs": [
    {
     "output_type": "execute_result",
     "data": {
      "text/plain": [
       "18"
      ]
     },
     "metadata": {},
     "execution_count": 207
    }
   ],
   "source": [
    "len(descripciones)"
   ]
  },
  {
   "cell_type": "code",
   "execution_count": null,
   "metadata": {},
   "outputs": [],
   "source": []
  }
 ]
}