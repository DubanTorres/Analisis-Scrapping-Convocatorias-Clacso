{
 "metadata": {
  "language_info": {
   "codemirror_mode": {
    "name": "ipython",
    "version": 3
   },
   "file_extension": ".py",
   "mimetype": "text/x-python",
   "name": "python",
   "nbconvert_exporter": "python",
   "pygments_lexer": "ipython3",
   "version": "3.8.5-final"
  },
  "orig_nbformat": 2,
  "kernelspec": {
   "name": "python3",
   "display_name": "Python 3.8.5 64-bit ('scraping-clacso': conda)",
   "metadata": {
    "interpreter": {
     "hash": "95bb600096007ab9f567dd294a4f24ed256a7f8cd3baa781798d9a0497e2540f"
    }
   }
  }
 },
 "nbformat": 4,
 "nbformat_minor": 2,
 "cells": [
  {
   "cell_type": "code",
   "execution_count": null,
   "metadata": {},
   "outputs": [],
   "source": [
    "import pandas as pd\n",
    "import numpy as np\n",
    "import requests\n",
    "from bs4 import BeautifulSoup\n",
    "from lxml import html\n",
    "import scrapy\n",
    "from time import sleep\n",
    "import urllib3\n",
    "import json\n",
    "from selenium import webdriver\n",
    "import random"
   ]
  },
  {
   "cell_type": "code",
   "execution_count": null,
   "metadata": {},
   "outputs": [],
   "source": [
    "def parser(link):\n",
    "\n",
    "    encabezados = {\n",
    "    'user-agent': 'Mozilla/5.0 (X11; Linux x86_64) AppleWebKit/537.36 (KHTML, like Gecko) Chrome/44.0.2403.157 Safari/537.36'\n",
    "    }\n",
    "\n",
    "    resp = requests.get(link, headers=encabezados, verify=False)\n",
    "    resp = resp.text\n",
    "\n",
    "    #soup = get_Soup('https://minciencias.gov.co/convocatorias/todas')\n",
    "    parser = html.fromstring(resp)\n",
    "    urllib3.disable_warnings()\n",
    "\n",
    "    return parser"
   ]
  },
  {
   "cell_type": "code",
   "execution_count": null,
   "metadata": {
    "tags": []
   },
   "outputs": [],
   "source": [
    "#links\n",
    "estados = ['https://www.conicyt.cl/blog/category/concursos/abiertos/', 'https://www.conicyt.cl/blog/category/concursos/en-evaluacion/', 'https://www.conicyt.cl/blog/category/concursos/adjudicados/', 'https://www.conicyt.cl/blog/category/concursos/proximos/']\n",
    "\n",
    "def links_proyectos(estados_chile):\n",
    "\n",
    "    links = []\n",
    "    for estado in estados:\n",
    "\n",
    "        parserT = parser(estado)\n",
    "\n",
    "        #Extrae y organiza lista de paginacion\n",
    "        paginacion = parserT.xpath('//div[@class=\"pagenavi\"]/ul//a/@href')\n",
    "        \n",
    "        urls = []\n",
    "        pagina = 'https://www.conicyt.cl/blog/category/concursos/adjudicados/'\n",
    "        if len(paginacion) != 0:\n",
    "            paginacion.pop()\n",
    "            paginacion.append('?pag=1')\n",
    "            for link in paginacion:\n",
    "                urls.append(pagina+link)\n",
    "        else:\n",
    "            urls.append(estado)\n",
    "        \n",
    "        \n",
    "\n",
    "        #Extrae links de cada pag\n",
    "        \n",
    "        for url in urls:\n",
    "            parser_url = parser(url)\n",
    "            links_pagina = parser_url.xpath('//div[@id=\"contenido_doble\"]//h2/a/@href')\n",
    "            links += links_pagina\n",
    "        \n",
    "        \n",
    "        for link in links:\n",
    "            if link.startswith('https://www.conicyt.cl/becasconicyt'):\n",
    "                links.remove(link)\n",
    "\n",
    "\n",
    "    return links\n",
    "\n",
    "links = links_proyectos(estados)\n",
    "\n"
   ]
  },
  {
   "cell_type": "code",
   "execution_count": null,
   "metadata": {},
   "outputs": [],
   "source": [
    "#ano\n",
    "parser_proy = parser(links[0])\n",
    "links[0]"
   ]
  },
  {
   "cell_type": "code",
   "execution_count": null,
   "metadata": {},
   "outputs": [],
   "source": []
  },
  {
   "cell_type": "code",
   "execution_count": null,
   "metadata": {},
   "outputs": [],
   "source": [
    "### avance chile\n",
    "\n",
    "driver = webdriver.Firefox()\n",
    "driver.get(link)\n",
    "\n",
    "descripciones = []\n",
    "publicos = []\n",
    "descripcion = ''\n",
    "p_objetivo = ''\n",
    "for link in links[0:5]:\n",
    "\n",
    "    ### Saca el formato descripción\n",
    "\n",
    "    try:\n",
    "        boton_descripcion = driver.find_element_by_xpath('//div[contains(text(), \"presentación\")]')\n",
    "            \n",
    "    except:\n",
    "        try:\n",
    "            boton_descripcion = driver.find_element_by_xpath('//li[contains(text(), \"Presentación\")]')\n",
    "        except:\n",
    "            try:\n",
    "                boton_descripcion = driver.find_element_by_xpath('//div[contains(@class, \"accordion-Presentacin\")]')\n",
    "            except:\n",
    "                descripcion = ''\n",
    "                \n",
    "\n",
    "    boton_descripcion.click()\n",
    "\n",
    "    try:\n",
    "        descripcion = driver.find_element_by_xpath('.//div[@id=\"content-1\"]').text\n",
    "\n",
    "    except:\n",
    "        try:\n",
    "            descripcion = driver.find_element_by_xpath('.//div[@id=\"pane-0-0\"]').text\n",
    "        except:\n",
    "            descripcion = driver.find_element_by_xpath('.//div[@class=\"arconix-accordion-content\"]').text\n",
    "\n",
    "\n",
    "\n",
    "### Saca el publico objetivo\n",
    "\n",
    "   \n",
    "    try:\n",
    "        boton_p_objetivo = driver.find_element_by_xpath('//div[contains(text(), \"público\")]')\n",
    "    except:\n",
    "        try:\n",
    "            boton_p_objetivo = driver.find_element_by_xpath('//div[contains(text(), \"Público\")]')\n",
    "        except:\n",
    "            try:\n",
    "                boton_p_objetivo = driver.find_element_by_xpath('//ul//li[contains(text(), \"Público\")]') \n",
    "            except:\n",
    "                p_objetivo = ''\n",
    "                \n",
    "            \n",
    "    boton_p_objetivo.click()\n",
    "    try:\n",
    "        p_objetivo = driver.find_element_by_xpath('.//div[@id=\"content-2\"]').text\n",
    "    except:\n",
    "        p_objetivo = driver.find_element_by_xpath('.//div[@id=\"pane-0-1\"]').text\n",
    "\n",
    "    print('1')\n",
    "    print(descripcion)\n",
    "    print('2')\n",
    "    print(p_objetivo)\n"
   ]
  },
  {
   "cell_type": "code",
   "execution_count": null,
   "metadata": {},
   "outputs": [],
   "source": [
    "driver = webdriver.Firefox()\n",
    "driver.get(link)\n",
    "\n",
    "descripciones = []\n",
    "publicos = []\n",
    "descripcion = ''\n",
    "p_objetivo = ''\n",
    "for link in links[0:5]:\n",
    "    \n",
    "    try:\n",
    "        boton_p_objetivo = driver.find_element_by_xpath('//div[contains(text(), \"público\")]')\n",
    "    except:\n",
    "        try:\n",
    "            boton_p_objetivo = driver.find_element_by_xpath('//div[contains(text(), \"Público\")]')\n",
    "        except:\n",
    "            try:\n",
    "                boton_p_objetivo = driver.find_element_by_xpath('//ul//li[contains(text(), \"Público\")]') \n",
    "            except:\n",
    "                p_objetivo = ''\n",
    "                \n",
    "            \n",
    "    boton_p_objetivo.click()\n",
    "    try:\n",
    "        p_objetivo = driver.find_element_by_xpath('.//div[@id=\"content-2\"]').text\n",
    "    except:\n",
    "        p_objetivo = driver.find_element_by_xpath('.//div[@id=\"pane-0-1\"]').text"
   ]
  },
  {
   "cell_type": "code",
   "execution_count": 91,
   "metadata": {},
   "outputs": [
    {
     "output_type": "execute_result",
     "data": {
      "text/plain": [
       "'https://www.conicyt.cl/informacioncientifica/2017/06/13/convocatoria-para-indexacon-de-revistas-cientificas-en-scielo-chile/'"
      ]
     },
     "metadata": {},
     "execution_count": 91
    }
   ],
   "source": [
    "links[0]"
   ]
  },
  {
   "cell_type": "code",
   "execution_count": null,
   "metadata": {},
   "outputs": [],
   "source": []
  }
 ]
}