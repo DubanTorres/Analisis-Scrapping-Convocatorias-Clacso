{
 "metadata": {
  "language_info": {
   "codemirror_mode": {
    "name": "ipython",
    "version": 3
   },
   "file_extension": ".py",
   "mimetype": "text/x-python",
   "name": "python",
   "nbconvert_exporter": "python",
   "pygments_lexer": "ipython3",
   "version": "3.8.5"
  },
  "orig_nbformat": 2,
  "kernelspec": {
   "name": "python385jvsc74a57bd095bb600096007ab9f567dd294a4f24ed256a7f8cd3baa781798d9a0497e2540f",
   "display_name": "Python 3.8.5 64-bit ('scraping-clacso': conda)"
  }
 },
 "nbformat": 4,
 "nbformat_minor": 2,
 "cells": [
  {
   "cell_type": "code",
   "execution_count": null,
   "metadata": {},
   "outputs": [],
   "source": [
    "import pandas as pd\n",
    "import numpy as np\n",
    "import requests\n",
    "from bs4 import BeautifulSoup\n",
    "from lxml import html\n",
    "import scrapy\n",
    "from time import sleep\n",
    "import urllib3\n",
    "import json\n",
    "from selenium import webdriver\n",
    "import random"
   ]
  },
  {
   "cell_type": "code",
   "execution_count": null,
   "metadata": {},
   "outputs": [],
   "source": [
    "def parser(link):\n",
    "\n",
    "    encabezados = {\n",
    "    'user-agent': 'Mozilla/5.0 (X11; Linux x86_64) AppleWebKit/537.36 (KHTML, like Gecko) Chrome/44.0.2403.157 Safari/537.36'\n",
    "    }\n",
    "\n",
    "    resp = requests.get(link, headers=encabezados, verify=False)\n",
    "    resp = resp.text\n",
    "\n",
    "    #soup = get_Soup('https://minciencias.gov.co/convocatorias/todas')\n",
    "    parser = html.fromstring(resp)\n",
    "    urllib3.disable_warnings()\n",
    "\n",
    "    return parser"
   ]
  },
  {
   "cell_type": "code",
   "execution_count": null,
   "metadata": {},
   "outputs": [],
   "source": [
    "# Saca links de páginas\n",
    "\n",
    "links = ['http://www.faperj.br/?id=3532.3.5', 'http://www.faperj.br/?id=3504.3.7', 'http://www.faperj.br/?id=3480.3.9', 'http://www.faperj.br/?id=3382.3.2', 'http://www.faperj.br/?id=3234.3.4', 'http://www.faperj.br/?id=1132.3.0', 'http://www.faperj.br/?id=3031.3.3', 'http://www.faperj.br/?id=2456.3.4', 'http://www.faperj.br/interna.phtml?obj_id=8768', 'http://www.faperj.br/interna.phtml?obj_id=7935', 'http://www.faperj.br/interna.phtml?obj_id=7019', 'http://www.faperj.br/interna.phtml?obj_id=5178', 'http://www.faperj.br/redir.php?obj_id=4340', 'http://www.faperj.br/redir.php?obj_id=3835', 'http://www.faperj.br/redir.php?obj_id=92']\n",
    "\n",
    "anos = ['2020', '2019', '2018', '2017', '2016', '2015', '2014', '2013', '2012', '2011', '2010', '2009', '2008', '2007', '2002 a 2006']"
   ]
  },
  {
   "cell_type": "code",
   "execution_count": null,
   "metadata": {
    "tags": []
   },
   "outputs": [],
   "source": [
    "pdf_proyectos = []\n",
    "titulo_proyectos = []\n",
    "anos_proyectos = []\n",
    "descripciones_proyectos = []\n",
    "\n",
    "y = 1\n",
    "n = 0\n",
    "for link in links:\n",
    "\n",
    "    parser_pag = parser(link)\n",
    "    texto_bruto = parser_pag.xpath('//p//a//text()')\n",
    "    ### TITULO\n",
    "\n",
    "    titulo_base = []\n",
    "\n",
    "    for t in texto_bruto:\n",
    "\n",
    "        if ' – ' in t or t.startswith('Edital') or t.startswith('Programa') or t.startswith('Apoio') or t.startswith('Resultado:'):\n",
    "            if len(t) != 24 and 'Programme' not in t:\n",
    "                titulo_base.append(t)\n",
    "\n",
    "    ######################## PDFS\n",
    "\n",
    "    base = 'http://www.faperj.br/'\n",
    "        \n",
    "    titulo = []\n",
    "    pdfs = []\n",
    "    descripciones = []\n",
    "    base = 'http://www.faperj.br/'\n",
    "    \n",
    "    \n",
    "    for i in range(1, len(titulo_base)+10):\n",
    "        pdf_brutos_base = parser_pag.xpath('//div[@id=\"texto\"]//p['+str(i)+']/strong//a//@href')\n",
    "            \n",
    "        #PDFS\n",
    "        pdf = ''\n",
    "        if len(pdf_brutos_base) != 0:\n",
    "            for p in pdf_brutos_base:\n",
    "                if p.endswith('.pdf') and p.startswith(base) == False:\n",
    "                    pdf = pdf + base + p + ', '\n",
    "                elif p.endswith('.pdf') and p.startswith(base):\n",
    "                    pdf = pdf+ p + ', '\n",
    "                else:\n",
    "                    pdf = ''\n",
    "    \n",
    "        pdfs.append(pdf.strip(', '))\n",
    "\n",
    "        try:\n",
    "\n",
    "            titulo_brutos_base = parser_pag.xpath('//div[@id=\"texto\"]//p['+str(i)+']/strong//a/text()')\n",
    "            titulo.append(titulo_brutos_base[0])\n",
    "        except:\n",
    "\n",
    "            #titulo_brutos_base = parser_pag.xpath('//div[@id=\"texto\"]//p[@class=\"MsoNormal\"]['+str(i)+']//a//text()')\n",
    "            #titulo.append(titulo_brutos_base)\n",
    "            continue\n",
    "\n",
    "\n",
    "    ################################\n",
    "    \n",
    "    anos_pro = [anos[n] for i in range(len(titulo))]\n",
    "    \n",
    "    if len(pdfs) == 0:\n",
    "        pdfs = [pdfs.append('') for i in range(len(titulo))]\n",
    "    n+=1\n",
    "\n",
    "    print(link)\n",
    "    #print('pdfs:', len(pdfs[0:len(titulo)]))\n",
    "    print('Titulos:', len(titulo))\n",
    "    #print('Anos:', len(anos_pro))\n",
    "    #print('-------------')\n",
    "    \n",
    "    pdf_proyectos += pdfs[0:len(titulo)]\n",
    "    titulo_proyectos += titulo\n",
    "    anos_proyectos += anos_pro\n",
    " "
   ]
  },
  {
   "cell_type": "code",
   "execution_count": 58,
   "metadata": {},
   "outputs": [],
   "source": [
    "links = ['http://www.faperj.br/?id=3031.3.3', 'http://www.faperj.br/?id=2456.3.4', 'http://www.faperj.br/interna.phtml?obj_id=8768', 'http://www.faperj.br/interna.phtml?obj_id=7935', 'http://www.faperj.br/interna.phtml?obj_id=7019', 'http://www.faperj.br/interna.phtml?obj_id=5178', 'http://www.faperj.br/redir.php?obj_id=4340', 'http://www.faperj.br/redir.php?obj_id=3835', 'http://www.faperj.br/redir.php?obj_id=92']\n",
    "\n",
    "parser_pag = parser(links[0])\n",
    "\n",
    "links = parser_pag.xpath('//div[@id=\"texto\"]//p//a[1]//@href[1]')\n",
    "titulos = parser_pag.xpath('//div[@id=\"texto\"]//p//a[1]//text()[1]')"
   ]
  },
  {
   "cell_type": "code",
   "execution_count": 62,
   "metadata": {},
   "outputs": [
    {
     "output_type": "execute_result",
     "data": {
      "text/plain": [
       "'http://www.faperj.br/interna.phtml?obj_id=8768'"
      ]
     },
     "metadata": {},
     "execution_count": 62
    }
   ],
   "source": [
    "links[100]\n",
    "#titulos[100]"
   ]
  },
  {
   "cell_type": "code",
   "execution_count": null,
   "metadata": {},
   "outputs": [],
   "source": [
    "faperj = pd.DataFrame()\n",
    "\n",
    "faperj['Titulo'] = titulo_proyectos\n",
    "faperj['Ano'] = anos_proyectos\n",
    "faperj['PDFs'] = pdf_proyectos\n",
    "faperj"
   ]
  },
  {
   "cell_type": "code",
   "execution_count": null,
   "metadata": {},
   "outputs": [],
   "source": [
    "faperj\n",
    "#faperj.to_excel('brasil_faprej.xlsx')"
   ]
  },
  {
   "cell_type": "code",
   "execution_count": null,
   "metadata": {},
   "outputs": [],
   "source": []
  }
 ]
}