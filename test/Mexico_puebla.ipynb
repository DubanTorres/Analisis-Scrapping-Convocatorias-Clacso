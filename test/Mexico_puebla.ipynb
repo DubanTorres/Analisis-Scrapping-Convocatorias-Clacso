{
 "metadata": {
  "language_info": {
   "codemirror_mode": {
    "name": "ipython",
    "version": 3
   },
   "file_extension": ".py",
   "mimetype": "text/x-python",
   "name": "python",
   "nbconvert_exporter": "python",
   "pygments_lexer": "ipython3",
   "version": "3.8.5-final"
  },
  "orig_nbformat": 2,
  "kernelspec": {
   "name": "python3",
   "display_name": "Python 3.8.5 64-bit ('scraping-clacso': conda)",
   "metadata": {
    "interpreter": {
     "hash": "95bb600096007ab9f567dd294a4f24ed256a7f8cd3baa781798d9a0497e2540f"
    }
   }
  }
 },
 "nbformat": 4,
 "nbformat_minor": 2,
 "cells": [
  {
   "cell_type": "code",
   "execution_count": 2,
   "metadata": {},
   "outputs": [],
   "source": [
    "import pandas as pd\n",
    "import numpy as np\n",
    "import requests\n",
    "from bs4 import BeautifulSoup\n",
    "from lxml import html\n",
    "import scrapy\n",
    "from time import sleep\n",
    "import urllib3\n",
    "import json\n",
    "from selenium import webdriver\n",
    "import random"
   ]
  },
  {
   "cell_type": "code",
   "execution_count": 4,
   "metadata": {},
   "outputs": [],
   "source": [
    "def mexico_puebla(link):\n",
    "    mexico_puebla = pd.DataFrame()\n",
    "    links_abiertos = []\n",
    "    titulos_abiertos = []\n",
    "    pdfs_proyectos = []\n",
    "    descripciones = []\n",
    "\n",
    "    driver = webdriver.Firefox()\n",
    "    driver.get(link)\n",
    "\n",
    "    metas = driver.find_elements_by_xpath('//h4[@class=\"entry-title\"]/a')\n",
    "\n",
    "    for meta in metas:\n",
    "        link = meta.get_attribute('href') \n",
    "        if 'programa' not in link:\n",
    "            links_abiertos.append(link)\n",
    "            titulos_abiertos.append(meta.text)  \n",
    "                  \n",
    "\n",
    "    driver.quit()\n",
    "\n",
    "    n = 0\n",
    "    while n < len(links_abiertos):\n",
    "        for link_abierto in links_abiertos:\n",
    "            documentos = []\n",
    "            desc = ''\n",
    "            \n",
    "            driver = webdriver.Firefox()\n",
    "            driver.get(link_abierto)\n",
    "\n",
    "            docs = driver.find_elements_by_xpath('//div[@class=\"post-wrapper-content\"]//a')\n",
    "            try:\n",
    "                desc = driver.find_element_by_xpath('//div[@class=\"post-wrapper-content\"]').text\n",
    "            except:\n",
    "                desc = ''\n",
    "            \n",
    "            descripciones.append(desc)\n",
    "            \n",
    "\n",
    "            for doc in docs:\n",
    "                pdf = doc.get_attribute('href')\n",
    "                if 'google' not in pdf:\n",
    "                    documentos.append(pdf)\n",
    "            \n",
    "            \n",
    "\n",
    "            driver.quit()\n",
    "\n",
    "            pdfs_proyecto = ''\n",
    "\n",
    "            for doc in documentos:\n",
    "                pdfs_proyecto = pdfs_proyecto+doc+', '\n",
    "\n",
    "            pdfs_proyectos.append(pdfs_proyecto.strip(', '))\n",
    "            n+=1\n",
    "\n",
    "\n",
    "    mexico_puebla['Título'] = titulos_abiertos\n",
    "    mexico_puebla['Estado'] = 'Abierto'\n",
    "    mexico_puebla['Descripción'] = descripciones\n",
    "    mexico_puebla['Link'] = links_abiertos\n",
    "    mexico_puebla['Pdfs'] = pdfs_proyectos\n",
    "    \n",
    "\n",
    "    return mexico_puebla\n"
   ]
  },
  {
   "cell_type": "code",
   "execution_count": 11,
   "metadata": {},
   "outputs": [],
   "source": [
    "estados = ['http://www.concytep.gob.mx/convocatorias-y-programas-abiertos/', 'http://www.concytep.gob.mx/convocatorias-cerradas-y-resultados/page/1/', 'http://www.concytep.gob.mx/convocatorias-cerradas-y-resultados/page/2/', 'http://www.concytep.gob.mx/convocatorias-cerradas-y-resultados/page/3/', 'http://www.concytep.gob.mx/convocatorias-cerradas-y-resultados/page/4/']\n",
    "\n",
    "mexico_pueblaT = pd.DataFrame()\n",
    "\n",
    "puebla1 = mexico_puebla(estados[0])\n",
    "puebla2 = mexico_puebla(estados[1])\n",
    "puebla3 = mexico_puebla(estados[2])\n",
    "puebla4 = mexico_puebla(estados[3])\n",
    "puebla5 = mexico_puebla(estados[4])\n",
    "#len(pdfs_proyectos)"
   ]
  },
  {
   "cell_type": "code",
   "execution_count": 19,
   "metadata": {},
   "outputs": [],
   "source": [
    "frames = [puebla1, puebla2, puebla3, puebla4, puebla5]\n",
    "\n",
    "puebla = pd.concat(frames)\n",
    "puebla.reset_index(drop=True, inplace=True)"
   ]
  },
  {
   "cell_type": "code",
   "execution_count": 29,
   "metadata": {},
   "outputs": [],
   "source": [
    "puebla.to_excel('Mexico_Puebla.xlsx')"
   ]
  },
  {
   "cell_type": "code",
   "execution_count": null,
   "metadata": {},
   "outputs": [],
   "source": []
  }
 ]
}