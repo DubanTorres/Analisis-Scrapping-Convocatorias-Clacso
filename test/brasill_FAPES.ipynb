{
 "metadata": {
  "language_info": {
   "codemirror_mode": {
    "name": "ipython",
    "version": 3
   },
   "file_extension": ".py",
   "mimetype": "text/x-python",
   "name": "python",
   "nbconvert_exporter": "python",
   "pygments_lexer": "ipython3",
   "version": "3.8.5"
  },
  "orig_nbformat": 2,
  "kernelspec": {
   "name": "python3",
   "display_name": "Python 3.8.5 64-bit ('scraping-clacso': conda)",
   "metadata": {
    "interpreter": {
     "hash": "95bb600096007ab9f567dd294a4f24ed256a7f8cd3baa781798d9a0497e2540f"
    }
   }
  }
 },
 "nbformat": 4,
 "nbformat_minor": 2,
 "cells": [
  {
   "cell_type": "code",
   "execution_count": 1,
   "metadata": {},
   "outputs": [],
   "source": [
    "import pandas as pd\n",
    "import numpy as np\n",
    "import requests\n",
    "from bs4 import BeautifulSoup\n",
    "from lxml import html\n",
    "import scrapy\n",
    "from time import sleep\n",
    "import urllib3\n",
    "import json\n",
    "from selenium import webdriver\n",
    "import random"
   ]
  },
  {
   "cell_type": "code",
   "execution_count": 2,
   "metadata": {},
   "outputs": [],
   "source": [
    "def parser(link):\n",
    "\n",
    "    encabezados = {\n",
    "    'user-agent': 'Mozilla/5.0 (X11; Linux x86_64) AppleWebKit/537.36 (KHTML, like Gecko) Chrome/44.0.2403.157 Safari/537.36'\n",
    "    }\n",
    "\n",
    "    resp = requests.get(link, headers=encabezados, verify=False)\n",
    "    resp = resp.text\n",
    "\n",
    "    #soup = get_Soup('https://minciencias.gov.co/convocatorias/todas')\n",
    "    parser = html.fromstring(resp)\n",
    "    urllib3.disable_warnings()\n",
    "\n",
    "    return parser"
   ]
  },
  {
   "cell_type": "code",
   "execution_count": 3,
   "metadata": {
    "tags": []
   },
   "outputs": [
    {
     "output_type": "stream",
     "name": "stdout",
     "text": [
      "276\n",
      "14\n"
     ]
    }
   ],
   "source": [
    "\n",
    "\n",
    "titulos_proyectos = []\n",
    "pdfs_proyectos = []\n",
    "descripcion_proyectos = []\n",
    "fechas_proyectos = []\n",
    "\n",
    "urls_proy = ['https://fapes.es.gov.br/Editais/Encerrados', 'https://fapes.es.gov.br/Editais/Abertos'] \n",
    "\n",
    "for url_proy in urls_proy:\n",
    "    driver = webdriver.Firefox()\n",
    "    driver.get(url_proy)\n",
    "\n",
    "    #pdfs\n",
    "    pdfs = driver.find_elements_by_xpath('//div[contains(@id,\"collapse\")]//tr/th[@class=\"coluna-1\"]/a')\n",
    "        \n",
    "    print(len(pdfs))\n",
    "        \n",
    "    for pdf in pdfs:\n",
    "        pdf = pdf.get_attribute('href')\n",
    "        pdfs_proyectos.append(pdf)\n",
    "\n",
    "    titulos_brutos = driver.find_elements_by_xpath('//div[contains(@id,\"collapse\")]//tr/th[@class=\"coluna-1\"]/a')\n",
    "        \n",
    "        #titulos = []\n",
    "\n",
    "    for tit in titulos_brutos:\n",
    "        tit = tit.get_attribute('title')\n",
    "        titulos_proyectos.append(tit)\n",
    "    \n",
    "    driver.quit()\n",
    "\n"
   ]
  },
  {
   "cell_type": "code",
   "execution_count": 4,
   "metadata": {},
   "outputs": [],
   "source": [
    " Fapes = pd.DataFrame()\n",
    "\n",
    " Fapes['Titulo'] = titulos_proyectos\n",
    " Fapes['Pdfs'] = pdfs_proyectos\n",
    "\n",
    " Fapes.to_excel('basil_Fapes.xlsx')\n"
   ]
  },
  {
   "cell_type": "code",
   "execution_count": 5,
   "metadata": {},
   "outputs": [
    {
     "output_type": "execute_result",
     "data": {
      "text/plain": [
       "                                                Titulo  \\\n",
       "0    Baixar: EDITAL FAPES Nº 01/2021 - PROGRAMA NOS...   \n",
       "1    Baixar: EDITAL FAPES Nº 01/2020 - APOIO A PROJ...   \n",
       "2    Baixar: EDITAL FAPES Nº 01/2020 - APOIO A PROJ...   \n",
       "3    Baixar: EDITAL FAPES Nº 01/2020 - APOIO A PROJ...   \n",
       "4    Baixar: EDITAL FAPES Nº 01/2020 - APOIO A PROJ...   \n",
       "..                                                 ...   \n",
       "285              Baixar: Chamada ERC- Confap-CNPq 2020   \n",
       "286  Baixar: Chamada ERC- Confap-CNPq 2020 (Corrige...   \n",
       "287  Baixar: Chamada ERC- Confap-CNPq 2020 (Corrige...   \n",
       "288  Baixar: Chamada ERC- Confap-CNPq 2020 (DIRETRI...   \n",
       "289  Baixar: Chamada ERC-CONFAP-CNPq 2020_Corrigend...   \n",
       "\n",
       "                                                  Pdfs  \n",
       "0    https://fapes.es.gov.br/Media/fapes/NOSSABOLSA...  \n",
       "1    https://fapes.es.gov.br/Media/fapes/Importacao...  \n",
       "2    https://fapes.es.gov.br/Media/fapes/Importacao...  \n",
       "3    https://fapes.es.gov.br/Media/fapes/Importacao...  \n",
       "4    https://fapes.es.gov.br/Media/fapes/Importacao...  \n",
       "..                                                 ...  \n",
       "285  https://fapes.es.gov.br/Media/fapes/Editais/NU...  \n",
       "286  https://fapes.es.gov.br/Media/fapes/Editais/NU...  \n",
       "287  https://fapes.es.gov.br/Media/fapes/Editais/NU...  \n",
       "288  https://fapes.es.gov.br/Media/fapes/Editais/NU...  \n",
       "289  https://fapes.es.gov.br/Media/fapes/Editais/Ch...  \n",
       "\n",
       "[290 rows x 2 columns]"
      ],
      "text/html": "<div>\n<style scoped>\n    .dataframe tbody tr th:only-of-type {\n        vertical-align: middle;\n    }\n\n    .dataframe tbody tr th {\n        vertical-align: top;\n    }\n\n    .dataframe thead th {\n        text-align: right;\n    }\n</style>\n<table border=\"1\" class=\"dataframe\">\n  <thead>\n    <tr style=\"text-align: right;\">\n      <th></th>\n      <th>Titulo</th>\n      <th>Pdfs</th>\n    </tr>\n  </thead>\n  <tbody>\n    <tr>\n      <th>0</th>\n      <td>Baixar: EDITAL FAPES Nº 01/2021 - PROGRAMA NOS...</td>\n      <td>https://fapes.es.gov.br/Media/fapes/NOSSABOLSA...</td>\n    </tr>\n    <tr>\n      <th>1</th>\n      <td>Baixar: EDITAL FAPES Nº 01/2020 - APOIO A PROJ...</td>\n      <td>https://fapes.es.gov.br/Media/fapes/Importacao...</td>\n    </tr>\n    <tr>\n      <th>2</th>\n      <td>Baixar: EDITAL FAPES Nº 01/2020 - APOIO A PROJ...</td>\n      <td>https://fapes.es.gov.br/Media/fapes/Importacao...</td>\n    </tr>\n    <tr>\n      <th>3</th>\n      <td>Baixar: EDITAL FAPES Nº 01/2020 - APOIO A PROJ...</td>\n      <td>https://fapes.es.gov.br/Media/fapes/Importacao...</td>\n    </tr>\n    <tr>\n      <th>4</th>\n      <td>Baixar: EDITAL FAPES Nº 01/2020 - APOIO A PROJ...</td>\n      <td>https://fapes.es.gov.br/Media/fapes/Importacao...</td>\n    </tr>\n    <tr>\n      <th>...</th>\n      <td>...</td>\n      <td>...</td>\n    </tr>\n    <tr>\n      <th>285</th>\n      <td>Baixar: Chamada ERC- Confap-CNPq 2020</td>\n      <td>https://fapes.es.gov.br/Media/fapes/Editais/NU...</td>\n    </tr>\n    <tr>\n      <th>286</th>\n      <td>Baixar: Chamada ERC- Confap-CNPq 2020 (Corrige...</td>\n      <td>https://fapes.es.gov.br/Media/fapes/Editais/NU...</td>\n    </tr>\n    <tr>\n      <th>287</th>\n      <td>Baixar: Chamada ERC- Confap-CNPq 2020 (Corrige...</td>\n      <td>https://fapes.es.gov.br/Media/fapes/Editais/NU...</td>\n    </tr>\n    <tr>\n      <th>288</th>\n      <td>Baixar: Chamada ERC- Confap-CNPq 2020 (DIRETRI...</td>\n      <td>https://fapes.es.gov.br/Media/fapes/Editais/NU...</td>\n    </tr>\n    <tr>\n      <th>289</th>\n      <td>Baixar: Chamada ERC-CONFAP-CNPq 2020_Corrigend...</td>\n      <td>https://fapes.es.gov.br/Media/fapes/Editais/Ch...</td>\n    </tr>\n  </tbody>\n</table>\n<p>290 rows × 2 columns</p>\n</div>"
     },
     "metadata": {},
     "execution_count": 5
    }
   ],
   "source": [
    "Fapes"
   ]
  },
  {
   "cell_type": "code",
   "execution_count": null,
   "metadata": {},
   "outputs": [],
   "source": []
  }
 ]
}