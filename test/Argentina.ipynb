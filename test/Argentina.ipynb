{
 "metadata": {
  "language_info": {
   "codemirror_mode": {
    "name": "ipython",
    "version": 3
   },
   "file_extension": ".py",
   "mimetype": "text/x-python",
   "name": "python",
   "nbconvert_exporter": "python",
   "pygments_lexer": "ipython3",
   "version": "3.8.5-final"
  },
  "orig_nbformat": 2,
  "kernelspec": {
   "name": "python3",
   "display_name": "Python 3.8.5 64-bit ('scraping-clacso': conda)",
   "metadata": {
    "interpreter": {
     "hash": "95bb600096007ab9f567dd294a4f24ed256a7f8cd3baa781798d9a0497e2540f"
    }
   }
  }
 },
 "nbformat": 4,
 "nbformat_minor": 2,
 "cells": [
  {
   "cell_type": "code",
   "execution_count": 46,
   "metadata": {},
   "outputs": [],
   "source": [
    "\"\"\" Este script extrae información de los campos del HTML \n",
    "    del cvlac a partir de una base de datos inicial de los perfiles\n",
    "\"\"\"\n",
    "# Importar librerias/Modulos\n",
    "import pandas as pd\n",
    "import numpy as np\n",
    "import requests\n",
    "from bs4 import BeautifulSoup\n",
    "from lxml import html\n",
    "import scrapy\n",
    "import time"
   ]
  },
  {
   "cell_type": "code",
   "execution_count": 47,
   "metadata": {},
   "outputs": [],
   "source": [
    "#Find_tags = lambda tag, base: base.find_all(tag)\n",
    "#Find_tag = lambda tag, base: base.find_next(tag)\n",
    "#Find_tags_next = lambda tag, base: base.find_all_next(tag)"
   ]
  },
  {
   "cell_type": "code",
   "execution_count": 48,
   "metadata": {},
   "outputs": [],
   "source": [
    "# Extrae metadatos de la página semilla\n",
    "\n",
    "\n",
    "def pag_principal():\n",
    "    link = 'https://www.argentina.gob.ar/ciencia/financiamiento'\n",
    "\n",
    "    encabezados = {\n",
    "    'user-agent': 'Mozilla/5.0 (X11; Linux x86_64) AppleWebKit/537.36 (KHTML, like Gecko) Chrome/44.0.2403.157 Safari/537.36'\n",
    "    }\n",
    "\n",
    "    resp = requests.get(link, headers=encabezados, verify=False)\n",
    "    resp = resp.text\n",
    "\n",
    "    #soup = get_Soup('https://minciencias.gov.co/convocatorias/todas')\n",
    "    parser = html.fromstring(resp)\n",
    "\n",
    "    return parser\n",
    "\n",
    "\n"
   ]
  },
  {
   "cell_type": "code",
   "execution_count": 49,
   "metadata": {},
   "outputs": [],
   "source": [
    "#parser = pag_principal()\n",
    "\n",
    "def links_pag_principal():\n",
    "\n",
    "    link = 'https://www.argentina.gob.ar/ciencia/financiamiento'\n",
    "    encabezados = {\n",
    "        'user-agent': 'Mozilla/5.0 (X11; Linux x86_64) AppleWebKit/537.36 (KHTML, like Gecko) Chrome/44.0.2403.157 Safari/537.36'\n",
    "        }\n",
    "\n",
    "    resp = requests.get(link, headers=encabezados, verify=False)\n",
    "    resp = resp.text    \n",
    "\n",
    "    response = scrapy.Selector(text=resp)\n",
    "    links = response.xpath('//div[@class=\"col-xs-12 col-sm-6 col-md-6\"]/a/@href').getall()\n",
    "\n",
    "    urls = []\n",
    "    url = 'https://www.argentina.gob.ar'\n",
    "    for link in links:\n",
    "        urls.append(url+link)\n",
    "\n",
    "\n",
    "    return urls\n",
    "#links = parser.xpath('//div[@class=\"col-xs-12 col-sm-6 col-md-6\"]//text()')\n",
    "#links\n",
    "\n",
    "\n",
    "\n",
    "def links_proyectos(link):\n",
    "    #link = 'https://www.argentina.gob.ar/ciencia/financiamiento'\n",
    "\n",
    "    encabezados = {\n",
    "    'user-agent': 'Mozilla/5.0 (X11; Linux x86_64) AppleWebKit/537.36 (KHTML, like Gecko) Chrome/44.0.2403.157 Safari/537.36'\n",
    "    }\n",
    "\n",
    "    resp = requests.get(link, headers=encabezados, verify=False)\n",
    "    resp = resp.text\n",
    "\n",
    "    response = scrapy.Selector(text=resp)\n",
    "    links = response.xpath('//nav/ul/li[@class=\"\"]/a/@href').getall()\n",
    "\n",
    "    #soup = get_Soup('https://minciencias.gov.co/convocatorias/todas')\n",
    "    #parser = html.fromstring(resp)\n",
    "\n",
    "    urls = []\n",
    "    url = 'https://www.argentina.gob.ar'\n",
    "    for link in links:\n",
    "        urls.append(url+link)\n",
    "\n",
    "\n",
    "    return urls\n"
   ]
  },
  {
   "cell_type": "code",
   "execution_count": 50,
   "metadata": {},
   "outputs": [
    {
     "output_type": "execute_result",
     "data": {
      "text/plain": [
       "['https://www.argentina.gob.ar/ciencia/financiamiento/convocatorias-mincyt/premios-raices-leloir-2021',\n",
       " 'https://www.argentina.gob.ar/ciencia/financiamiento/convocatorias-mincyt/Distincion-Argentino-Israeli-en-Innovacion-2020',\n",
       " 'https://www.argentina.gob.ar/ciencia/financiamiento/convocatorias-mincyt/innova_salud_2021',\n",
       " 'https://www.argentina.gob.ar/ciencia/financiamiento/convocatorias-mincyt/subsidios-retorno',\n",
       " 'https://www.argentina.gob.ar/ciencia/financiamiento/convocatorias-mincyt/impaCT.AR',\n",
       " 'https://www.argentina.gob.ar/ciencia/financiamiento/convocatorias-mincyt/subsidios-milstein',\n",
       " 'https://www.argentina.gob.ar/ciencia/financiamiento/convocatorias-mincyt/cites',\n",
       " 'https://www.argentina.gob.ar/convocatorias-abiertas-del-mincyt/proyectos-interinstitucionales-en-temas-estrategicos',\n",
       " 'https://www.argentina.gob.ar/ciencia/financiamiento/convocatorias-mincyt/sistemas-nacionales']"
      ]
     },
     "metadata": {},
     "execution_count": 50
    }
   ],
   "source": [
    "urls = links_pag_principal()\n",
    "\n",
    "links_abiertas = links_proyectos(urls[0])\n",
    "#parser_cerradas = parser(urls[1])\n",
    "links_abiertas"
   ]
  },
  {
   "cell_type": "code",
   "execution_count": 111,
   "metadata": {},
   "outputs": [
    {
     "output_type": "execute_result",
     "data": {
      "text/plain": [
       "''"
      ]
     },
     "metadata": {},
     "execution_count": 111
    }
   ],
   "source": [
    "def parser_proyecto(link):\n",
    "\n",
    "    encabezados = {\n",
    "    'user-agent': 'Mozilla/5.0 (X11; Linux x86_64) AppleWebKit/537.36 (KHTML, like Gecko) Chrome/44.0.2403.157 Safari/537.36'\n",
    "    }\n",
    "\n",
    "    resp = requests.get(link, headers=encabezados, verify=False)\n",
    "    resp = resp.text\n",
    "\n",
    "    parser = html.fromstring(resp)\n",
    "\n",
    "    return parser\n",
    "\n",
    "\n",
    "def titulo(parser):\n",
    "    titulo_proyecto = parser_proyecto.xpath('//h1[@class=\"activities-sidbar\"]//text()')\n",
    "    return titulo_proyecto\n",
    "\n",
    "\n",
    "#titulo_proyecto = titulo_proyecto(parser_proyecto)\n",
    "\n",
    "def descripcion(parser):\n",
    "\n",
    "    descripción = parser_proyecto.xpath('//div[@class=\"\"]//text()')\n",
    "\n",
    "    text = ''\n",
    "    for i in descripción:\n",
    "        text = text+i\n",
    "    \n",
    "    return text\n",
    "\n",
    "def fecha_cierre(parser):\n",
    "    fecha_cierre= parser_proyecto.xpath('//div[@class=\"media-body\"]//text()')\n",
    "    if fecha_cierre[0] != 'Fecha de cierre':\n",
    "         fecha_cierre = 'Ventanilla permanente'\n",
    "    else:\n",
    "        fecha_cierre = fecha_cierre[1]\n",
    "\n",
    "    return fecha_cierre\n",
    "#descripcion = descripcion(parser_proyecto)\n",
    "#descripcion\n",
    "\n",
    "link = links_abiertas[5]\n",
    "\n",
    "def pdf(link):\n",
    "\n",
    "    encabezados = {\n",
    "        'user-agent': 'Mozilla/5.0 (X11; Linux x86_64) AppleWebKit/537.36 (KHTML, like Gecko) Chrome/44.0.2403.157 Safari/537.36'\n",
    "        }\n",
    "\n",
    "    resp = requests.get(link, headers=encabezados, verify=False)\n",
    "    resp = resp.text\n",
    "\n",
    "    response = scrapy.Selector(text=resp)\n",
    "    links = response.xpath('//div[@class=\"downloads panel-pane pane-entity-field pane-node-field-download\"]//@href').getall()\n",
    "    urls=''\n",
    "    if len(links) == 0:\n",
    "        urls = ''\n",
    "    else:\n",
    "        for link in links:\n",
    "            urls = urls+link+ ', '\n",
    "\n",
    "    return urls\n",
    "#parser_proyecto = parser_proyecto(links_abiertas[0])\n",
    "\n",
    "#pdf = parser_proyecto.xpath('//div[@class=\"downloads panel-pane pane-entity-field pane-node-field-download\"]//text()')\n",
    "\n",
    "#pdf\n",
    "#pdf = pdf(links_abiertas[4])\n",
    "#pdf\n"
   ]
  },
  {
   "cell_type": "code",
   "execution_count": null,
   "metadata": {},
   "outputs": [],
   "source": [
    "/html/body/main/div[2]/div/section/div/article/div[11]"
   ]
  }
 ]
}