{
 "metadata": {
  "language_info": {
   "codemirror_mode": {
    "name": "ipython",
    "version": 3
   },
   "file_extension": ".py",
   "mimetype": "text/x-python",
   "name": "python",
   "nbconvert_exporter": "python",
   "pygments_lexer": "ipython3",
   "version": "3.8.5"
  },
  "orig_nbformat": 2,
  "kernelspec": {
   "name": "python3",
   "display_name": "Python 3.8.5 64-bit ('scraping-clacso': conda)",
   "metadata": {
    "interpreter": {
     "hash": "95bb600096007ab9f567dd294a4f24ed256a7f8cd3baa781798d9a0497e2540f"
    }
   }
  }
 },
 "nbformat": 4,
 "nbformat_minor": 2,
 "cells": [
  {
   "cell_type": "code",
   "execution_count": 5,
   "metadata": {},
   "outputs": [],
   "source": [
    "import pandas as pd\n",
    "import numpy as np\n",
    "import requests\n",
    "from bs4 import BeautifulSoup\n",
    "from lxml import html\n",
    "import scrapy\n",
    "from time import sleep\n",
    "import urllib3\n",
    "import json\n",
    "from selenium import webdriver\n",
    "import random"
   ]
  },
  {
   "cell_type": "code",
   "execution_count": 6,
   "metadata": {},
   "outputs": [],
   "source": [
    "def parser(link):\n",
    "\n",
    "    encabezados = {\n",
    "    'user-agent': 'Mozilla/5.0 (X11; Linux x86_64) AppleWebKit/537.36 (KHTML, like Gecko) Chrome/44.0.2403.157 Safari/537.36'\n",
    "    }\n",
    "\n",
    "    resp = requests.get(link, headers=encabezados, verify=False)\n",
    "    resp = resp.text\n",
    "\n",
    "    #soup = get_Soup('https://minciencias.gov.co/convocatorias/todas')\n",
    "    parser = html.fromstring(resp)\n",
    "    urllib3.disable_warnings()\n",
    "\n",
    "    return parser"
   ]
  },
  {
   "cell_type": "code",
   "execution_count": 7,
   "metadata": {},
   "outputs": [
    {
     "output_type": "execute_result",
     "data": {
      "text/plain": [
       "                                               Titulo                   Fecha  \\\n",
       "0   Edital Fapeal/Fapesp 05/2019 – Auxílio à Pesqu...     22 de julho de 2020   \n",
       "1   Edital Fapeal/Confap/FBMG 04/2020 –  Grand Cha...      7 de abril de 2020   \n",
       "2   CONFAP: Chamada Emergencial da União Europeia ...     25 de março de 2020   \n",
       "3                          Edital Confap Maeci14/2019   5 de dezembro de 2019   \n",
       "4   Edital interno para os servidores concursados ...     19 de junho de 2019   \n",
       "..                                                ...                     ...   \n",
       "70                         Edital Confap Maeci14/2019   5 de dezembro de 2019   \n",
       "71  Edital Fapeal/Confap 06/2019 – Mobilidade Conf...  27 de novembro de 2019   \n",
       "72        Edital Fapeal/Confap Nº8/2019 – BiodivERsA:  25 de setembro de 2019   \n",
       "73                    Editais SibratecNANO – 6º Ciclo   2 de setembro de 2019   \n",
       "74  Instituto Nacional do Semiárido – Programa de ...   21 de janeiro de 2019   \n",
       "\n",
       "                                                 link  \\\n",
       "0   https://www.fapeal.br/2020/07/edital-fapeal-fa...   \n",
       "1   https://www.fapeal.br/2020/04/edital-fapeal-co...   \n",
       "2   https://www.fapeal.br/2020/03/confap-chamada-e...   \n",
       "3   https://www.fapeal.br/2019/12/edital-confap-ma...   \n",
       "4   https://www.fapeal.br/2019/06/edital-interno-p...   \n",
       "..                                                ...   \n",
       "70  https://www.fapeal.br/2019/12/edital-confap-ma...   \n",
       "71  https://www.fapeal.br/2019/11/edital-fapeal-co...   \n",
       "72  https://www.fapeal.br/2019/09/edital-fapeal-co...   \n",
       "73  https://www.fapeal.br/2019/09/editais-sibratec...   \n",
       "74  https://www.fapeal.br/2019/01/instituto-nacion...   \n",
       "\n",
       "                                                 pdfs  \n",
       "0   http://www.fapeal.br/wp-content/uploads/2020/0...  \n",
       "1   http://www.fapeal.br/wp-content/uploads/2020/0...  \n",
       "2   http://www.fapeal.br/wp-content/uploads/2020/0...  \n",
       "3                                                      \n",
       "4   http://www.fapeal.br/wp-content/uploads/2019/0...  \n",
       "..                                                ...  \n",
       "70                                                     \n",
       "71  http://www.fapeal.br/wp-content/uploads/2019/0...  \n",
       "72                                                     \n",
       "73                                                     \n",
       "74  http://www.fapeal.br/wp-content/uploads/2019/0...  \n",
       "\n",
       "[75 rows x 4 columns]"
      ],
      "text/html": "<div>\n<style scoped>\n    .dataframe tbody tr th:only-of-type {\n        vertical-align: middle;\n    }\n\n    .dataframe tbody tr th {\n        vertical-align: top;\n    }\n\n    .dataframe thead th {\n        text-align: right;\n    }\n</style>\n<table border=\"1\" class=\"dataframe\">\n  <thead>\n    <tr style=\"text-align: right;\">\n      <th></th>\n      <th>Titulo</th>\n      <th>Fecha</th>\n      <th>link</th>\n      <th>pdfs</th>\n    </tr>\n  </thead>\n  <tbody>\n    <tr>\n      <th>0</th>\n      <td>Edital Fapeal/Fapesp 05/2019 – Auxílio à Pesqu...</td>\n      <td>22 de julho de 2020</td>\n      <td>https://www.fapeal.br/2020/07/edital-fapeal-fa...</td>\n      <td>http://www.fapeal.br/wp-content/uploads/2020/0...</td>\n    </tr>\n    <tr>\n      <th>1</th>\n      <td>Edital Fapeal/Confap/FBMG 04/2020 –  Grand Cha...</td>\n      <td>7 de abril de 2020</td>\n      <td>https://www.fapeal.br/2020/04/edital-fapeal-co...</td>\n      <td>http://www.fapeal.br/wp-content/uploads/2020/0...</td>\n    </tr>\n    <tr>\n      <th>2</th>\n      <td>CONFAP: Chamada Emergencial da União Europeia ...</td>\n      <td>25 de março de 2020</td>\n      <td>https://www.fapeal.br/2020/03/confap-chamada-e...</td>\n      <td>http://www.fapeal.br/wp-content/uploads/2020/0...</td>\n    </tr>\n    <tr>\n      <th>3</th>\n      <td>Edital Confap Maeci14/2019</td>\n      <td>5 de dezembro de 2019</td>\n      <td>https://www.fapeal.br/2019/12/edital-confap-ma...</td>\n      <td></td>\n    </tr>\n    <tr>\n      <th>4</th>\n      <td>Edital interno para os servidores concursados ...</td>\n      <td>19 de junho de 2019</td>\n      <td>https://www.fapeal.br/2019/06/edital-interno-p...</td>\n      <td>http://www.fapeal.br/wp-content/uploads/2019/0...</td>\n    </tr>\n    <tr>\n      <th>...</th>\n      <td>...</td>\n      <td>...</td>\n      <td>...</td>\n      <td>...</td>\n    </tr>\n    <tr>\n      <th>70</th>\n      <td>Edital Confap Maeci14/2019</td>\n      <td>5 de dezembro de 2019</td>\n      <td>https://www.fapeal.br/2019/12/edital-confap-ma...</td>\n      <td></td>\n    </tr>\n    <tr>\n      <th>71</th>\n      <td>Edital Fapeal/Confap 06/2019 – Mobilidade Conf...</td>\n      <td>27 de novembro de 2019</td>\n      <td>https://www.fapeal.br/2019/11/edital-fapeal-co...</td>\n      <td>http://www.fapeal.br/wp-content/uploads/2019/0...</td>\n    </tr>\n    <tr>\n      <th>72</th>\n      <td>Edital Fapeal/Confap Nº8/2019 – BiodivERsA:</td>\n      <td>25 de setembro de 2019</td>\n      <td>https://www.fapeal.br/2019/09/edital-fapeal-co...</td>\n      <td></td>\n    </tr>\n    <tr>\n      <th>73</th>\n      <td>Editais SibratecNANO – 6º Ciclo</td>\n      <td>2 de setembro de 2019</td>\n      <td>https://www.fapeal.br/2019/09/editais-sibratec...</td>\n      <td></td>\n    </tr>\n    <tr>\n      <th>74</th>\n      <td>Instituto Nacional do Semiárido – Programa de ...</td>\n      <td>21 de janeiro de 2019</td>\n      <td>https://www.fapeal.br/2019/01/instituto-nacion...</td>\n      <td>http://www.fapeal.br/wp-content/uploads/2019/0...</td>\n    </tr>\n  </tbody>\n</table>\n<p>75 rows × 4 columns</p>\n</div>"
     },
     "metadata": {},
     "execution_count": 7
    }
   ],
   "source": [
    "fapeal = pd.DataFrame()\n",
    "\n",
    "links_proyectos = []\n",
    "fechas_proyectos = []\n",
    "titulos_proyectos = []\n",
    "pdfs_proyectos = []\n",
    "\n",
    "estados = [\"https://www.fapeal.br/category/editais/editais-vigentes/\", \"https://www.fapeal.br/category/editais/editais-encerrados/\", \"https://www.fapeal.br/category/editais/chamadas-abertas/\"]\n",
    "\n",
    "\n",
    "for estado in estados:\n",
    "\n",
    "\n",
    "\n",
    "    #paginaciṕm\n",
    "    parser_estado = parser(estado)\n",
    "    paginacion = parser_estado.xpath('//div[@class=\"nav-links\"]//text()')\n",
    "    pag = []\n",
    "    for i in paginacion:\n",
    "        if i.isdigit():\n",
    "            pag.append(i)\n",
    "    \n",
    "    pag_max = sorted(pag, reverse=True)[0]\n",
    "\n",
    "    n = 1\n",
    "    while n <= int(pag_max):\n",
    "\n",
    "        end = \"page/\"+ str(n) +\"/\"\n",
    "\n",
    "        if n == 1:\n",
    "            parser_proyectos = parser(estado)\n",
    "        else:\n",
    "            parser_proyectos = parser(estado+end)\n",
    "\n",
    "        titulos = []\n",
    "        fechas = []\n",
    "        links = []\n",
    "\n",
    "        #link\n",
    "        links = sorted(list(set(parser_proyectos.xpath('//div[@class=\"list-left-wrap\"]//a/@href'))),reverse=True)\n",
    "\n",
    "        #Titulos\n",
    "        tits = parser_proyectos.xpath('//div[@class=\"list-left-wrap\"]//h2[@class=\"entry-title\"]/a/text()')\n",
    "        for tit in tits:\n",
    "            titulos.append(tit.strip())\n",
    "\n",
    "        #Fechas\n",
    "        fechas = parser_proyectos.xpath('//div[@class=\"list-left-wrap\"]//div[@class=\"entry-meta\"]/span/text()')\n",
    "\n",
    "        for fecha in fechas:\n",
    "            if fecha.isdigit():\n",
    "                fechas.remove(fecha)\n",
    "        \n",
    "        n+=1\n",
    "\n",
    "        links_proyectos+=links\n",
    "        fechas_proyectos+=fechas\n",
    "        titulos_proyectos+=titulos\n",
    "\n",
    "# pdfs\n",
    "for link in links_proyectos:\n",
    "\n",
    "    parser_proyecto = parser(link)\n",
    "\n",
    "    pdfs_proyecto = ''\n",
    "\n",
    "    pdfs = parser_proyecto.xpath('//a/@href')\n",
    "\n",
    "    for pdf in pdfs:\n",
    "        if pdf.endswith('.pdf'):\n",
    "            pdfs_proyecto = pdfs_proyecto +', '+ pdf\n",
    "\n",
    "    pdfs_proyectos.append(pdfs_proyecto.strip(', '))\n",
    "\n",
    "fapeal['Titulo'] = titulos_proyectos\n",
    "fapeal['Fecha'] = fechas_proyectos\n",
    "fapeal['link'] = links_proyectos\n",
    "fapeal['pdfs'] = pdfs_proyectos\n",
    "\n",
    "fapeal"
   ]
  },
  {
   "cell_type": "code",
   "execution_count": 23,
   "metadata": {},
   "outputs": [],
   "source": [
    "fapeal.to_excel('brasil_Fapeal.xlsx')"
   ]
  },
  {
   "cell_type": "code",
   "execution_count": 14,
   "metadata": {},
   "outputs": [
    {
     "output_type": "execute_result",
     "data": {
      "text/plain": [
       "'https://www.fapeal.br/2019/12/edital-confap-maeci14-2019/'"
      ]
     },
     "metadata": {},
     "execution_count": 14
    }
   ],
   "source": [
    "fapeal['link'][3]"
   ]
  },
  {
   "cell_type": "code",
   "execution_count": null,
   "metadata": {},
   "outputs": [],
   "source": []
  }
 ]
}