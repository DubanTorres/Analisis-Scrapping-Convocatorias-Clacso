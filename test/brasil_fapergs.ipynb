{
 "metadata": {
  "language_info": {
   "codemirror_mode": {
    "name": "ipython",
    "version": 3
   },
   "file_extension": ".py",
   "mimetype": "text/x-python",
   "name": "python",
   "nbconvert_exporter": "python",
   "pygments_lexer": "ipython3",
   "version": "3.8.5"
  },
  "orig_nbformat": 2,
  "kernelspec": {
   "name": "python385jvsc74a57bd095bb600096007ab9f567dd294a4f24ed256a7f8cd3baa781798d9a0497e2540f",
   "display_name": "Python 3.8.5 64-bit ('scraping-clacso': conda)"
  }
 },
 "nbformat": 4,
 "nbformat_minor": 2,
 "cells": [
  {
   "cell_type": "code",
   "execution_count": null,
   "metadata": {},
   "outputs": [],
   "source": [
    "import pandas as pd\n",
    "import numpy as np\n",
    "import requests\n",
    "from bs4 import BeautifulSoup\n",
    "from lxml import html\n",
    "import scrapy\n",
    "from time import sleep\n",
    "import urllib3\n",
    "import json\n",
    "from selenium import webdriver\n",
    "import random"
   ]
  },
  {
   "cell_type": "code",
   "execution_count": null,
   "metadata": {},
   "outputs": [],
   "source": [
    "def parser(link):\n",
    "\n",
    "    encabezados = {\n",
    "    'user-agent': 'Mozilla/5.0 (X11; Linux x86_64) AppleWebKit/537.36 (KHTML, like Gecko) Chrome/44.0.2403.157 Safari/537.36'\n",
    "    }\n",
    "\n",
    "    resp = requests.get(link, headers=encabezados, verify=False)\n",
    "    resp = resp.text\n",
    "\n",
    "    #soup = get_Soup('https://minciencias.gov.co/convocatorias/todas')\n",
    "    parser = html.fromstring(resp)\n",
    "    urllib3.disable_warnings()\n",
    "\n",
    "    return parser"
   ]
  },
  {
   "cell_type": "code",
   "execution_count": null,
   "metadata": {},
   "outputs": [],
   "source": [
    "link = 'https://fapergs.rs.gov.br/encerrados'\n",
    "\n",
    "links_estados = []\n",
    "\n",
    "parser_links = parser(link)\n",
    "\n",
    "parser_links.xpath('//text()')\n",
    "\n",
    "driver = webdriver.Firefox()\n",
    "driver.get(link)\n",
    "\n",
    "links_bruto = driver.find_elements_by_xpath('//article[@class=\"conteudo-lista__item clearfix\"]//header//h2//a')\n",
    "\n",
    "for link in links_bruto:\n",
    "    links_estados.append(link.get_attribute('href'))\n",
    "\n",
    "driver.quit()\n",
    "\n",
    "links_estados.append('https://fapergs.rs.gov.br/em-julgamento')\n",
    "links_estados.append('https://fapergs.rs.gov.br/abertos')"
   ]
  },
  {
   "cell_type": "code",
   "execution_count": null,
   "metadata": {},
   "outputs": [],
   "source": [
    "\n"
   ]
  },
  {
   "cell_type": "code",
   "execution_count": null,
   "metadata": {},
   "outputs": [],
   "source": [
    "\n",
    "#######################\n",
    "#parser_lista_proyectos = parser()\n",
    "fapergs = pd.DataFrame()\n",
    "\n",
    "for link in links_estados:\n",
    "\n",
    "    links_proyectos = []\n",
    "    titulos_proyectos = []\n",
    "\n",
    "    fapergs_estado = pd.DataFrame()\n",
    "\n",
    "    driver = webdriver.Firefox()\n",
    "    driver.get(link)\n",
    "\n",
    "    bases = driver.find_elements_by_xpath('//article[@class=\"conteudo-lista__item clearfix\"]//header//h2//a')\n",
    "\n",
    "    for base in bases:\n",
    "        links_proyectos.append(base.get_attribute('href'))\n",
    "        titulos_proyectos.append(base.text)\n",
    "\n",
    "    estado = driver.find_element_by_xpath('//article[@class=\"conteudo-lista__item clearfix\"]//header//ul//li//a').text\n",
    "\n",
    "    ano = driver.find_element_by_xpath('//article//header[@class=\"artigo__cabecalho\"]//h1').text\n",
    "    if ano == 'Em Julgamento' or ano == 'Abertos':\n",
    "        ano = '2021'\n",
    "    \n",
    "    driver.quit()\n",
    "\n",
    "    fapergs_estado['Título'] = titulos_proyectos\n",
    "    fapergs_estado['Link'] = links_proyectos\n",
    "    fapergs_estado['Año'] = ano\n",
    "    fapergs_estado['Estado'] = estado\n",
    "\n",
    "    fapergs = pd.concat([fapergs, fapergs_estado])\n",
    "\n",
    "fapergs = fapergs.reset_index(drop=True) "
   ]
  },
  {
   "cell_type": "code",
   "execution_count": null,
   "metadata": {
    "tags": [
     "outputPrepend"
    ]
   },
   "outputs": [],
   "source": [
    "pdfs_proyectos = []\n",
    "descripcion_proyectos = []\n",
    "\n",
    "for link in fapergs['Link']:\n",
    "    driver = webdriver.Firefox()\n",
    "    driver.get(link)\n",
    "    ## PDFs\n",
    "    pdfs = driver.find_elements_by_xpath('//div[@class=\"row\"]//a')\n",
    "\n",
    "    pdfs_proy = ''\n",
    "    for p in pdfs:\n",
    "        \n",
    "        p = str(p.get_attribute('href'))\n",
    "        \n",
    "        if p.endswith('.pdf'):\n",
    "            pdfs_proy = pdfs_proy + p + ', '\n",
    "\n",
    "    pdfs_proyectos.append(pdfs_proy.strip(', '))\n",
    "\n",
    "    #Descripción\n",
    "\n",
    "    descripcion_bruta = driver.find_elements_by_xpath('//div[@class=\"row\"]//p')\n",
    "    descripcion = ''\n",
    "    for d in descripcion_bruta:\n",
    "        \n",
    "        d = d.text\n",
    "        descripcion = descripcion + d + ' '\n",
    "\n",
    "    descripcion_proyectos.append(descripcion)\n",
    "\n",
    "    driver.quit()\n",
    "#print(pdfs_proyectos)\n",
    "#print(descripcion_proyectos)\n",
    "fapergs['Pdfs'] = pdfs_proyectos\n",
    "fapergs['Descripción'] = descripcion_proyectos"
   ]
  },
  {
   "cell_type": "code",
   "execution_count": null,
   "metadata": {},
   "outputs": [],
   "source": [
    "fapergs.to_excel('brasil_fapergs.xlsx')"
   ]
  }
 ]
}