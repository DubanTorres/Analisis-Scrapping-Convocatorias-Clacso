{
 "metadata": {
  "language_info": {
   "codemirror_mode": {
    "name": "ipython",
    "version": 3
   },
   "file_extension": ".py",
   "mimetype": "text/x-python",
   "name": "python",
   "nbconvert_exporter": "python",
   "pygments_lexer": "ipython3",
   "version": "3.8.5-final"
  },
  "orig_nbformat": 2,
  "kernelspec": {
   "name": "python3",
   "display_name": "Python 3.8.5 64-bit ('scraping-clacso': conda)",
   "metadata": {
    "interpreter": {
     "hash": "95bb600096007ab9f567dd294a4f24ed256a7f8cd3baa781798d9a0497e2540f"
    }
   }
  }
 },
 "nbformat": 4,
 "nbformat_minor": 2,
 "cells": [
  {
   "cell_type": "code",
   "execution_count": 199,
   "metadata": {},
   "outputs": [],
   "source": [
    "import pandas as pd\n",
    "import numpy as np\n",
    "import requests\n",
    "from bs4 import BeautifulSoup\n",
    "from lxml import html\n",
    "import scrapy\n",
    "import time\n",
    "import urllib3\n",
    "import json"
   ]
  },
  {
   "cell_type": "code",
   "execution_count": 200,
   "metadata": {},
   "outputs": [],
   "source": [
    "def parser(link):\n",
    "\n",
    "    encabezados = {\n",
    "    'user-agent': 'Mozilla/5.0 (X11; Linux x86_64) AppleWebKit/537.36 (KHTML, like Gecko) Chrome/44.0.2403.157 Safari/537.36'\n",
    "    }\n",
    "\n",
    "    resp = requests.get(link, headers=encabezados, verify=False)\n",
    "    resp = resp.text\n",
    "\n",
    "    #soup = get_Soup('https://minciencias.gov.co/convocatorias/todas')\n",
    "    urllib3.disable_warnings()\n",
    "    parser = html.fromstring(resp)\n",
    "\n",
    "\n",
    "    return parser"
   ]
  },
  {
   "cell_type": "code",
   "execution_count": 201,
   "metadata": {},
   "outputs": [],
   "source": [
    "def links_proyectos(parser):\n",
    "\n",
    "    links1 = parser.xpath('//div[@class=\"block5_widget_content row-2-col\"]//a/@href')\n",
    "    \n",
    "    urls1 = []\n",
    "    for link in links1:\n",
    "        if link.startswith('https://'):\n",
    "            urls1.append(link.strip())\n",
    "\n",
    "    urls1 = list(set(urls1))\n",
    "\n",
    "    links_bottons= parser.xpath('//div[@class=\"wpsm_panel-group\"]//a/@href')\n",
    "\n",
    "    urls2 = []\n",
    "    for link in links_bottons:\n",
    "        if link.startswith('https://'):\n",
    "            urls2.append(link.strip())\n",
    "\n",
    "    urls2 = list(set(urls2))\n",
    "\n",
    "    urls1.extend(urls2)\n",
    "\n",
    "    return urls1"
   ]
  },
  {
   "cell_type": "code",
   "execution_count": 202,
   "metadata": {},
   "outputs": [],
   "source": [
    "## Parser semilla y Links Proyectos\n",
    "parsert = parser('https://www.clacso.org/convocatorias/')\n",
    "links_proy = links_proyectos(parsert)"
   ]
  },
  {
   "cell_type": "code",
   "execution_count": 203,
   "metadata": {},
   "outputs": [
    {
     "output_type": "execute_result",
     "data": {
      "text/plain": [
       "'Mes de la mujer: 100 becas de formación para mujeres y disidencias'"
      ]
     },
     "metadata": {},
     "execution_count": 203
    }
   ],
   "source": [
    "### Titulo\n",
    "\n",
    "def titulo(parser_proy):\n",
    "    \n",
    "    titulo = parser_proy.xpath('//header/h1[@class=\"entry-title\"]/text()')\n",
    "\n",
    "    return titulo[0]\n",
    "\n",
    "proy = links_proy[0]\n",
    "parser_proy = parser(proy)\n",
    "tituloT = titulo(parser_proy)\n",
    "tituloT"
   ]
  },
  {
   "cell_type": "code",
   "execution_count": 204,
   "metadata": {},
   "outputs": [
    {
     "output_type": "execute_result",
     "data": {
      "text/plain": [
       "'a) Realizar un artículo analítico que ponga en diálogo los temas trabajados en el seminario con los de los proyectos de investigación de cada estudiante. b) Seleccionar un foro del curso, sintetizando y problematizando los intercambios a partir de las preguntas y la bibliografía trabajadas en el curso. Presentar este análisis en forma de ensayo. c) Elaborar un trabajo monográfico que integre los conceptos o categorías tratadas en el seminario, específicamente. Los y deberán tener una extensión mínima de 10 y una extensión máxima de 15 carillas. El propósito de este video es introducir a los/as interesados/as al tema del seminario. En el siguiente link encontrarán algunos modelos de referencia que podrán ayudarles a realizar el suyo: Consultas: La convocatoria estuvo orientada a la selección de seminarios virtuales cuyos equipos docentes están integrados por investigadores e investigadoras de Redes de Posgrados, Grupos de Trabajo, y profesoras y profesores pertenecientes a Centros de CLACSO. Se recibieron 48 postulaciones, que fueron evaluadas por integrantes del Comité Directivo de CLACSO. Se seleccionaron 10 seminarios a partir de un criterio que combinó la solidez de las propuestas con el equilibrio regional y de género, entre otros aspectos. Los seminarios seleccionados son: ► Cátedra de Estudios del Caribe, Universidad de la Habana, Cuba Yolanda Caridad Wood Pujols ► Centro de Estudios Geo-Históricos y Socio-Culturales, Universidad Nacional Experimental «Rafael Marial Baralt», Venezuela Oriana Del Valle Rincón Parra ► Programa de Posgrado en Estudios Latinoamericanos, Universidad Nacional Autónoma de México Massimo Modonesi ► Departamento de Sociología, Universidad de Chile Miguel Urrutia Fernández ► Instituto de Altos Estudios Sociales, Universidad Nacional de General San Martín, Argentina Maria Cristina Cielo y María Verónica Gago ► Instituto de Filosofia e Ciências Humanas, Universidad Estatal de Campinas, Brasil Thomas Patrick Dwyer y Marco Ferreira Da Costa Lima ► Instituto de Investigaciones Sociales, Universidad Nacional Autónoma de México Brenda Araceli Bustos García ► GT Ecología(s) política(s) desde el Sur/Abya-Yala Nathalia Hernández Vidal ► GT Procesos y metodologías participativas Gisela Signorelli, Mariano Suárez Elías y Alfonso Torres Carrillo ► GT Red de Estudios sobre Pensamiento Críticos Caribeño y Latinoamericano Lucas Machado Fagundes'"
      ]
     },
     "metadata": {},
     "execution_count": 204
    }
   ],
   "source": [
    "## Descripción\n",
    "\n",
    "def descripcion(parser_proy):\n",
    "    descripcion = parser_proy.xpath('//div[@class=\"pf-content\"]//p/text()')\n",
    "\n",
    "    desc_completa = ''\n",
    "    for desc in descripcion:\n",
    "        desc = desc.strip()\n",
    "        if len(desc) != 0: \n",
    "            desc_completa = desc_completa + desc + ' '\n",
    "\n",
    "    return desc_completa.strip()\n",
    "\n",
    "\n",
    "proy = links_proy[40]\n",
    "parser_proy = parser(proy)\n",
    "descripcionT = descripcion(parser_proy)\n",
    "\n",
    "descripcionT"
   ]
  },
  {
   "cell_type": "code",
   "execution_count": 217,
   "metadata": {},
   "outputs": [
    {
     "output_type": "execute_result",
     "data": {
      "text/plain": [
       "'2019'"
      ]
     },
     "metadata": {},
     "execution_count": 217
    }
   ],
   "source": [
    "### Ano convocatoria\n",
    "\n",
    "def ano(parser_proy):\n",
    "    ano = parser_proy.xpath('//script[@class=\"yoast-schema-graph\"]/text()')\n",
    "    diccionario = json.loads(ano[0])\n",
    "    ano = diccionario['@graph'][2]['datePublished'].split('-')[0]\n",
    "\n",
    "    return ano\n",
    "\n",
    "proy = links_proy[45]\n",
    "\n",
    "parser_proy = parser(proy)\n",
    "\n",
    "anoT = ano(parser_proy)\n",
    "\n",
    "anoT"
   ]
  },
  {
   "cell_type": "code",
   "execution_count": 206,
   "metadata": {},
   "outputs": [
    {
     "output_type": "execute_result",
     "data": {
      "text/plain": [
       "Empty DataFrame\n",
       "Columns: [Titulo, Descripción]\n",
       "Index: []"
      ],
      "text/html": "<div>\n<style scoped>\n    .dataframe tbody tr th:only-of-type {\n        vertical-align: middle;\n    }\n\n    .dataframe tbody tr th {\n        vertical-align: top;\n    }\n\n    .dataframe thead th {\n        text-align: right;\n    }\n</style>\n<table border=\"1\" class=\"dataframe\">\n  <thead>\n    <tr style=\"text-align: right;\">\n      <th></th>\n      <th>Titulo</th>\n      <th>Descripción</th>\n    </tr>\n  </thead>\n  <tbody>\n  </tbody>\n</table>\n</div>"
     },
     "metadata": {},
     "execution_count": 206
    }
   ],
   "source": [
    "clacso = pd.DataFrame()\n",
    "\n",
    "clacso['Titulo'] = tituloT\n",
    "clacso['Descripción'] = desc_completa\n",
    "clacso['Ano'] = anoT"
   ]
  },
  {
   "cell_type": "code",
   "execution_count": null,
   "metadata": {},
   "outputs": [],
   "source": []
  }
 ]
}