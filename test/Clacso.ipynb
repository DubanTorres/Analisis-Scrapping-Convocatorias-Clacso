{
 "metadata": {
  "language_info": {
   "codemirror_mode": {
    "name": "ipython",
    "version": 3
   },
   "file_extension": ".py",
   "mimetype": "text/x-python",
   "name": "python",
   "nbconvert_exporter": "python",
   "pygments_lexer": "ipython3",
   "version": "3.8.5-final"
  },
  "orig_nbformat": 2,
  "kernelspec": {
   "name": "python3",
   "display_name": "Python 3.8.5 64-bit ('scraping-clacso': conda)",
   "metadata": {
    "interpreter": {
     "hash": "95bb600096007ab9f567dd294a4f24ed256a7f8cd3baa781798d9a0497e2540f"
    }
   }
  }
 },
 "nbformat": 4,
 "nbformat_minor": 2,
 "cells": [
  {
   "cell_type": "code",
   "execution_count": 151,
   "metadata": {},
   "outputs": [],
   "source": [
    "import pandas as pd\n",
    "import numpy as np\n",
    "import requests\n",
    "from bs4 import BeautifulSoup\n",
    "from lxml import html\n",
    "import scrapy\n",
    "import time"
   ]
  },
  {
   "cell_type": "code",
   "execution_count": 152,
   "metadata": {},
   "outputs": [],
   "source": [
    "def parser(link):\n",
    "\n",
    "    encabezados = {\n",
    "    'user-agent': 'Mozilla/5.0 (X11; Linux x86_64) AppleWebKit/537.36 (KHTML, like Gecko) Chrome/44.0.2403.157 Safari/537.36'\n",
    "    }\n",
    "\n",
    "    resp = requests.get(link, headers=encabezados, verify=False)\n",
    "    resp = resp.text\n",
    "\n",
    "    #soup = get_Soup('https://minciencias.gov.co/convocatorias/todas')\n",
    "    parser = html.fromstring(resp)\n",
    "\n",
    "    return parser"
   ]
  },
  {
   "cell_type": "code",
   "execution_count": 153,
   "metadata": {},
   "outputs": [],
   "source": [
    "\n",
    "\n",
    "def links_proyectos(parser):\n",
    "\n",
    "    links1 = parser.xpath('//div[@class=\"block5_widget_content row-2-col\"]//a/@href')\n",
    "    \n",
    "    urls1 = []\n",
    "    for link in links:\n",
    "        urls1.append(link.strip())\n",
    "\n",
    "    urls1 = list(set(urls1))\n",
    "\n",
    "    links_bottons= parser.xpath('//div[@class=\"wpsm_panel-group\"]//a/@href')\n",
    "\n",
    "    urls2 = []\n",
    "    for link in links_bottons:\n",
    "        if link.startswith('https://'):\n",
    "            urls2.append(link.strip())\n",
    "\n",
    "    urls2 = list(set(urls2))\n",
    "\n",
    "    urls1.extend(urls2)\n",
    "\n",
    "    return urls1"
   ]
  },
  {
   "cell_type": "code",
   "execution_count": 154,
   "metadata": {},
   "outputs": [
    {
     "output_type": "execute_result",
     "data": {
      "text/plain": [
       "['https://www.clacso.org/becas-clacso-unq-para-cursar-estudios-de-maestria-3/',\n",
       " 'https://www.clacso.org/feminismo-y-ambiente-un-campo-emergente-en-los-estudios-feministas-de-america-latina-y-el-caribe/',\n",
       " 'https://www.clacso.org/mes-de-la-mujer-100-becas-de-formacion-para-mujeres-y-disidencias/',\n",
       " 'https://www.clacso.org/convocatoria-de-ensayos-feminismos-y-sindicatos-en-iberoamerica/',\n",
       " 'https://www.clacso.org/casa-tomada-2017/',\n",
       " 'https://www.clacso.org/los-desafios-del-multilateralismo-en-un-mundo-multipolar-y-tiempos-de-crisis/',\n",
       " 'https://www.clacso.org/escuela-de-posgrado-ix-escuela-internacional-de-la-red-iberoamericana-de-posgrados-en-infancia-y-juventud-red-inju/',\n",
       " 'https://www.clacso.org/elites-politicas-fiscales-y-privilegios-en-america-latina-y-el-caribe/',\n",
       " 'https://www.clacso.org/conceptualizing-the-caribbean-from-juan-bosch-and-eric-williams-50-years-from-christopher-columbus-to-fidel-castro/',\n",
       " 'https://www.clacso.org/convocatoria-edelberto-torres-rivas/',\n",
       " 'https://www.clacso.org/category/concursos-y-convocatorias/convocatorias-2019/',\n",
       " 'https://www.clacso.org/concurso-para-la-seleccion-de-seminarios-virtuales-de-posgrado-para-ser-dictados-en-2019/',\n",
       " 'https://www.clacso.org/viii-escuela-internacional-de-la-red-iberoamericana-de-posgrados-en-infancia-y-juventud-redinju/',\n",
       " 'https://www.clacso.org/migraciones-internacionales-politicas-globales-y-desigualdades-sociales-nuevos-escenarios-desde-america-latina/',\n",
       " 'https://www.clacso.org/desigualdades-exclusion-y-crisis-de-sustentabilidad-en-los-sistemas-previsionales-de-america-latina-y-el-caribe/',\n",
       " 'https://www.clacso.org/la-lucha-de-las-mujeres-por-la-igualdad-en-america-latina-y-el-caribe/',\n",
       " 'https://www.clacso.org/paradigmas-criticos-de-la-emancipacion-en-el-caribe-y-america-latina-2/',\n",
       " 'https://www.clacso.org/concurso-para-la-seleccion-de-seminarios-virtuales-de-posgrado/',\n",
       " 'https://www.clacso.org/paradigmas-criticos-de-la-emancipacion-en-el-caribe-y-america-latina/',\n",
       " 'https://www.clacso.org/iii-escuela-internacional-de-posgrado-en-educacion/',\n",
       " 'https://www.clacso.org/expansion-mercantil-capitalista-y-la-amazonia-como-nueva-frontera-de-recursos/',\n",
       " 'https://www.clacso.org/concurso-nacional-de-ensayos-academicos-pasado-y-presente-de-la-obra-de-evita/',\n",
       " 'https://www.clacso.org/pensar-la-pandemia-desde-las-ciencias-sociales-y-las-humanidades/',\n",
       " 'https://www.clacso.org/concurso-para-la-seleccion-de-seminarios-virtuales-de-posgrado-2/',\n",
       " 'https://www.clacso.org/becas-clacso-unq-para-cursar-estudios-de-maestria-2/',\n",
       " 'https://www.clacso.org/becas-clacso-unq-para-cursar-estudios-de-maestria/',\n",
       " 'https://www.clacso.org/concurso-latinoamericano-de-ensayo-sobre-acceso-abierto-2020/',\n",
       " 'https://www.clacso.org/ambiente-cambio-climatico-y-buen-vivir-en-america-latina-y-el-caribe/',\n",
       " 'https://www.clacso.org/mas-alla-del-decenio-de-los-pueblos-afrodescendientes/',\n",
       " 'https://www.clacso.org/concurso-para-la-seleccion-de-diplomas-superiores/',\n",
       " 'https://www.clacso.org/convocatoria-de-ensayos-malvinas-antartida-y-atlantico-sur-colonialismo-soberania-y-desarrollo-en-el-siglo-xxi/',\n",
       " 'https://www.clacso.org/i-escuela-internacional-de-pogrado-generos-sexualidades-y-derechos/',\n",
       " 'https://www.clacso.org/no-violencia-contra-periodistas/',\n",
       " 'https://www.clacso.org/impacto-integral-de-las-sanciones-politicas-economicas-y-financieras-aplicadas-a-la-republica-bolivariana-de-venezuela/',\n",
       " 'https://www.clacso.org/paradigmas-criticos-de-la-emancipacion-en-el-caribe-y-america-latina-3/',\n",
       " 'https://www.clacso.org/category/concursos-y-convocatorias/convocatorias-2020/',\n",
       " 'https://www.clacso.org/escuela-de-posgrado-pueblos-afrodescendientes/',\n",
       " 'https://www.clacso.org/elites-capture-de-letat-et-inegalite-en-amerique-latine-et-dans-les-caraibes/',\n",
       " 'https://www.clacso.org/desafios-para-un-modelo-de-desarrollo-soberano-e-inclusivo-en-america-latina/',\n",
       " 'https://www.clacso.org/convocatoria-clacso-una-murales/',\n",
       " 'https://www.clacso.org/configuracion-del-capital-y-del-poder-en-los-territorios-rurales-de-america-latina/',\n",
       " 'https://www.clacso.org/premio-mercosur-en-investigacion-sobre-politicas-sociales/',\n",
       " 'https://www.clacso.org/convocatoria-a-concurso-internacional-la-trayectoria-y-el-pensamiento-de-carlos-quijano/',\n",
       " 'https://www.clacso.org/concurso-de-investigaciones-sobre-la-relacion-educacion-y-trabajo-anibal-redondo-2019-5ta-edicion/',\n",
       " 'https://www.clacso.org/programa-de-investigacion-y-formacion-en-sistemas-agroecologicos-andinos-2/',\n",
       " 'https://www.clacso.org/desigualdades-y-violencias-de-genero-en-america-latina-y-el-caribe/',\n",
       " 'https://www.clacso.org/tradiciones-y-horizontes-de-la-formacion-docente-y-el-pensamiento-critico/',\n",
       " 'https://www.clacso.org/concurso-para-la-seleccion-de-seminarios-virtuales-de-posgrado-para-ser-dictados-en-2018/',\n",
       " 'https://www.clacso.org/estado-democracia-y-movimientos-sociales-en-america-latina-y-el-caribe-persistencias-y-emergencias-en-el-siglo-xxi/',\n",
       " 'https://www.clacso.org/vii-escuela-internacional-de-la-red-iberoamericana-de-posgrados-en-infancia-y-juventud/',\n",
       " 'https://www.clacso.org/educacion-critica-y-emancipacion/',\n",
       " 'https://www.clacso.org/programa-de-investigacion-y-formacion-en-sistemas-agroecologicos-andinos/',\n",
       " 'https://www.clacso.org/becas-de-investigacion-para-equipos-de-investigadoras-es/',\n",
       " 'https://www.clacso.org/pensar-el-caribe-desde-juan-bosch-y-eric-williams-a-50-anos-de-de-cristobal-colon-a-fidel-castro/',\n",
       " 'https://www.clacso.org/los-sistemas-politicos-latinoamericanos-y-caribenos-ante-la-nueva-ola-de-movilizaciones-y-protestas-sociales/',\n",
       " 'https://www.clacso.org/ix-convocatoria-para-la-conformacion-de-grupos-de-trabajo-de-clacso-2/',\n",
       " 'https://www.clacso.org/category/concursos-y-convocatorias/convocatorias-2017/',\n",
       " 'https://www.clacso.org/coleccion-miradas-latinoamericanas-un-estado-del-debate/',\n",
       " 'https://www.clacso.org/category/concursos-y-convocatorias/convocatorias-2018/',\n",
       " 'https://www.clacso.org/premios-de-ensayos-haydee-santamaria/',\n",
       " 'https://www.clacso.org/elites-captura-del-estado-y-desigualdad-en-america-latina-y-el-caribe/']"
      ]
     },
     "metadata": {},
     "execution_count": 154
    }
   ],
   "source": [
    "parser = parser('https://www.clacso.org/convocatorias/')\n",
    "\n",
    "links_proy = links_proyectos(parser)\n",
    "links_proy\n",
    "\n",
    "#parser_proy = parser(links_proy_2021[0])\n",
    "\n",
    "#links_bottons= parser.xpath('//div[@class=\"wpsm_panel-group\"]//a/@href')\n",
    "\n",
    "#urls = []\n",
    "#for link in links_bottons:\n",
    "#    if link.startswith('https://'):\n",
    "#        urls.append(link.strip())\n",
    "#\n",
    "#urls = list(set(urls))\n",
    "\n",
    "#urls\n",
    "\n"
   ]
  },
  {
   "cell_type": "code",
   "execution_count": 155,
   "metadata": {},
   "outputs": [],
   "source": [
    "#'//a[contains(text(),'Clic para ver')]:'\n",
    "#https://www.clacso.org/convocatorias/#ac_4826_collapse1"
   ]
  },
  {
   "cell_type": "code",
   "execution_count": 156,
   "metadata": {},
   "outputs": [],
   "source": [
    "#parser = parser('https://www.clacso.org/convocatorias/#ac_4826_collapse1')\n",
    "\n",
    "#ll = parser.xpath['//text()']"
   ]
  }
 ]
}