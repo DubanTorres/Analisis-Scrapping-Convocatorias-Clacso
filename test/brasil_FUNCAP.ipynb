{
 "metadata": {
  "language_info": {
   "codemirror_mode": {
    "name": "ipython",
    "version": 3
   },
   "file_extension": ".py",
   "mimetype": "text/x-python",
   "name": "python",
   "nbconvert_exporter": "python",
   "pygments_lexer": "ipython3",
   "version": "3.8.5"
  },
  "orig_nbformat": 2,
  "kernelspec": {
   "name": "python3",
   "display_name": "Python 3.8.5 64-bit ('scraping-clacso': conda)",
   "metadata": {
    "interpreter": {
     "hash": "95bb600096007ab9f567dd294a4f24ed256a7f8cd3baa781798d9a0497e2540f"
    }
   }
  }
 },
 "nbformat": 4,
 "nbformat_minor": 2,
 "cells": [
  {
   "cell_type": "code",
   "execution_count": 25,
   "metadata": {},
   "outputs": [],
   "source": [
    "import pandas as pd\n",
    "import numpy as np\n",
    "import requests\n",
    "from bs4 import BeautifulSoup\n",
    "from lxml import html\n",
    "import scrapy\n",
    "from time import sleep\n",
    "import urllib3\n",
    "import json\n",
    "from selenium import webdriver\n",
    "import random"
   ]
  },
  {
   "cell_type": "code",
   "execution_count": 26,
   "metadata": {},
   "outputs": [],
   "source": [
    "def parser(link):\n",
    "\n",
    "    encabezados = {\n",
    "    'user-agent': 'Mozilla/5.0 (X11; Linux x86_64) AppleWebKit/537.36 (KHTML, like Gecko) Chrome/44.0.2403.157 Safari/537.36'\n",
    "    }\n",
    "\n",
    "    resp = requests.get(link, headers=encabezados, verify=False)\n",
    "    resp = resp.text\n",
    "\n",
    "    #soup = get_Soup('https://minciencias.gov.co/convocatorias/todas')\n",
    "    parser = html.fromstring(resp)\n",
    "    urllib3.disable_warnings()\n",
    "\n",
    "    return parser"
   ]
  },
  {
   "cell_type": "code",
   "execution_count": 27,
   "metadata": {},
   "outputs": [
    {
     "output_type": "execute_result",
     "data": {
      "text/plain": [
       "['http://montenegro.funcap.ce.gov.br/sugba/edital/434.pdf, http://montenegro.funcap.ce.gov.br/sugba/edital/430.pdf, http://montenegro.funcap.ce.gov.br/sugba/edital/426.pdf',\n",
       " 'http://montenegro.funcap.ce.gov.br/sugba/edital/432.pdf']"
      ]
     },
     "metadata": {},
     "execution_count": 27
    }
   ],
   "source": [
    "funcap_proyectos = parser('http://montenegro.funcap.ce.gov.br/sugba/editais/')\n",
    "\n",
    "#Abiertos\n",
    "\n",
    "################################################\n",
    "#Titulos\n",
    "\n",
    "list_titulos = funcap_proyectos.xpath('//div[@class=\"box ui-tabs ui-widget ui-widget-content ui-corner-all\"][1]//tr[1]//text()')\n",
    "titulos_abiertos = []\n",
    "for tit in list_titulos:\n",
    "    tit = tit.strip()\n",
    "    if tit != '':\n",
    "        titulos_abiertos.append(tit)\n",
    "\n",
    "################################################\n",
    "#anos\n",
    "\n",
    "anos = funcap_proyectos.xpath('//div[@class=\"box ui-tabs ui-widget ui-widget-content ui-corner-all\"][1]//tr//td[2]/text()')\n",
    "years_abiertos= []\n",
    "for ano in anos:\n",
    "    if ano == '\\r\\n                                    ':\n",
    "        index = anos.index(ano)+1\n",
    "        years_abiertos.append(anos[index].split('/')[2].strip())\n",
    "\n",
    "################################################\n",
    "#links\n",
    "\n",
    "pdfs_proyectos = funcap_proyectos.xpath('//div[@class=\"box ui-tabs ui-widget ui-widget-content ui-corner-all\"][1]//tr/td/a/@href')\n",
    "\n",
    "corte = []\n",
    "\n",
    "\n",
    "for pdf in pdfs_proyectos:\n",
    "    if pdf.startswith('http://'):\n",
    "        corte.append(pdfs_proyectos.index(pdf))\n",
    "\n",
    "alist_pdfs = []\n",
    "\n",
    "for i in range(len(corte)):\n",
    "    try:\n",
    "        if corte[i] != corte[-1]:\n",
    "            alist_pdfs.append(pdfs_proyectos[corte[i]:corte[i+1]])\n",
    "        else:\n",
    "            alist_pdfs.append(pdfs_proyectos[corte[i]::])\n",
    "    except:\n",
    "        continue\n",
    "\n",
    "pdfs_proyectos_abiertos = []\n",
    "base = 'http://montenegro.funcap.ce.gov.br/sugba'\n",
    "\n",
    "for pdfs in alist_pdfs:\n",
    "    link = ''\n",
    "    for pdf in pdfs:\n",
    "        if pdf.startswith('http'):\n",
    "            continue\n",
    "        else:\n",
    "            pdf = base + pdf.strip('..')\n",
    "            link = link + pdf + ', '\n",
    "\n",
    "    pdfs_proyectos_abiertos.append(link.strip(', '))\n",
    "\n",
    "pdfs_proyectos_abiertos\n"
   ]
  },
  {
   "cell_type": "code",
   "execution_count": 28,
   "metadata": {},
   "outputs": [
    {
     "output_type": "execute_result",
     "data": {
      "text/plain": [
       "107"
      ]
     },
     "metadata": {},
     "execution_count": 28
    }
   ],
   "source": [
    "\n",
    "#Cerrados\n",
    "\n",
    "###################################\n",
    "#Titulos\n",
    "\n",
    "list_titulos = funcap_proyectos.xpath('//div[@class=\"box ui-tabs ui-widget ui-widget-content ui-corner-all\"][2]//tr[1]//text()')\n",
    "titulos_cerrados = []\n",
    "for tit in list_titulos:\n",
    "    tit = tit.strip()\n",
    "    if tit != '':\n",
    "        titulos_cerrados.append(tit)\n",
    "\n",
    "####################################\n",
    "#anos\n",
    "\n",
    "anos = funcap_proyectos.xpath('//div[@class=\"box ui-tabs ui-widget ui-widget-content ui-corner-all\"][2]//tr//td[2]/text()')\n",
    "\n",
    "\n",
    "n = 0\n",
    "alist_anos = []\n",
    "nums = []\n",
    "for ano in anos:\n",
    "    ano = ano.strip()\n",
    "    if len(ano) == 0:\n",
    "        alist_anos.append(str(n))\n",
    "        nums.append(str(n))\n",
    "        n+=1\n",
    "    else:\n",
    "        alist_anos.append(ano)\n",
    "\n",
    "# ------------------------------------\n",
    "\n",
    "years_cerrados = []\n",
    "n = 0\n",
    "\n",
    "for ano in alist_anos:\n",
    "    \n",
    "    if str(n) == ano:\n",
    "        index = alist_anos.index(ano)+1        \n",
    "        \n",
    "        if str(n) != alist_anos[index]:\n",
    "            \n",
    "            years_cerrados.append(alist_anos[index].split('/')[-1])  \n",
    "        \n",
    "        n+=1\n",
    "\n",
    "##########################\n",
    "\"\"\"\n",
    "Tener cuidado con los pdf, por falta de estrucutra en la pagina se imposibilita delimitarlos bien por proyecto, toca verificar de forma manual.\n",
    "\"\"\"\n",
    "#PDFs\n",
    "pdfs_proyectos = funcap_proyectos.xpath('//div[@class=\"box ui-tabs ui-widget ui-widget-content ui-corner-all\"][2]//tr/td/a/@href')\n",
    "\n",
    "\n",
    "pdfs_proyectos2 = []\n",
    "n = 0\n",
    "kk = []\n",
    "for pdf in pdfs_proyectos:\n",
    "    \n",
    "    if 'resultados' not in pdf:\n",
    "        kk.append(pdf)\n",
    "    else:\n",
    "        if len(kk) == 0:\n",
    "            continue\n",
    "        pdfs_proyectos2.append(kk)\n",
    "        kk=[]\n",
    "        \n",
    "\n",
    "pdfs_proyectos_cerrados= []\n",
    "base = 'http://montenegro.funcap.ce.gov.br/sugba'\n",
    "\n",
    "for pdfs in pdfs_proyectos2:\n",
    "    link = ''\n",
    "    for pdf in pdfs:\n",
    "        pdf = base + pdf.strip('..')\n",
    "        link = link + pdf + ', '\n",
    "\n",
    "    pdfs_proyectos_cerrados.append(link.strip(', '))\n",
    "\n",
    "len(pdfs_proyectos_cerrados)\n",
    "\n"
   ]
  },
  {
   "cell_type": "code",
   "execution_count": 29,
   "metadata": {},
   "outputs": [],
   "source": [
    "\n",
    "# Pdfs\n",
    "pdfs_proyectos_abiertos+=pdfs_proyectos_cerrados\n",
    "\n",
    "#anos\n",
    "years_abiertos+=years_cerrados\n",
    "\n",
    "#titulo\n",
    "titulos_abiertos+=titulos_cerrados\n",
    "\n"
   ]
  },
  {
   "cell_type": "code",
   "execution_count": 30,
   "metadata": {},
   "outputs": [
    {
     "output_type": "execute_result",
     "data": {
      "text/plain": [
       "131"
      ]
     },
     "metadata": {},
     "execution_count": 30
    }
   ],
   "source": [
    "for i in range(22):\n",
    "\n",
    "    pdfs_proyectos_abiertos.append('')\n",
    "\n",
    "len(pdfs_proyectos_abiertos)"
   ]
  },
  {
   "cell_type": "code",
   "execution_count": 31,
   "metadata": {},
   "outputs": [],
   "source": [
    "funcap = pd.DataFrame()\n",
    "\n",
    "funcap['Titulo'] = titulos_abiertos\n",
    "funcap['Ano'] = years_abiertos\n",
    "funcap['pdfs'] = pdfs_proyectos_abiertos\n",
    "\n",
    "funcap.to_excel('brasil_funcap.xlsx')"
   ]
  }
 ]
}