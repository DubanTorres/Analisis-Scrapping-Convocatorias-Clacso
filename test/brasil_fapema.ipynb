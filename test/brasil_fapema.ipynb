{
 "metadata": {
  "language_info": {
   "codemirror_mode": {
    "name": "ipython",
    "version": 3
   },
   "file_extension": ".py",
   "mimetype": "text/x-python",
   "name": "python",
   "nbconvert_exporter": "python",
   "pygments_lexer": "ipython3",
   "version": "3.8.5"
  },
  "orig_nbformat": 2,
  "kernelspec": {
   "name": "python3",
   "display_name": "Python 3.8.5 64-bit ('scraping-clacso': conda)",
   "metadata": {
    "interpreter": {
     "hash": "95bb600096007ab9f567dd294a4f24ed256a7f8cd3baa781798d9a0497e2540f"
    }
   }
  }
 },
 "nbformat": 4,
 "nbformat_minor": 2,
 "cells": [
  {
   "cell_type": "code",
   "execution_count": 1,
   "metadata": {},
   "outputs": [],
   "source": [
    "import pandas as pd\n",
    "import numpy as np\n",
    "import requests\n",
    "from bs4 import BeautifulSoup\n",
    "from lxml import html\n",
    "import scrapy\n",
    "from time import sleep\n",
    "import urllib3\n",
    "import json\n",
    "from selenium import webdriver\n",
    "import random"
   ]
  },
  {
   "cell_type": "code",
   "execution_count": 2,
   "metadata": {},
   "outputs": [],
   "source": [
    "def parser(link):\n",
    "\n",
    "    encabezados = {\n",
    "    'user-agent': 'Mozilla/5.0 (X11; Linux x86_64) AppleWebKit/537.36 (KHTML, like Gecko) Chrome/44.0.2403.157 Safari/537.36'\n",
    "    }\n",
    "\n",
    "    resp = requests.get(link, headers=encabezados, verify=False)\n",
    "    resp = resp.text\n",
    "\n",
    "    #soup = get_Soup('https://minciencias.gov.co/convocatorias/todas')\n",
    "    parser = html.fromstring(resp)\n",
    "    urllib3.disable_warnings()\n",
    "\n",
    "    return parser"
   ]
  },
  {
   "cell_type": "code",
   "execution_count": 3,
   "metadata": {},
   "outputs": [
    {
     "output_type": "stream",
     "name": "stderr",
     "text": [
      "/home/duban/anaconda3/envs/scraping-clacso/lib/python3.8/site-packages/urllib3/connectionpool.py:981: InsecureRequestWarning: Unverified HTTPS request is being made to host 'www.fapema.br'. Adding certificate verification is strongly advised. See: https://urllib3.readthedocs.io/en/latest/advanced-usage.html#ssl-warnings\n  warnings.warn(\n"
     ]
    }
   ],
   "source": [
    "estados = ['https://www.fapema.br/category/editais/editais-em-aberto/', 'https://www.fapema.br/category/editais/editais-encerrados/']\n",
    "\n",
    "fapema = pd.DataFrame()\n",
    "titles_proyects = []\n",
    "links_proyects = []\n",
    "\n",
    "for estado in estados:\n",
    " \n",
    "    parser_estado = parser(estado)\n",
    "\n",
    "    ult_page = parser_estado.xpath('//a[@class=\"page-numbers\"]/text()')[-1]\n",
    "    pages = []\n",
    "    for i in range(1, int(ult_page)+1):\n",
    "        page = estado + 'page/' + str(i) + '/'\n",
    "        pages.append(page)\n",
    "\n",
    "    for p in pages:\n",
    "        parser_page = parser(p)\n",
    "\n",
    "        title_proyects_parciales = parser_page.xpath('//div[@class=\"item-content\"]//h3/div/a/text()')\n",
    "\n",
    "        links_proyects_parciales = parser_page.xpath('//div[@class=\"item-content\"]//h3/div/a/@href')\n",
    "    \n",
    "        titles_proyects += title_proyects_parciales\n",
    "        links_proyects += links_proyects_parciales\n",
    "\n",
    "fapema['Títulos'] = titles_proyects\n",
    "fapema['links'] = links_proyects"
   ]
  },
  {
   "cell_type": "code",
   "execution_count": 4,
   "metadata": {},
   "outputs": [
    {
     "output_type": "stream",
     "name": "stdout",
     "text": [
      "136\n136\n"
     ]
    }
   ],
   "source": [
    "pdfs_proyects = []\n",
    "description_proyects = []\n",
    "\n",
    "for link in links_proyects:\n",
    "\n",
    "    parser_proyect = parser(link)\n",
    "    try:\n",
    "        pdf_proyect = parser_proyect.xpath('//div[@class=\"pdfjs-fullscreen\"]/a/@href')[0].split('&')[0]\n",
    "    except:\n",
    "        pdf_proyect=''\n",
    "\n",
    "    descripcion_proyect_bruta = parser_proyect.xpath('//p/text()')\n",
    "    descripcion_proyect_bruta2 = parser_proyect.xpath('//tr/td//text()')\n",
    "\n",
    "    descripcion_proyect = ''\n",
    "\n",
    "    for d in descripcion_proyect_bruta:\n",
    "        d = d.strip()\n",
    "        descripcion_proyect = descripcion_proyect + d + ' '\n",
    "\n",
    "    for d in descripcion_proyect_bruta2:\n",
    "        d = d.strip()\n",
    "        if d != '':\n",
    "            descripcion_proyect = descripcion_proyect + d + ' '\n",
    "\n",
    "\n",
    "    pdfs_proyects.append(descripcion_proyect.strip(' '))\n",
    "    description_proyects.append(descripcion_proyect)\n",
    "\n",
    "print(len(pdfs_proyects))\n",
    "print(len(description_proyects))"
   ]
  },
  {
   "cell_type": "code",
   "execution_count": 5,
   "metadata": {},
   "outputs": [],
   "source": [
    "fapema['PDFs'] = pdfs_proyects\n",
    "fapema['Descripción'] = description_proyects"
   ]
  },
  {
   "cell_type": "code",
   "execution_count": 6,
   "metadata": {},
   "outputs": [],
   "source": [
    "fapema.to_excel('Brasil_FAPEMA.xlsx')"
   ]
  },
  {
   "cell_type": "code",
   "execution_count": null,
   "metadata": {},
   "outputs": [],
   "source": []
  }
 ]
}