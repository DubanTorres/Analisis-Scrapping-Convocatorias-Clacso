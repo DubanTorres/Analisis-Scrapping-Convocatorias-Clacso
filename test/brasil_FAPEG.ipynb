{
 "metadata": {
  "language_info": {
   "codemirror_mode": {
    "name": "ipython",
    "version": 3
   },
   "file_extension": ".py",
   "mimetype": "text/x-python",
   "name": "python",
   "nbconvert_exporter": "python",
   "pygments_lexer": "ipython3",
   "version": "3.8.5"
  },
  "orig_nbformat": 2,
  "kernelspec": {
   "name": "python3",
   "display_name": "Python 3.8.5 64-bit ('scraping-clacso': conda)",
   "metadata": {
    "interpreter": {
     "hash": "95bb600096007ab9f567dd294a4f24ed256a7f8cd3baa781798d9a0497e2540f"
    }
   }
  }
 },
 "nbformat": 4,
 "nbformat_minor": 2,
 "cells": [
  {
   "cell_type": "code",
   "execution_count": 1,
   "metadata": {},
   "outputs": [],
   "source": [
    "import pandas as pd\n",
    "import numpy as np\n",
    "import requests\n",
    "from bs4 import BeautifulSoup\n",
    "from lxml import html\n",
    "import scrapy\n",
    "from time import sleep\n",
    "import urllib3\n",
    "import json\n",
    "from selenium import webdriver\n",
    "import random"
   ]
  },
  {
   "cell_type": "code",
   "execution_count": 2,
   "metadata": {},
   "outputs": [],
   "source": [
    "def parser(link):\n",
    "\n",
    "    encabezados = {\n",
    "    'user-agent': 'Mozilla/5.0 (X11; Linux x86_64) AppleWebKit/537.36 (KHTML, like Gecko) Chrome/44.0.2403.157 Safari/537.36'\n",
    "    }\n",
    "\n",
    "    resp = requests.get(link, headers=encabezados, verify=False)\n",
    "    resp = resp.text\n",
    "\n",
    "    #soup = get_Soup('https://minciencias.gov.co/convocatorias/todas')\n",
    "    parser = html.fromstring(resp)\n",
    "    urllib3.disable_warnings()\n",
    "\n",
    "    return parser"
   ]
  },
  {
   "cell_type": "code",
   "execution_count": 3,
   "metadata": {},
   "outputs": [],
   "source": [
    "link = 'http://www.fapeg.go.gov.br/categoria/editais/'\n",
    "parser_general = parser(link)\n",
    "numpags = parser_general.xpath('//a[@class=\"page-numbers\"]/text()')\n",
    "numpags = int(numpags[-1])\n",
    "numpags\n",
    "\n",
    "titulos_proyectos = []\n",
    "links_proyectos = []\n",
    "fechas_proyectos = []\n",
    "n = 1\n",
    "while n <= numpags:\n",
    "\n",
    "    link_pag = link + 'page/' + str(n) + '/'\n",
    "    \n",
    "\n",
    "    parser_pag = parser(link_pag)\n",
    "\n",
    "    title = parser_pag.xpath('//h1[@class=\"entry-title\"]/a/text()')\n",
    "\n",
    "    link_proy = parser_pag.xpath('//h1[@class=\"entry-title\"]/a/@href')\n",
    "\n",
    "    date = parser_pag.xpath('//time[@class=\"entry-date\"]/text()')\n",
    "\n",
    "    titulos_proyectos += title\n",
    "    links_proyectos += link_proy\n",
    "    fechas_proyectos += date\n",
    "\n",
    "    n+=1 "
   ]
  },
  {
   "cell_type": "code",
   "execution_count": 5,
   "metadata": {},
   "outputs": [],
   "source": [
    "pdfs_proyectos = []\n",
    "\n",
    "\n",
    "for link in links_proyectos:\n",
    "    \n",
    "    \n",
    "    parser_proyecto = parser(links_proyectos[0])\n",
    "\n",
    "    pdfs_brutos= parser_proyecto.xpath('//a/@href')\n",
    "\n",
    "    pdfs_proyecto = ''\n",
    "\n",
    "    for pdf in pdfs_brutos:\n",
    "        if pdf.endswith('.pdf'):\n",
    "\n",
    "            pdfs_proyecto = pdfs_proyecto + pdf + ', '\n",
    "        \n",
    "    pdfs_proyectos.append(pdfs_proyecto.strip(', '))\n"
   ]
  },
  {
   "cell_type": "code",
   "execution_count": 8,
   "metadata": {},
   "outputs": [],
   "source": [
    "fapeg = pd.DataFrame()\n",
    "\n",
    "fapeg['Título'] = titulos_proyectos\n",
    "fapeg['Link'] = links_proyectos\n",
    "fapeg['Fecha'] = fechas_proyectos\n",
    "fapeg['Pdfs'] = pdfs_proyectos\n",
    "\n",
    "fapeg.to_excel('brasil_Fapeg.xlsx')"
   ]
  }
 ]
}