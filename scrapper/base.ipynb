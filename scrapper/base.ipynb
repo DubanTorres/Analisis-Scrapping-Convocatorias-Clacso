{
 "metadata": {
  "language_info": {
   "codemirror_mode": {
    "name": "ipython",
    "version": 3
   },
   "file_extension": ".py",
   "mimetype": "text/x-python",
   "name": "python",
   "nbconvert_exporter": "python",
   "pygments_lexer": "ipython3",
   "version": "3.8.5-final"
  },
  "orig_nbformat": 2,
  "kernelspec": {
   "name": "python3",
   "display_name": "Python 3.8.5 64-bit ('scraping-clacso': conda)",
   "metadata": {
    "interpreter": {
     "hash": "95bb600096007ab9f567dd294a4f24ed256a7f8cd3baa781798d9a0497e2540f"
    }
   }
  }
 },
 "nbformat": 4,
 "nbformat_minor": 2,
 "cells": [
  {
   "cell_type": "code",
   "execution_count": null,
   "metadata": {},
   "outputs": [],
   "source": [
    "\"\"\" Este script extrae información de los campos del HTML \n",
    "    del cvlac a partir de una base de datos inicial de los perfiles\n",
    "\"\"\"\n",
    "# Importar librerias/Modulos\n",
    "import pandas as pd\n",
    "import numpy as np\n",
    "import requests\n",
    "from bs4 import BeautifulSoup\n",
    "from lxml import html"
   ]
  },
  {
   "cell_type": "code",
   "execution_count": null,
   "metadata": {},
   "outputs": [],
   "source": [
    "Find_tags = lambda tag, base: base.find_all(tag)\n",
    "Find_tag = lambda tag, base: base.find_next(tag)\n",
    "Find_tags_next = lambda tag, base: base.find_all_next(tag)"
   ]
  },
  {
   "cell_type": "code",
   "execution_count": null,
   "metadata": {},
   "outputs": [],
   "source": [
    "# Cambia encabezados\n",
    "\n",
    "encabezados = {\n",
    "    'user-agent': 'Mozilla/5.0 (X11; Linux x86_64) AppleWebKit/537.36 (KHTML, like Gecko) Chrome/44.0.2403.157 Safari/537.36'\n",
    "}"
   ]
  },
  {
   "cell_type": "code",
   "execution_count": null,
   "metadata": {},
   "outputs": [],
   "source": [
    "def get_Soup(url):\n",
    "    \"\"\" \n",
    "        La función get_Soup extrae el HTML del cvlac.\n",
    "    \"\"\"\n",
    "\n",
    "    resp = requests.get(url, headers=encabezados, verify=False)\n",
    "    html = resp.text\n",
    "    soup = BeautifulSoup(html, 'html.parser')\n",
    "    return soup"
   ]
  },
  {
   "cell_type": "code",
   "execution_count": null,
   "metadata": {
    "tags": []
   },
   "outputs": [],
   "source": [
    "def Add_field(base, tag):\n",
    "    \"\"\" \n",
    "        La función Add_field busca el campo destrito por el \"tag\" dentro el HTML\n",
    "        y lo devuelve.\n",
    "    \"\"\"\n",
    "\n",
    "    try:\n",
    "        field = Find_tag(tag, base)\n",
    "    except IndexError:\n",
    "        field = ''\n",
    "    return field"
   ]
  },
  {
   "cell_type": "code",
   "execution_count": null,
   "metadata": {},
   "outputs": [],
   "source": [
    "resp = requests.get('https://minciencias.gov.co/convocatorias/todas', headers=encabezados, verify=False)\n",
    "resp = resp.text\n",
    "\n",
    "#soup = get_Soup('https://minciencias.gov.co/convocatorias/todas')\n",
    "parser = html.fromstring(resp)"
   ]
  },
  {
   "cell_type": "code",
   "execution_count": null,
   "metadata": {},
   "outputs": [],
   "source": []
  }
 ]
}