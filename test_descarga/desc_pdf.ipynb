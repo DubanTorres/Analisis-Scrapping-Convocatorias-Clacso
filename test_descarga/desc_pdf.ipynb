{
 "metadata": {
  "language_info": {
   "codemirror_mode": {
    "name": "ipython",
    "version": 3
   },
   "file_extension": ".py",
   "mimetype": "text/x-python",
   "name": "python",
   "nbconvert_exporter": "python",
   "pygments_lexer": "ipython3",
   "version": "3.8.5"
  },
  "orig_nbformat": 2,
  "kernelspec": {
   "name": "python385jvsc74a57bd095bb600096007ab9f567dd294a4f24ed256a7f8cd3baa781798d9a0497e2540f",
   "display_name": "Python 3.8.5 64-bit ('scraping-clacso': conda)"
  }
 },
 "nbformat": 4,
 "nbformat_minor": 2,
 "cells": [
  {
   "cell_type": "code",
   "execution_count": 1,
   "metadata": {},
   "outputs": [],
   "source": [
    "import pandas as pd\n",
    "import os\n",
    "import wget\n",
    "import ssl\n",
    "import fitz\n",
    "import ocrmypdf\n",
    "\n",
    "# This restores the same behavior as before.\n",
    "#context = ssl._create_unverified_context()\n",
    "\n",
    "ssl._create_default_https_context = ssl._create_unverified_context\n"
   ]
  },
  {
   "cell_type": "code",
   "execution_count": 2,
   "metadata": {},
   "outputs": [],
   "source": [
    "directoria_base = '/home/duban/Workspace/Analisis-Scrapping-Convocatorias-Clacso/test_descarga'\n",
    "pais = 'Colombia'\n",
    "\n",
    "os.mkdir(pais)\n"
   ]
  },
  {
   "cell_type": "code",
   "execution_count": 3,
   "metadata": {},
   "outputs": [
    {
     "output_type": "execute_result",
     "data": {
      "text/plain": [
       "                                              Título  \\\n",
       "0  Convocatoria nacional para el reconocimiento y...   \n",
       "1  Convocatoria Regional de Investigación Aplicad...   \n",
       "2  Convocatoria para la formación de capital huma...   \n",
       "3  Convocatoria fortalecimiento de vocaciones y f...   \n",
       "4  Convocatoria para el fortalecimiento de CTeI e...   \n",
       "\n",
       "                                           Links pdf  \n",
       "0  https://minciencias.gov.co/sites/default/files...  \n",
       "1  https://minciencias.gov.co/sites/default/files...  \n",
       "2  https://minciencias.gov.co/sites/default/files...  \n",
       "3  https://minciencias.gov.co/sites/default/files...  \n",
       "4  https://minciencias.gov.co/sites/default/files...  "
      ],
      "text/html": "<div>\n<style scoped>\n    .dataframe tbody tr th:only-of-type {\n        vertical-align: middle;\n    }\n\n    .dataframe tbody tr th {\n        vertical-align: top;\n    }\n\n    .dataframe thead th {\n        text-align: right;\n    }\n</style>\n<table border=\"1\" class=\"dataframe\">\n  <thead>\n    <tr style=\"text-align: right;\">\n      <th></th>\n      <th>Título</th>\n      <th>Links pdf</th>\n    </tr>\n  </thead>\n  <tbody>\n    <tr>\n      <th>0</th>\n      <td>Convocatoria nacional para el reconocimiento y...</td>\n      <td>https://minciencias.gov.co/sites/default/files...</td>\n    </tr>\n    <tr>\n      <th>1</th>\n      <td>Convocatoria Regional de Investigación Aplicad...</td>\n      <td>https://minciencias.gov.co/sites/default/files...</td>\n    </tr>\n    <tr>\n      <th>2</th>\n      <td>Convocatoria para la formación de capital huma...</td>\n      <td>https://minciencias.gov.co/sites/default/files...</td>\n    </tr>\n    <tr>\n      <th>3</th>\n      <td>Convocatoria fortalecimiento de vocaciones y f...</td>\n      <td>https://minciencias.gov.co/sites/default/files...</td>\n    </tr>\n    <tr>\n      <th>4</th>\n      <td>Convocatoria para el fortalecimiento de CTeI e...</td>\n      <td>https://minciencias.gov.co/sites/default/files...</td>\n    </tr>\n  </tbody>\n</table>\n</div>"
     },
     "metadata": {},
     "execution_count": 3
    }
   ],
   "source": [
    "colombia = pd.read_excel('Colombia.xlsx')\n",
    "colombia = colombia[['Título' ,'Links pdf']][0:5]\n",
    "colombia "
   ]
  },
  {
   "cell_type": "code",
   "execution_count": 4,
   "metadata": {
    "tags": []
   },
   "outputs": [
    {
     "output_type": "stream",
     "name": "stdout",
     "text": [
      "1 Convocatoria nacional para el reconocimiento y medición de grupos de investigación, desarrollo tecnológico o de innovación y para el reconocimiento de investigadores del Sistema Nacional de Ciencia, Tecnología e Innovación - SNCTI 2021\n"
     ]
    }
   ],
   "source": [
    "base_pais = '/home/duban/Workspace/Analisis-Scrapping-Convocatorias-Clacso/test_descarga/Colombia'\n",
    "proyectos = []\n",
    "\n",
    "for count, proyecto in enumerate(colombia['Título'][0:1]):\n",
    "    \n",
    "    print(count+1, proyecto)\n",
    "    try:\n",
    "        proyectos.append(str(count+1) + '.' + proyecto)\n",
    "        os.mkdir(base_pais+ '/' + str(count+1) + '.' + proyecto)\n",
    "    except FileExistsError:\n",
    "        continue"
   ]
  },
  {
   "cell_type": "code",
   "execution_count": 9,
   "metadata": {
    "tags": []
   },
   "outputs": [
    {
     "output_type": "stream",
     "name": "stderr",
     "text": [
      "Scanning contents: 100%|██████████| 4/4 [00:00<00:00, 68.52page/s]\n",
      "OCR:   0%|          | 0.0/4.0 [00:00<?, ?page/s]\n",
      "Scanning contents: 100%|██████████| 22/22 [00:00<00:00, 162.92page/s]\n",
      "This PDF has a fillable form. Chances are it is a pure digital document that does not need OCR.\n",
      "OCR:   0%|          | 0.0/22.0 [00:00<?, ?page/s]\n",
      "Scanning contents: 100%|██████████| 22/22 [00:00<00:00, 239.32page/s]\n",
      "OCR:   0%|          | 0.0/22.0 [00:00<?, ?page/s]\n",
      "Scanning contents: 100%|██████████| 275/275 [00:01<00:00, 165.55page/s]\n",
      "OCR:   0%|          | 0.0/275.0 [00:00<?, ?page/s]\n",
      "Scanning contents: 100%|██████████| 34/34 [00:00<00:00, 75.97page/s]\n",
      "OCR:   0%|          | 0.0/34.0 [00:00<?, ?page/s]\n",
      "Scanning contents: 100%|██████████| 5/5 [00:00<00:00, 278.21page/s]\n",
      "OCR: 100%|██████████| 5.0/5.0 [00:03<00:00,  1.32page/s]\n",
      "PDF/A conversion:  80%|████████  | 4/5 [00:00<00:00, 12.04page/s]\n",
      "PDF/A conversion: 100%|██████████| 5/5 [00:00<00:00,  9.35page/s]\n",
      "JPEGs: 0image [00:00, ?image/s]\n",
      "JBIG2: 0item [00:00, ?item/s]\n",
      "Scanning contents: 100%|██████████| 5/5 [00:00<00:00, 262.25page/s]\n",
      "OCR: 100%|██████████| 5.0/5.0 [00:03<00:00,  1.56page/s]\n",
      "PDF/A conversion:  80%|████████  | 4/5 [00:00<00:00, 11.90page/s]\n",
      "PDF/A conversion: 100%|██████████| 5/5 [00:00<00:00,  9.22page/s]\n",
      "JPEGs: 0image [00:00, ?image/s]\n",
      "JBIG2: 0item [00:00, ?item/s]\n"
     ]
    }
   ],
   "source": [
    "texto_proyectos = []\n",
    " \n",
    "colombia['Links pdf'][0:1] = colombia['Links pdf'][0:1] + ', https://minciencias.gov.co/sites/default/files/upload/convocatoria/resolucion_1202-2018.pdf'\n",
    "\n",
    "base_proyecto = '/home/duban/Workspace/Analisis-Scrapping-Convocatorias-Clacso/test_descarga/Colombia/'\n",
    "n = 0\n",
    "for count_proyecto, alist_link in enumerate(colombia['Links pdf'][0:1]):\n",
    "    pdfs = []\n",
    "    pdfs_brutos = alist_link.split(', ')\n",
    "    for p in pdfs_brutos:\n",
    "        if p.endswith('.pdf'):\n",
    "            pdfs.append(p)\n",
    "     #print(count_proyecto+1, pdfs)\n",
    "    texto_proyecto = ''\n",
    "\n",
    "    for count_link, pdf in enumerate(pdfs):\n",
    "         #print(str(count_proyecto+1) + '.' + str(count_link+1), pdf)\n",
    "        path = base_proyecto + proyectos[n] + '/' + str(count_proyecto+1) + '.' + str(count_link+1) + '.' + pdf.split('/')[-1]\n",
    "        wget.download(pdf, path)\n",
    "         \n",
    "         ### Extrae Texto\n",
    "        try:\n",
    "            ocrmypdf.ocr(path, path, deskew=True)\n",
    "        except:\n",
    "             doc = fitz.open(path)\n",
    "\n",
    "        doc = fitz.open(path)\n",
    "         \n",
    "        for pagina in doc:\n",
    "            text = pagina.getText()#.encode('utf8')\n",
    "            texto_proyecto = texto_proyecto + str(text) + ' '\n",
    "        texto_proyecto = texto_proyecto.strip(' ')\n",
    "     \n",
    "    texto_proyectos.append(texto_proyecto)\n",
    "    n+=1\n",
    "#salida.close()"
   ]
  },
  {
   "cell_type": "code",
   "execution_count": 11,
   "metadata": {},
   "outputs": [],
   "source": [
    "f = open('.txt', 'w')\n",
    "f.write(str(texto_proyectos[0]))\n",
    "f.close()"
   ]
  },
  {
   "cell_type": "code",
   "execution_count": 7,
   "metadata": {},
   "outputs": [
    {
     "output_type": "execute_result",
     "data": {
      "text/plain": [
       "roceso creativo con soportes conceptuales y teóricos. Además garantiza la dimensión colectiva  -y por lo tanto \\nacadémica- del proyecto, a través de diferentes instancias de discusión y diálogo. Igualmente, permite articular de \\nuna forma ordenada diferentes formas de registro, transmisión y visibilización del proceso creativo y sus resultados.  \\n  \\n \\nANEXO 3 \\nCódigo: M601PR04G01 \\nVersión: 00 \\nPágina: 29 de 34 \\n \\n \\nSISTEMA DE GESTIÓN INSTITUCIONAL DEL MINISTERIO DE CIENCIA, TECNOLOGÍA E INNOVACIÓN \\nUna vez descargado o impreso este documento se considerará una COPIA NO CONTROLADA \\n \\nM304PR05G01 \\nFecha: 2020-07-21 \\nVersión: 06 \\n \\nLa Investigación + Creación puede partir de un impulso creativo o de una pregunta de investigación, cualquiera de \\nestos dos puntos de partida es válido. En cualquier caso debe conducir tanto a un resultado de creación como a \\nconocimiento transferible por medios proposicionales.  \\n \\nAquí, se hace importante destacar el pensamiento de diseño, pues es la forma en que piensan los diseñadores, en \\ndonde la creación es aceptada como un desafío, y en donde la investigación aborda el proyecto de una forma de \\nhacer y pensar distinta al pensamiento convencional o analítico, destacando en lo cognitivo, un razonamiento \\ninductivo, deductivo y abductivo. En la lógica aristotélica, el razonamiento inductivo es la generalización a partir de \\ninstancias específicas, mientras que el razonamiento deductivo implica inferencia a partir de premisas lógicas. En \\nel pensamiento analítico, se subestima el razonamiento abductivo. Charles Pierce (1905; citado en Hoffmann, 1995) \\ndescribe la lógica abductiva como “el proceso de formación de una hipótesis explicativa. Es la única operación \\nlógica que introduce una idea nueva”. \\n \\n El pensamiento de diseño, por tanto, combina la generación de nuevas ideas con su análisis y una evaluación de \\ncómo se aplican en general. Un diseñador utiliza la abducción para generar una idea o una serie de ideas, la \\ndeducción para seguir estas ideas hasta sus consecuencias lógicas y predecir sus resultados, probar las ideas en \\nla práctica y la inducción para generalizar a partir de los resultados, y todo esto de manera cíclica (Martin, R. 2006).  \\nEn lo actitudinal, el pensamiento creativo y de diseño ve cada problema como una oportunidad para la invención y \\nse preocupa por encontrar la mejor respuesta posible, dadas las habilidades, el tiempo y los recursos del equipo, y \\nrequiere por supuesto que requerirá la invención de nuevas alternativas; mientras que en el pensamiento analítico \\ncada restricción es un obstáculo, Roger Martin sostiene que las restricciones juegan un papel positivo en el proceso \\nde diseño y creación en lugar de limitarlo. En lo interpersonal  se hace énfasis en la empatía con los demás como \\nparte del proceso creativo y de diseño, pues se trabaja con otras personas entendiendo las perspectivas de los \\nusuarios, sus necesidades y experiencias, y colaborando e intercambiando con sus compañeros para un \\nentendimiento y construcción conjunta de trabajo en equipo (Kelley, 2001). \\n \\nLa apropiación social del conocimiento abordada desde la Investigación + Creación, es un proceso de diálogo e \\nintercambio de saberes que produce resultados, conocimientos y experiencias, que pueden ser obtenidos a partir \\nde la experimentación directa con el objeto de conocimiento, y por lo tanto promueven un sentimiento de \\nidentificación y apropiación. Dentro de este proceso con respecto a los resultados, se evidencia que los mismos \\nrequieren apropiación desde lo sensible, y propician escenarios de apropiación creativa, fomentando la posibilidad \\nde generar transformaciones sociales. Sin embargo, es importante reseñar que para ambos casos se requiere la \\nimplementación de una percepción vivencial  que posibilite la interrelación de las ideas y construcciones flexibles, \\nasociadas otros modos de percepción, lenguaje y sensibilidades en el acto de co-crear. \\n \\n \\n \\n \\n \\n \\n \\n \\n \\n  \\n \\nANEXO 3 \\nCódigo: M601PR04G01 \\nVersión: 00 \\nPágina: 30 de 34 \\n \\n \\nSISTEMA DE GESTIÓN INSTITUCIONAL DEL MINISTERIO DE CIENCIA, TECNOLOGÍA E INNOVACIÓN \\nUna vez descargado o impreso este documento se considerará una COPIA NO CONTROLADA \\n \\nM304PR05G01 \\nFecha: 2020-07-21 \\nVersión: 06 \\n \\n3 REFERENCIAS \\n \\n\\uf0b7 Acevedo, C. G. (2013). Creación colectiva, una didáctica del teatro 2012. Revista Colombiana de las Artes \\n\\uf0b7 Escénicas Vol. 7, 168 - 178. \\n\\uf0b7 Agudo-Martínez, M. (2002). Contagio del geometrismo: el Cubismo de las Artes Plásticas y la Arquitectura.. \\nEGA. Revista de Expresión Gráfica Arquitectónica. 1. 79-88. \\n\\uf0b7 Arroyo Castro, E., Salazar Berruecos, O., Campos Reyes, O.; García Moreno, G. (2018). La representación \\nen la historia de la facultad de arquitectura. Seminario de representación del proyecto. La representación \\ndel proyecto, la representación del territorio (págs. 24-34). Bogotá: Universidad Nacional de Colombia. \\n\\uf0b7 Asprilla, L. I. (2013). El proyecto de creación-investigación. La investigación desde las artes. Santiago de \\nCali: Institución Universitaria del Valle del Cauca \\n\\uf0b7 Asprilla, L.I. (2020). Mapeando el proyecto. Una propuesta desde las artes, la práctica pedagógica y la \\ninvestigación. Serie: La producción de conocimiento desde las artes, Vol.II. Bogotá, Colombia: Autor. \\n\\uf0b7 Arías, J. (2016) “En la ventana,” Catálogo de Obras Artísticas, Pontificia Universidad Javeriana. Revisado \\n13 de noviembre de 2020, https://catalogodeobras.javeriana.edu.co/catalogodeobras/items/show/362. \\n\\uf0b7 Avila, R. (2012). La tarea hermenéutica de las ciencias humanas. Signo y pensamiento Vol. XXX (enero- \\njunio), pp. 44-60 \\n\\uf0b7 Ballesteros, M; Beltrán, E. M. (2018). ¿Investigar creando? Una guía para la investigación-creación en la \\nacademia. Bogotá: Universidad El Bosque. \\n\\uf0b7 Bonilla Estévez, H.A; Cabanzo, F., Delgado, T.C.; Hernández Salgar, O. A.; Niño Soto, A. S. Salamanca, \\nJ. (2018) Apuntes sobre el debate académico en Colombia en el proceso de reconocimiento gubernamental \\nde la creación como práctica de generación de nuevo conocimiento, desarrollo tecnológico e innovación. \\n\\uf0b7 Cuadernos de Música, Artes Visuales y Artes Escénicas / Volumen 13 - Número 1 / Enero - Junio de 2018 \\n/ ISSN 1794-6670/ Bogotá, D.C., Colombia / pp. 281-294 \\n\\uf0b7 Bonilla Estévez, H.A; Cabanzo, F., Delgado, T.C.; Hernández Salgar, O. A.; Niño Soto, A. S. & Salamanca, \\n\\uf0b7 J. (2019). Investigación-creación en Colombia: la formulación del “nuevo” modelo de medición para la \\nproducción intelectual en artes, arquitectura y diseño Revista KEPES Año 16 No. 20, págs. 673-704 ISSN: \\n1794-7111(Impreso) ISSN: 2462-8115 (En línea) DOI: 10.17151/kepes.2019.16.20.24 \\n\\uf0b7 Borgdorff, Henk. (2010). El debate sobre investigación en las artes. Cairón. Revista de ciencias de la danza \\nNo 13, 25-46.  \\n\\uf0b7 Breithaupt, Fritz. (2011) Culturas de la Empatía, Katz editores, Madrid \\n\\uf0b7 CEPAL (S.F) Acerca de la innovación social. Recuperado de: https://www.cepal.org/es/temas/innovacion- \\nsocial/acerca-innovacion-social \\n\\uf0b7 COLCIENCIAS. (2018). Conformación y resultados del trabajo realizado por la Mesa de artes, Arquitectura \\ny Diseño. Anexo 4. En Modelo de medición de grupos de investigación, desarrollo tecnológico o de \\ninnovación y de reconocimiento de investigadores del sistema nacional de ciencia, tecnología e innovación, \\naño 2018. Bogotá: COLCIENCIAS. \\n\\uf0b7 Collins, H. (2018). Creative research: the theory and practice of research for the creative industries. London: \\nBloomsbury Publishing. \\n\\uf0b7 Convers, L., Ochoa, J.S. 2018. Gaiteros y tamboleros. Bogotá: Editorial Pontificia Universidad Javeriana. \\n  \\n \\nANEXO 3 \\nCódigo: M601PR04G01 \\nVersión: 00 \\nPágina: 31 de 34 \\n \\n \\nSISTEMA DE GESTIÓN INSTITUCIONAL DEL MINISTERIO DE CIENCIA, TECNOLOGÍA E INNOVACIÓN \\nUna vez descargado o impreso este documento se considerará una COPIA NO CONTROLADA \\n \\nM304PR05G01 \\nFecha: 2020-07-21 \\nVersión: 06 \\n \\n\\uf0b7 FECYT (2015). Manual de Frascati. Propuesta de norma práctica para encuestas de investigación y \\ndesarrollo experimental. Madrid: Fundación Española para la Ciencia y la Tecnología (FECYT). \\n\\uf0b7 Delgado, T. C., Beltrán, E. M., Ballesteros, M., & Salcedo, J. (2015). La investigación-creación como \\nescenario de convergencia entre modos de generación de conocimiento. Iconofacto, 11(17). \\n\\uf0b7 Derrida, J. (1986). Jacques Derrida: leer lo ilegible. (C. González, Entrevistador) \\n\\uf0b7 Derrida, J (1986). De la gramatología. México: Siglo XXI Editores \\n\\uf0b7 Dewey, J. (2008). El arte como experiencia. Barcelona: Paidós \\n\\uf0b7 De Saussure, F. (1945). Curso de lingüística general. Buenos Aires: Losada \\n\\uf0b7 De Sousa Santos, B. (2003). Crítica de la razón indolente. Contra el desperdicio de la experiencia. Bilbao: \\nDesclée de Brower \\n\\uf0b7 Diéguez, I. (2010). Desmontando escenas: estrategias performativas de investigación y creación. Telón de \\nFondo, 1-9. \\n\\uf0b7 Eagleton, T. (1988). Una introducción a la teoría literaria. México: Fondo de cultura económica \\n\\uf0b7 Edelmann, K. T., & Michel, R. (2007). Design research now. \\n\\uf0b7 Escobar, A. (2016), Autonomía y diseño la realización de lo comunal. Universidad del Cauca, Popayán. \\n\\uf0b7 Esquivel, C. (2014). Teatro la Candelaria: memoria y presente del teatro colombiano. Tesis doctoral. \\nUniversidad \\nAutónoma \\nde \\nBarcelona. \\nDisponible \\nen: \\nhttps://www.tdx.cat/bitstream/handle/10803/283533/ce1de1.pdf \\n\\uf0b7 Feral, J. (2009). Investigación y creación. Estudis escènics: quaderns de l\\'Institut del Teatre (35), 321-326. \\n\\uf0b7 Foucault, M. (1988). “El sujeto y el poder”. Revista mexicana de sociología Vol. 50 No. 3 (julio-septiembre), \\npp. 3-20. \\n\\uf0b7 Fracasso, L; Aperador, D y Cabanzo, F (2018). Cartografía digital interactiva de lo patrimonible: del relato \\nal “dato” y viceversa en V International symposium on innovation in interactive media. Recuperado de: \\nhttps://files.cercomp.ufg.br/weby/up/777/o/36_-_Liliana_Fracasso.pdf \\n\\uf0b7 Gadamer, H. G. (1991). La actualidad de lo bello. Barcelona: Paidós \\n\\uf0b7 Gadamer, H.G. (1995). El giro hermenéutico. Madrid: Cátedra \\n\\uf0b7 Galassi, J. (2008). Una discusión en torno a verdad en ciencias y humanidades. Alpha No. 26 pp. 217-232. \\nDisponible en https://scielo.conicyt.cl/scielo.php?script=sci_arttext&pid=S0718-22012008000100014 \\n\\uf0b7 Geertz, C. (2009). La interpretación de las culturas. Barcelona: Gedisa \\n\\uf0b7 Hannula, Mika; Suoranta, Juha; Vadén, Tere. (2005). Artistic Research. Theories, Methods and Practices. \\n\\uf0b7 Espoo, Finlandia: Academia de Bellas Artes de Helsinki y Universidad de Gotemburgo. \\n\\uf0b7 Henderson, Rebecca M. and Clark, Kim B. (1990) ‘Architectural Innovation: The Reconfiguration of \\n\\uf0b7 Existing Product Technologies and the Failure of Established Firms’, in Administrative Science Quarterly, \\n\\uf0b7 35, pp.9-30. \\n\\uf0b7 Hernández García, I. (2013). La creación artística y su relación con la investigación y la innovación. La \\ninvestigación en la Pontificia Universidad Javeriana. Congreso sobre la Creación artística. Bogotá: \\nPontificia Universidad Javeriana. \\n\\uf0b7 Hernández Hernández, Fernando. (2006). Campos, temas y metodologías para la investigación \\nrelacionada con las artes. En: Bases para un debate sobre investigación artística. Madrid: Ministerio de \\nEducación y Ciencia de España, pp. 9-50. \\n  \\n \\nANEXO 3 \\nCódigo: M601PR04G01 \\nVersión: 00 \\nPágina: 32 de 34 \\n \\n \\nSISTEMA DE GESTIÓN INSTITUCIONAL DEL MINISTERIO DE CIENCIA, TECNOLOGÍA E INNOVACIÓN \\nUna vez descargado o impreso este documento se considerará una COPIA NO CONTROLADA \\n \\nM304PR05G01 \\nFecha: 2020-07-21 \\nVersión: 06 \\n \\n\\uf0b7 Hernández, O. (2014). La creación y la investigación artística en instituciones colombianas de educación \\nsuperior. \\nA \\ncontratiempo. \\n(23). \\nRecuperado \\nde: \\nhttp://www.musigrafia.org/acontratiempo/?ediciones/revista-23/artculos/la-creacin-y-la-investigacin- \\nartística-en-instituciones-colombianas-de-educacin-superior.html \\n\\uf0b7 Hernández, O. 2010. “De currulaos modernos y ollas podridas” en Músicas y prácticas sonoras del Pacífico \\nAfrocolombiano. Bogotá: Editorial Pontificia Universidad Javeriana, 2010, 237-286 \\n\\uf0b7 Jandová, J.; Volek, E. (2000). Signo, función y valor. Estética y semiótica del arte de Jan Mukarovsky. \\nBogotá: Plaza y Janés. \\n\\uf0b7 Lacan, J. (1971). Escritos 1 y 2. México: Siglo XXI Editores. \\n\\uf0b7 Le Goff, J. (2005). Pensar la historia: modernidad, presente, progreso. Madrid: Paidós Ibérica. \\n\\uf0b7 Levi-Strauss, C. (1979). Antropología estructural. México: Siglo XXI Editores. \\n\\uf0b7 López-Cano, R; San Cristóbal U. (2014). Investigación artística en música: problemas, métodos, \\nexperiencias y modelos. Barcelona: FONCA y ESMUC \\n\\uf0b7 Mäkelä, M. (2007). Knowing Through Making: The role of artefact in practice-led research. Know Techn Pol, \\n2007(20), 157-163. \\n\\uf0b7 Martí Arís, C. (2006). La cimbra y el arco. Barcelona, España: Fundación Caja de Arquitectos. \\n\\uf0b7 Mesa Betancur, A. (2018). Proyecto sin destino. Para una teoría del proyecto en las disciplinas \\nproyectuales. Med, Colombia: Ed. Bolivariana. \\n\\uf0b7 MINCIENCIAS (2020). Lineamientos para una Política de Apropiación Social del Conocimiento. Bogotá: \\nMinisterio de Ciencias, Tecnología e Innovación. \\n\\uf0b7 MINCIENCIAS \\n(s.f.) \\nTransferencia \\nde \\nconocimiento \\ny \\ntecnología. \\n<https://minciencias.gov.co/viceministerios/conocimiento/direccion_transferencia/transferencia- \\nconocimiento>.Consulta 20 de octubre de 2020 \\n\\uf0b7 Ministerio de Ciencia, Tecnología e Innovación (2020). Plataforma ScienTI - Colombia, Dirección de \\nGeneración de Conocimiento, año 2020. \\n\\uf0b7 Mondoñedo, L. (2017). Revisión de las definiciones de proposición y enunciado en su relación con las \\nmatemáticas. Revista Digital de Investigación en Docencia Universitaria, Vol.11 No. 1. \\n\\uf0b7 Morris, R. (2016). The fundamentals of product design. Bloomsbury Publishing. \\n\\uf0b7 Moya Méndez, M. (2001) “La originalidad en el arte. Aproximación al concepto de Hauser”. Revista Islas \\n43(129): 95-101 \\n\\uf0b7 Múnera Barrios, M.G. (2016), “Investigación-creación y políticas para la producción creativa y cultural Sobre \\nlas relaciones entre la creatividad, la innovación y la investigación-creación”, en ICONOFACTO Vol. 12 No \\n18 /pp 7-25.http://dx.doi.org/10.18566/iconofac .v12n18.a01 \\n\\uf0b7 Muñoz, B. (1998). “Dodecafonismo y sociedad de entreguerras. El reflejo del conflicto social en el Wozzeck \\nde Alban Berg”. Revista Española de Investigaciones Sociológicas 84(98): 259-274. \\n\\uf0b7 Ochoa, F. 2013. El libro de las gaitas largas. Bogotá: Editorial Pontificia Universidad Javeriana \\n\\uf0b7 Ochoa, J.S; Hernández, O. y Convers, L. 2014. Arrullos y currulaos. Bogotá: Editorial Pontificia Universidad \\nJaveriana \\n\\uf0b7 Orozco-Álvarez, M. (2019), “la relación de los dibujos creados por los indígenas nasa de Colombia con los \\ntextos impresos que los acompañan”, en Cultura impresa y visualidad: tecnología gráfica, géneros y \\nagentes editoriales. Universidad Nacional Autónoma de México. CDMX \\n  \\n \\nANEXO 3 \\nCódigo: M601PR04G01 \\nVersión: 00 \\nPágina: 33 de 34 \\n \\n \\nSISTEMA DE GESTIÓN INSTITUCIONAL DEL MINISTERIO DE CIENCIA, TECNOLOGÍA E INNOVACIÓN \\nUna vez descargado o impreso este documento se considerará una COPIA NO CONTROLADA \\n \\nM304PR05G01 \\nFecha: 2020-07-21 \\nVersión: 06 \\n \\n\\uf0b7 Pereira, G. (2009). Historia y método: la hermenéutica y los usos del pasado. Historia y Sociedad No. 17, \\n\\uf0b7 (julio-diciembre), pp. 15-35 \\n\\uf0b7 Puentes, E. et al. (2020). Arte, cultura y conocimiento. Propuestas del Foco de Industrias Creativas y \\nCulturales. Bogotá: Editorial Pontificia Universidad Javeriana. \\n\\uf0b7 Ricoeur, P. (2002). Del texto a la acción. Ensayos hermenéuticos II. México: Fondo de cultura económica \\n\\uf0b7 Rojas Osorio, C. (2001). “Giro lingüístico/Giro hermenéutico/Giro semiológico”. Revista de filosofía, No 57, \\npágs. 63-76. Disponible en https://dialnet.unirioja.es/servlet/articulo?codigo=2449474 \\n\\uf0b7 Santamaría, C. “La \"Nueva Música Colombiana\": La redefinición de lo nacional en épocas de la world \\nmusic”, El artista. Revista de investigaciones e música y artes plásticas No. 4 (2007): 6-24 \\n\\uf0b7 Silva, E. (2005). Paul Ricoeur y los desplazamientos de la hermenéutica. Teología y vida 46/1 pp. 167-205. \\nRecuperado de: https://scielo.conicyt.cl/scielo.php?script=sci_arttext&pid=S0049-34492005000100008 \\n\\uf0b7 Simó S.; Restrepo A.; Leonardo J. (2007). El colegio del cuerpo: la danza como lenguaje de justicia \\nocupacional. TOG (A Coruña) [revista Internet]. [fecha de la consulta-]; (6): [22 p.]. Disponible en: \\nhttp://www.revistatog.es/ojs/index.php/tog/num6 \\n\\uf0b7 Snow, C.P. (2000). Las dos culturas. Buenos Aires: Nueva Visión \\n\\uf0b7 Tascón, H. 2008. A marimbiar. Método OIO para tocar la marimba de chonta. Cali: Fondo mixto para la \\ncultura y las artes del Valle del Cauca. \\n\\uf0b7 Tresserras, J. (2015). Diseño e interdisciplinariedad. Una visión. On the Waterfront. Public Art. Urban \\n\\uf0b7 Design. Civic Participation. Urban Regeneration, 34(2), 5-18. \\n\\uf0b7 Vidal Moranta, Tomeu, Pol Urrútia, Enric (2005). La apropiación del espacio: una propuesta teórica para \\ncomprender la vinculación entre las personas y los lugares. Anuario de Psicología, vol. 36, núm. 3, \\ndiciembre, 2005, pp. 281-297 \\n\\uf0b7 Verganti R. (2009) Design-driven innovation: Changing the rules of competition by radically innovating what \\nthings mean. Boston. USA. Harvard Business Press \\n\\uf0b7 Franz, H.W., Hochgerner, J., Howaldt, J (2012). Challenge Social Innovation. Potentials for Business, Social \\nEntrepreneurship, Welfare and Civil Society (pp. 1-15). Berlin: Springer. \\n\\uf0b7 Goldenburg, M., Kamoji, W., Orton, L. and Williamson, M. (2009). Social Innovation in Canada: An Update, \\nCPRN Research Report. \\n\\uf0b7 Howaldt, J., Kopp R., Schwarz, M. (2015). Social Innovations as Drivers of Social Change - Exploring \\nTarde’s Contribution to Social Innovation Theory Building. In A. Nicholls, J. Simon, & M. Gabriel (Eds.). New \\n\\uf0b7 Frontiers in Social Innovation Research (pp. 29-51). London: Palgrave Macmillan. \\n\\uf0b7 Howaldt, J. and Schwarz, M. (2010) ‘Soziale Innovation’ im Fokus. Skizze eines gesellschaftstheoretisch \\ninspirierten Forschungskonzepts. [Social Innovation in Focus. A Sketch of a research concept inspired by \\neconomics theory] Bielefeld: Transcript Verlag. \\n\\uf0b7 Hobsbawm, E. (1999), The Age of Extremes: The Short Twentieth Century 1914–1991. London: Abacus \\nPress. \\n\\uf0b7 Manzini, E., Meroni, A. (2014). Catalysing social resources for sustainable changes: Social innovation and \\ncommunity-centred design. In C. Vezzoli, C. Kothala, A. Srinivasan (Eds.), Product- Service Design for \\nSustainability (pp. 362-379). LENS, Learning Network on Sustainability. UK: Greenleaf Publishing Limited. \\n\\uf0b7 Moulaert, F. (2009). Social Innovation Institutionally Embedded, Territorially (re)produced. \\n\\uf0b7 Social innovation and territorial development. Ashgate. Pp 11-24. \\n  \\n \\nANEXO 3 \\nCódigo: M601PR04G01 \\nVersión: 00 \\nPágina: 34 de 34 \\n \\n \\nSISTEMA DE GESTIÓN INSTITUCIONAL DEL MINISTERIO DE CIENCIA, TECNOLOGÍA E INNOVACIÓN \\nUna vez descargado o impreso este documento se considerará una COPIA NO CONTROLADA \\n \\nM304PR05G01 \\nFecha: 2020-07-21 \\nVersión: 06 \\n \\n\\uf0b7 Nicholls, A. (ed.) (2006). Social Entrepreneurship: New Models of Sustainable Social Change. Oxford: \\nOxford University Press. \\n\\uf0b7 Tarde, G. (2009) Die Gesetze der Nachahmung [The Law of Imitation]. (pp. 26). Frankfurt a.M.: Suhrkamp. \\n\\uf0b7 Zapf, W. (2003) ‘Sozialer Wandel’, [Social Change] in Schäfers, B. (ed.), Grundbegriffe der Soziologie (pp. \\n427). Opladen: Leske Budrich. \\n \\n']"
      ]
     },
     "metadata": {},
     "execution_count": 7
    }
   ],
   "source": [
    "texto_proyectos"
   ]
  },
  {
   "cell_type": "code",
   "execution_count": 10,
   "metadata": {},
   "outputs": [
    {
     "output_type": "execute_result",
     "data": {
      "text/plain": [
       "'https://minciencias.gov.co/sites/default/files/upload/convocatoria/resolucion_de_apertura_0613-2021.pdf, https://minciencias.gov.co/sites/default/files/upload/convocatoria/terminos_de_referencia_-_firmados_3.pdf, https://minciencias.gov.co/sites/default/files/upload/convocatoria/terminos_de_referencia_-_version_consulta_7.pdf, https://minciencias.gov.co/sites/default/files/upload/convocatoria/anexo_1_-_documento_conceptual_2021.pdf, https://minciencias.gov.co/sites/default/files/upload/convocatoria/anexo_3_-_la_investigacion_creacion_-_definiciones_y_reflexiones.pdf, https://minciencias.gov.co/sites/default/files/upload/convocatoria/resolucion_1202-2018.pdf, https://minciencias.gov.co/sites/default/files/upload/convocatoria/resolucion_1202-2018.pdf'"
      ]
     },
     "metadata": {},
     "execution_count": 10
    }
   ],
   "source": [
    "colombia['Links pdf'][0:1][0]"
   ]
  },
  {
   "cell_type": "code",
   "execution_count": null,
   "metadata": {},
   "outputs": [],
   "source": []
  }
 ]
}