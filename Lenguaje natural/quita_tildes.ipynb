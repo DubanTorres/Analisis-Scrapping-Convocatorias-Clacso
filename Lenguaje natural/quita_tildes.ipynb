{
 "metadata": {
  "language_info": {
   "codemirror_mode": {
    "name": "ipython",
    "version": 3
   },
   "file_extension": ".py",
   "mimetype": "text/x-python",
   "name": "python",
   "nbconvert_exporter": "python",
   "pygments_lexer": "ipython3",
   "version": "3.8.5"
  },
  "orig_nbformat": 4,
  "kernelspec": {
   "name": "python3",
   "display_name": "Python 3.8.5 64-bit ('mapeo': conda)"
  },
  "interpreter": {
   "hash": "07e426f5dfa75c7d184a0c07a57c03f70bdc3577d02f7ef97c5d01d23dbe9f71"
  }
 },
 "nbformat": 4,
 "nbformat_minor": 2,
 "cells": [
  {
   "cell_type": "code",
   "execution_count": 8,
   "metadata": {},
   "outputs": [],
   "source": [
    "import pandas as pd"
   ]
  },
  {
   "cell_type": "code",
   "execution_count": 9,
   "metadata": {},
   "outputs": [],
   "source": [
    "gramas = pd.read_csv('/home/duban/Workspace/Mapeo/Mapeo-OCPT/1. lenguaje controlado/gramas4 - parcial.csv')"
   ]
  },
  {
   "cell_type": "code",
   "execution_count": 10,
   "metadata": {},
   "outputs": [
    {
     "output_type": "stream",
     "name": "stdout",
     "text": [
      "¡HOLA MUNDO!\n"
     ]
    }
   ],
   "source": [
    "def normalize(s):\n",
    "    replacements = (\n",
    "        (\"á\", \"a\"),\n",
    "        (\"é\", \"e\"),\n",
    "        (\"í\", \"i\"),\n",
    "        (\"ó\", \"o\"),\n",
    "        (\"ú\", \"u\"),\n",
    "        (\"Á\", \"A\"),\n",
    "        (\"É\", \"E\"),\n",
    "        (\"Í\", \"I\"),\n",
    "        (\"Ó\", \"O\"),\n",
    "        (\"Ú\", \"U\"),\n",
    "    )\n",
    "    for a, b in replacements:\n",
    "        s = s.replace(a, b)\n",
    "        \n",
    "    return s"
   ]
  },
  {
   "cell_type": "code",
   "execution_count": 11,
   "metadata": {},
   "outputs": [],
   "source": [
    "\n",
    "sin_tilde = []\n",
    "for grama in gramas['Gramas']:\n",
    "    sin_tilde.append(normalize(grama))\n",
    "\n",
    "gramas['Gramas sin tilde'] = sin_tilde"
   ]
  },
  {
   "cell_type": "code",
   "execution_count": 38,
   "metadata": {},
   "outputs": [],
   "source": [
    "kk = pd.DataFrame()\n",
    "kk['Gramas'] = gramas['Gramas sin tilde'].drop_duplicates().tolist()\n",
    "\n",
    "kk.to_csv('gramas_sin_tilde.csv')\n"
   ]
  },
  {
   "cell_type": "code",
   "execution_count": 39,
   "metadata": {},
   "outputs": [
    {
     "output_type": "execute_result",
     "data": {
      "text/plain": [
       "             Gramas\n",
       "0         licencias\n",
       "1          efectivo\n",
       "2            fondos\n",
       "3           funcion\n",
       "4              pago\n",
       "...             ...\n",
       "64881  desempefiare\n",
       "64882  microcefalia\n",
       "64883      pulpitis\n",
       "64884         cadss\n",
       "64885  concretarlos\n",
       "\n",
       "[64886 rows x 1 columns]"
      ],
      "text/html": "<div>\n<style scoped>\n    .dataframe tbody tr th:only-of-type {\n        vertical-align: middle;\n    }\n\n    .dataframe tbody tr th {\n        vertical-align: top;\n    }\n\n    .dataframe thead th {\n        text-align: right;\n    }\n</style>\n<table border=\"1\" class=\"dataframe\">\n  <thead>\n    <tr style=\"text-align: right;\">\n      <th></th>\n      <th>Gramas</th>\n    </tr>\n  </thead>\n  <tbody>\n    <tr>\n      <th>0</th>\n      <td>licencias</td>\n    </tr>\n    <tr>\n      <th>1</th>\n      <td>efectivo</td>\n    </tr>\n    <tr>\n      <th>2</th>\n      <td>fondos</td>\n    </tr>\n    <tr>\n      <th>3</th>\n      <td>funcion</td>\n    </tr>\n    <tr>\n      <th>4</th>\n      <td>pago</td>\n    </tr>\n    <tr>\n      <th>...</th>\n      <td>...</td>\n    </tr>\n    <tr>\n      <th>64881</th>\n      <td>desempefiare</td>\n    </tr>\n    <tr>\n      <th>64882</th>\n      <td>microcefalia</td>\n    </tr>\n    <tr>\n      <th>64883</th>\n      <td>pulpitis</td>\n    </tr>\n    <tr>\n      <th>64884</th>\n      <td>cadss</td>\n    </tr>\n    <tr>\n      <th>64885</th>\n      <td>concretarlos</td>\n    </tr>\n  </tbody>\n</table>\n<p>64886 rows × 1 columns</p>\n</div>"
     },
     "metadata": {},
     "execution_count": 39
    }
   ],
   "source": [
    "kk"
   ]
  },
  {
   "cell_type": "code",
   "execution_count": null,
   "metadata": {},
   "outputs": [],
   "source": []
  },
  {
   "cell_type": "code",
   "execution_count": null,
   "metadata": {},
   "outputs": [],
   "source": []
  }
 ]
}